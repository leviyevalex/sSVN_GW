{
 "cells": [
  {
   "cell_type": "markdown",
   "metadata": {},
   "source": [
    "# Benchmarking CPU based birth-death"
   ]
  },
  {
   "cell_type": "code",
   "execution_count": 2,
   "metadata": {},
   "outputs": [],
   "source": [
    "import random\n",
    "class ListDict(object):\n",
    "    \"\"\"  \n",
    "    Solution adapted from \n",
    "    https://stackoverflow.com/questions/15993447/python-data-structure-for-efficient-add-remove-and-random-choice\n",
    "    Data structure with efficient\n",
    "    (i)   lookup\n",
    "    (ii)  uniform random selection\n",
    "    (iii) removal\n",
    "\n",
    "    \"\"\"\n",
    "    def __init__(self, nParticles):\n",
    "        self.item_to_position = {}\n",
    "        self.items = []\n",
    "        for n in range(nParticles):\n",
    "            self.add_item(n)\n",
    "\n",
    "    def add_item(self, item):\n",
    "        if item in self.item_to_position:\n",
    "            return\n",
    "        self.items.append(item)\n",
    "        self.item_to_position[item] = len(self.items)-1\n",
    "\n",
    "    def remove_item(self, item):\n",
    "        position = self.item_to_position.pop(item)\n",
    "        last_item = self.items.pop()\n",
    "        if position != len(self.items):\n",
    "            self.items[position] = last_item\n",
    "            self.item_to_position[last_item] = position\n",
    "\n",
    "    def choose_random_item(self):\n",
    "        return random.choice(self.items)\n",
    "\n",
    "    def __contains__(self, item):\n",
    "        return item in self.item_to_position\n",
    "\n",
    "    def __iter__(self):\n",
    "        return iter(self.items)\n",
    "\n",
    "    def __len__(self):\n",
    "        return len(self.items)"
   ]
  },
  {
   "cell_type": "code",
   "execution_count": 3,
   "metadata": {},
   "outputs": [],
   "source": [
    "import numpy as np\n",
    "\n",
    "nParticles = 500\n",
    "Lambda = np.random.uniform(-100, 100, nParticles)\n",
    "def birthDeathJumpIndicies(Lambda, stepsize=0.01):\n",
    "    nParticles = Lambda.shape[0]\n",
    "    alive = ListDict(nParticles)\n",
    "    r = np.random.uniform(low=0, high=1, size=nParticles)\n",
    "    threshold = r < 1 - np.exp(-np.abs(Lambda) * stepsize)\n",
    "    idxs = np.argwhere(threshold)[:, 0]\n",
    "    np.random.shuffle(idxs)\n",
    "\n",
    "    # Particle jumps\n",
    "    output = np.arange(nParticles)\n",
    "    for i in idxs:\n",
    "        if i in alive:\n",
    "            j = alive.choose_random_item()\n",
    "            if Lambda[i] > 0:\n",
    "                output[i] = j\n",
    "                alive.remove_item(i)\n",
    "            elif Lambda[i] < 0:\n",
    "                output[j] = i \n",
    "                alive.remove_item(j)\n",
    "\n",
    "    return output\n"
   ]
  },
  {
   "cell_type": "code",
   "execution_count": 4,
   "metadata": {},
   "outputs": [
    {
     "name": "stdout",
     "output_type": "stream",
     "text": [
      "148 µs ± 552 ns per loop (mean ± std. dev. of 7 runs, 10,000 loops each)\n"
     ]
    }
   ],
   "source": [
    "# The first thing we want to do is test the CPU based code\n",
    "%timeit birthDeathJumpIndicies(Lambda)\n",
    "a = birthDeathJumpIndicies(Lambda)"
   ]
  },
  {
   "cell_type": "code",
   "execution_count": 5,
   "metadata": {},
   "outputs": [
    {
     "data": {
      "text/plain": [
       "array([256,   1, 113,   3,   4,   5,   6, 278,   8,   9, 399, 184,  12,\n",
       "        13,  14,  15, 317, 207,  18,  19,  20,  21,  22,  23,  24, 430,\n",
       "        26,  27, 421, 104,  30,  31, 305,  33, 107,  35,  36,  37,  38,\n",
       "       153, 289,  41, 191, 293, 335,  45,  46,  47,  48,  49, 416, 181,\n",
       "        52,  53,  54,  55,  56,  57, 459,  59,  60,  61, 221,  63,  64,\n",
       "        65,  66,  67,  68,  69, 222, 183, 161,  73,  74, 464, 309,  77,\n",
       "       183,  79, 209,  81,  82,  83,  84,  85,  86,  87,  88, 427,  90,\n",
       "        53,  92,  93,  94, 214,  96,  97, 343,  99, 109, 101,  59, 313,\n",
       "       104, 105, 106, 107, 108, 109, 144, 111, 112, 113, 114, 115, 116,\n",
       "       116,  45, 119, 128, 121, 122, 123, 436,  60, 126, 389, 128, 100,\n",
       "       140, 299, 280, 133, 466, 135, 136, 137, 253, 139, 140, 141,  49,\n",
       "       135, 144, 145, 146, 272,   8, 247, 150, 151, 152, 153, 154, 155,\n",
       "        36, 157, 374, 110, 160, 161, 162, 163, 164, 165, 166, 167, 310,\n",
       "       169, 170, 483, 193, 173,  46, 399, 176, 177, 220, 179, 180, 181,\n",
       "       373,   6, 184, 213, 186, 187, 188,  10,  56, 119,  63, 233, 194,\n",
       "       195, 433, 197, 198, 199, 200, 201, 241, 245, 204, 205, 320, 207,\n",
       "       208, 209, 263, 211, 212, 213, 215, 215, 216, 217, 218,   6, 452,\n",
       "        13, 222, 333, 224, 397,  69, 227, 350, 218, 184, 231, 479, 233,\n",
       "       121,  31, 463, 237, 335, 368,  54, 241, 242, 487, 244, 245, 246,\n",
       "       297, 248, 249, 250, 251, 111, 253, 254, 255, 256, 257, 258, 259,\n",
       "       260, 348, 262, 263, 115, 265, 266, 224, 268, 269, 178, 271, 272,\n",
       "       273, 274, 288, 354, 277, 278, 279, 280, 281, 282, 217, 194, 285,\n",
       "       235, 287, 288, 289, 468, 291, 292, 293, 294, 451, 165, 297, 298,\n",
       "       299, 300, 301,  43, 303, 471, 305,  61, 307, 308, 440, 310, 311,\n",
       "       312, 313, 314, 446, 316, 317, 123, 181, 320, 321, 294, 323, 324,\n",
       "       265,  25, 327, 328, 455, 330, 453, 207, 333, 476, 456, 336, 188,\n",
       "       338,  65, 340,  69,  14, 343, 344, 345, 346, 347, 348, 349, 350,\n",
       "       428, 269,  19, 354, 355, 356, 455, 358, 344, 360, 298, 362, 363,\n",
       "       369, 365, 366, 367, 368, 369, 370, 470, 372, 373, 374, 375, 376,\n",
       "       201, 378, 379, 380, 381, 382, 383, 420, 355, 386, 387, 369,  27,\n",
       "       416, 391, 427, 286, 394, 340, 475, 397, 249, 399, 400,  53, 395,\n",
       "       403, 404, 405, 406, 407, 408, 409, 410, 492, 361, 413, 414, 415,\n",
       "       416, 417, 380, 424, 420, 421, 422, 133, 424, 425, 389, 427, 428,\n",
       "       429, 430, 431, 432, 433, 434, 158, 436, 437, 438, 439, 440, 138,\n",
       "       249, 443, 444, 239, 446,   5, 448, 415, 363, 451, 452, 104,  72,\n",
       "       439, 456, 493, 458, 459, 233, 463,  45, 463, 464, 465, 466, 153,\n",
       "       279, 469, 470, 471, 472, 167, 474, 475, 154, 477, 478, 479, 480,\n",
       "       481, 410,  83, 484, 485, 486, 487, 488, 489, 147, 362, 492, 493,\n",
       "       485, 495, 496, 281, 472, 499])"
      ]
     },
     "execution_count": 5,
     "metadata": {},
     "output_type": "execute_result"
    }
   ],
   "source": [
    "a"
   ]
  },
  {
   "cell_type": "markdown",
   "metadata": {},
   "source": [
    "# Benchmarking GPU based birth-death"
   ]
  },
  {
   "cell_type": "code",
   "execution_count": 6,
   "metadata": {},
   "outputs": [],
   "source": [
    "import jax\n",
    "import jax.numpy as jnp\n",
    "\n",
    "key = jax.random.PRNGKey(0)\n",
    "\n",
    "def true_fun(i, j, jumps):\n",
    "    jumps = jumps.at[0,i].set(j)\n",
    "    jumps = jumps.at[1,i].set(0)\n",
    "    return jumps\n",
    "\n",
    "def false_fun(i, j, jumps):\n",
    "    jumps = jumps.at[0,j].set(i) \n",
    "    jumps = jumps.at[1,j].set(0)\n",
    "    return jumps\n",
    "\n",
    "def scan_func(carry, x):\n",
    "    key, jumps, Lambda = carry \n",
    "    pred = Lambda[x] > 0\n",
    "    key, subkey = jax.random.split(key)\n",
    "    j = jax.random.choice(key, Lambda.shape[0], p=jumps[1]) # Not choosing dead particles\n",
    "    # j = jax.random.choice(key, Lambda.shape[0]) # TODO this is for debugging purposes. see if this is causing the slowdown!\n",
    "    jumps = jax.lax.cond(x != -1, lambda: jax.lax.cond(pred, true_fun, false_fun, *(x, j, jumps)), lambda: jumps)\n",
    "    return (key, jumps, Lambda), jumps\n",
    "\n",
    "@jax.jit\n",
    "def birth_death_jumps(key, Lambda, stepsize=0.01):\n",
    "    nParticles = Lambda.shape[0]\n",
    "    r = jax.random.uniform(minval=0, maxval=1, shape=Lambda.shape, key=key)\n",
    "    threshold = r < 1 - jnp.exp(-jnp.abs(Lambda) * stepsize)\n",
    "    idxs = jax.random.permutation(key, jnp.argwhere(threshold, size=nParticles, fill_value=-1).squeeze())\n",
    "\n",
    "    jumps = jnp.zeros((2, nParticles), dtype=int)\n",
    "    jumps = jumps.at[0].set(jnp.arange(nParticles))\n",
    "    jumps = jumps.at[1].set(jnp.ones(nParticles, dtype=int))\n",
    "\n",
    "    init = (key, jumps, Lambda)\n",
    "    jumps = jax.lax.scan(scan_func, init, idxs)\n",
    "\n",
    "    return jumps[0][1][0]"
   ]
  },
  {
   "cell_type": "code",
   "execution_count": 7,
   "metadata": {},
   "outputs": [
    {
     "name": "stdout",
     "output_type": "stream",
     "text": [
      "1.13 s ± 16.3 ms per loop (mean ± std. dev. of 7 runs, 1 loop each)\n"
     ]
    }
   ],
   "source": [
    "# Benchmark GPU based code\n",
    "%timeit birth_death_jumps(key, Lambda)\n",
    "a = birth_death_jumps(key, Lambda)"
   ]
  },
  {
   "cell_type": "markdown",
   "metadata": {},
   "source": [
    "# Loop stride test"
   ]
  },
  {
   "cell_type": "code",
   "execution_count": 2,
   "metadata": {},
   "outputs": [],
   "source": [
    "import jax\n",
    "from functools import partial\n",
    "\n",
    "def ula_kernel(key, param, iteration):\n",
    "\n",
    "    key, subkey = jax.random.split(key)\n",
    "\n",
    "    iteration = iteration + 1\n",
    "\n",
    "    return key, 0, iteration\n",
    "\n",
    "\n",
    "@partial(jax.jit, static_argnums=(1,2,3))\n",
    "def ula_sampler_full_jax_jit(key):\n",
    "\n",
    "    # @progress_bar_scan(n_iter)\n",
    "    def ula_step(carry, x):\n",
    "        key, param, iteration = carry\n",
    "        key, param, iteration = ula_kernel(key, param, iteration)\n",
    "        return (key, param, iteration), param\n",
    "\n",
    "    carry = (key, x_0, 0)\n",
    "    _, samples = jax.lax.scan(ula_step, carry, None, n_iter)\n",
    "    return samples"
   ]
  },
  {
   "cell_type": "code",
   "execution_count": null,
   "metadata": {},
   "outputs": [],
   "source": [
    "ula_sampler_full_jax_jit"
   ]
  }
 ],
 "metadata": {
  "kernelspec": {
   "display_name": "ssvn",
   "language": "python",
   "name": "python3"
  },
  "language_info": {
   "codemirror_mode": {
    "name": "ipython",
    "version": 3
   },
   "file_extension": ".py",
   "mimetype": "text/x-python",
   "name": "python",
   "nbconvert_exporter": "python",
   "pygments_lexer": "ipython3",
   "version": "3.11.4"
  }
 },
 "nbformat": 4,
 "nbformat_minor": 2
}
