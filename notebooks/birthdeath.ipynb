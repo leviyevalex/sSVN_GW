{
 "cells": [
  {
   "cell_type": "markdown",
   "metadata": {},
   "source": [
    "# Organize code to give to JAX team"
   ]
  },
  {
   "cell_type": "code",
   "execution_count": 1,
   "metadata": {},
   "outputs": [],
   "source": [
    "import random\n",
    "class ListDict(object):\n",
    "    \"\"\"  \n",
    "    Solution adapted from \n",
    "    https://stackoverflow.com/questions/15993447/python-data-structure-for-efficient-add-remove-and-random-choice\n",
    "    Data structure with efficient\n",
    "    (i)   lookup\n",
    "    (ii)  uniform random selection\n",
    "    (iii) removal\n",
    "\n",
    "    \"\"\"\n",
    "    def __init__(self, nParticles):\n",
    "        self.item_to_position = {}\n",
    "        self.items = []\n",
    "        for n in range(nParticles):\n",
    "            self.add_item(n)\n",
    "\n",
    "    def add_item(self, item):\n",
    "        if item in self.item_to_position:\n",
    "            return\n",
    "        self.items.append(item)\n",
    "        self.item_to_position[item] = len(self.items)-1\n",
    "\n",
    "    def remove_item(self, item):\n",
    "        position = self.item_to_position.pop(item)\n",
    "        last_item = self.items.pop()\n",
    "        if position != len(self.items):\n",
    "            self.items[position] = last_item\n",
    "            self.item_to_position[last_item] = position\n",
    "\n",
    "    def choose_random_item(self):\n",
    "        return random.choice(self.items)\n",
    "\n",
    "    def __contains__(self, item):\n",
    "        return item in self.item_to_position\n",
    "\n",
    "    def __iter__(self):\n",
    "        return iter(self.items)\n",
    "\n",
    "    def __len__(self):\n",
    "        return len(self.items)"
   ]
  },
  {
   "cell_type": "code",
   "execution_count": 11,
   "metadata": {},
   "outputs": [],
   "source": [
    "import numpy as np\n",
    "\n",
    "nParticles = 500\n",
    "Lambda = np.random.uniform(-100, 100, nParticles)\n",
    "def birthDeathJumpIndicies(Lambda, stepsize=0.01):\n",
    "    nParticles = Lambda.shape[0]\n",
    "    alive = ListDict(nParticles)\n",
    "    r = np.random.uniform(low=0, high=1, size=nParticles)\n",
    "    threshold = r < 1 - np.exp(-np.abs(Lambda) * stepsize)\n",
    "    idxs = np.argwhere(threshold)[:, 0]\n",
    "    np.random.shuffle(idxs)\n",
    "\n",
    "    # Particle jumps\n",
    "    output = np.arange(nParticles)\n",
    "    for i in idxs:\n",
    "        if i in alive:\n",
    "            j = alive.choose_random_item()\n",
    "            if Lambda[i] > 0:\n",
    "                output[i] = j\n",
    "                alive.remove_item(i)\n",
    "            elif Lambda[i] < 0:\n",
    "                output[j] = i \n",
    "                alive.remove_item(j)\n",
    "\n",
    "    return output\n",
    "\n",
    "print(birthDeathJumpIndicies(Lambda))"
   ]
  },
  {
   "cell_type": "code",
   "execution_count": 12,
   "metadata": {},
   "outputs": [
    {
     "data": {
      "text/plain": [
       "array([  0,  48,   2,   3, 213, 191,  31,   7,  39, 153,  10,  11, 452,\n",
       "        13,   7,  15,  16,  17, 386, 149, 330,  21,  22,  23,  24,  25,\n",
       "        26,  13,  28,  29,  30,  31,  32,  33, 325,  35,  36, 248,  38,\n",
       "        39, 209,  41,  42, 120,  29,  45,  46,  47,  48,  49,  50, 385,\n",
       "        52,  53,  54, 398,  56, 409, 282, 342, 258,  61,  23, 472,  64,\n",
       "        65,  66, 323,  68,  69,  70,  71, 159,  73,  74,  75,  76,  77,\n",
       "       143, 161, 392,  81,  82,  83,  84, 354,  86,   3,  88, 336, 254,\n",
       "       335,  11, 484,  94,  95, 329,  97, 267, 147, 100, 101, 102, 302,\n",
       "       104, 105, 106, 107, 108, 109, 110, 291, 112, 113, 242, 115, 116,\n",
       "       396, 118, 119, 120, 121, 122, 123, 482, 125, 457, 147, 223, 129,\n",
       "       130, 490, 132, 133, 134, 481, 332, 137, 138, 139, 140,  45, 142,\n",
       "       143, 144, 145,  68, 147, 148, 149, 150, 152,  23, 153, 154,  65,\n",
       "       156, 157,  97, 159, 337, 161, 162, 261, 164, 165, 166, 183, 168,\n",
       "       169, 170, 148, 150, 202, 174, 161, 455, 177, 467, 179, 180, 404,\n",
       "       182, 183, 184, 185, 186, 187, 188, 189, 190, 496,  70, 310, 194,\n",
       "       119, 196, 197, 352, 199, 200, 304, 202, 203,  62,  36, 206, 207,\n",
       "       208, 357, 210, 211, 169, 213, 214, 215, 216, 217, 218, 219, 358,\n",
       "       137, 222, 223,  21, 225, 226, 227, 228, 229, 230, 231, 232, 233,\n",
       "       234, 235,  48, 237, 238, 239, 240, 241,  26, 331, 244, 245, 246,\n",
       "       451, 248, 249, 250, 251, 252, 138, 254, 255, 316, 341, 258, 259,\n",
       "       217, 261, 341, 263,  41, 265, 250, 267,  45, 269, 270, 271, 290,\n",
       "       274, 279, 275, 278, 277, 278, 279,  68, 281, 282, 283,  79, 488,\n",
       "        45, 287, 288, 289, 290, 291, 292, 206, 294, 295, 296, 207, 298,\n",
       "       299, 300, 301, 302, 121, 161, 194, 306, 307, 477, 309,  73, 311,\n",
       "       218, 313, 478, 315, 115, 450, 208, 319, 320, 321, 120, 323, 324,\n",
       "       325, 326, 251, 328, 329, 330, 331, 332,  77,  46, 335, 307, 337,\n",
       "       338,  11, 445, 341, 342, 473, 344, 269, 346, 347, 348, 349, 108,\n",
       "       351, 352, 498, 354, 355, 356, 357, 387, 359, 360,  15, 125, 363,\n",
       "       364, 365, 327, 385, 188, 369, 370, 490, 372, 373, 329, 375, 376,\n",
       "         7, 313, 379, 349, 381, 394, 437, 384, 385, 238, 387, 309, 148,\n",
       "       390, 391, 392, 393, 394, 395, 396, 397, 398, 399,  56, 401, 402,\n",
       "       403, 404, 405, 405, 407, 408, 409, 168, 390, 412, 413, 414, 415,\n",
       "       416, 417, 387, 419, 420, 421, 106, 423, 424, 425, 426, 206, 331,\n",
       "       429, 404, 431,  34, 331, 434, 435,  59, 437, 438, 439, 440, 441,\n",
       "       442, 428, 444, 445, 446, 258, 448, 449, 450, 498, 342, 353, 454,\n",
       "       455, 456, 107, 458, 307,  26, 405, 437,  25, 464, 466, 466, 467,\n",
       "       468, 116, 414, 471, 306, 473, 474, 475, 481, 153, 478, 189,  74,\n",
       "       481, 482, 350, 484, 485, 486,  53, 488, 320, 490, 491, 492, 464,\n",
       "       494, 495, 496, 497, 498, 301])"
      ]
     },
     "execution_count": 12,
     "metadata": {},
     "output_type": "execute_result"
    }
   ],
   "source": [
    "a"
   ]
  },
  {
   "cell_type": "code",
   "execution_count": null,
   "metadata": {},
   "outputs": [],
   "source": []
  }
 ],
 "metadata": {
  "kernelspec": {
   "display_name": "ssvn",
   "language": "python",
   "name": "python3"
  },
  "language_info": {
   "codemirror_mode": {
    "name": "ipython",
    "version": 3
   },
   "file_extension": ".py",
   "mimetype": "text/x-python",
   "name": "python",
   "nbconvert_exporter": "python",
   "pygments_lexer": "ipython3",
   "version": "3.11.4"
  }
 },
 "nbformat": 4,
 "nbformat_minor": 2
}
