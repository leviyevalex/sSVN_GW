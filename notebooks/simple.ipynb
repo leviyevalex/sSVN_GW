{
 "cells": [
  {
   "cell_type": "code",
   "execution_count": null,
   "metadata": {},
   "outputs": [],
   "source": [
    "import sys\n",
    "sys.path.append(\"..\")\n",
    "\n",
    "from models.taylorf2 import taylorf2\n",
    "import jax.numpy as jnp\n",
    "from jax import grad, config\n",
    "import jax\n",
    "import matplotlib.pyplot as plt\n",
    "import os \n",
    "import numpy as np\n",
    "config.update(\"jax_enable_x64\", True)\n",
    "import corner\n",
    "\n",
    "from src.samplers import samplers\n",
    "from scripts.plot_helper_functions import collect_samples\n"
   ]
  },
  {
   "cell_type": "code",
   "execution_count": null,
   "metadata": {},
   "outputs": [],
   "source": [
    "# Define injection parameters\n",
    "# injection = jnp.array([0, 0, 30.0, 0.24, 5e-22]) # For Stein\n",
    "injection = jnp.array([0, 0, 30.0, 0.24, 5e-22]) # For gradient testing\n",
    "\n",
    "# Define prior ranges\n",
    "priorDict = {}\n",
    "priorDict[0] = jnp.array([-0.01, 0.01])\n",
    "priorDict[1] = jnp.array([-jnp.pi, jnp.pi])\n",
    "priorDict[2] = jnp.array([20., 40.])\n",
    "priorDict[3] = jnp.array([0.1, 0.249])\n",
    "priorDict[4] = injection[4] * jnp.array([0.8, 1.2])\n",
    "\n",
    "model = taylorf2(injection, priorDict)\n"
   ]
  },
  {
   "cell_type": "code",
   "execution_count": null,
   "metadata": {},
   "outputs": [],
   "source": [
    "# Confirm that analytical derivative agrees with JAX derivative\n",
    "\n",
    "x = model.injection + np.random.uniform(low=0, high=0.0001, size=5)\n",
    "\n",
    "test1 = jax.jacfwd(model.potential_single)(x)\n",
    "test2 = model.gradient_potential_single(x)\n",
    "\n",
    "# These disagree?\n",
    "print(test1)\n",
    "print(test2)\n",
    "\n",
    "test3 = jax.jacfwd(model.strain)(x,10)\n",
    "test4 = model.gradient_strain(x, 10)\n",
    "\n",
    "# These agree\n",
    "print(test3)\n",
    "print(test4)"
   ]
  },
  {
   "cell_type": "code",
   "execution_count": null,
   "metadata": {},
   "outputs": [],
   "source": [
    "import numdifftools as nd \n",
    "\n",
    "# This yields overflow ever\n",
    "nd.Gradient(model.potential_single)(x)\n",
    "\n",
    "# These yield different result............ WTF\n",
    "jax.jacrev(model.potential_single)(x)\n",
    "jax.jacfwd(model.potential_single)(x)"
   ]
  },
  {
   "cell_type": "code",
   "execution_count": null,
   "metadata": {},
   "outputs": [],
   "source": [
    "def getCrossSection(index1, index2, func, ngrid, DoF=5):\n",
    "    # a, b are the parameters for which we want the marginals:\n",
    "    x = np.linspace(priorDict[index1][0], priorDict[index1][1], ngrid)\n",
    "    y = np.linspace(priorDict[index2][0], priorDict[index2][1], ngrid)\n",
    "    X, Y = np.meshgrid(x, y)\n",
    "    particle_grid = np.zeros((ngrid ** 2, DoF))\n",
    "    parameter_mesh = np.vstack((np.ndarray.flatten(X), np.ndarray.flatten(Y))).T\n",
    "    particle_grid[:, index1] = parameter_mesh[:, 0]\n",
    "    particle_grid[:, index2] = parameter_mesh[:, 1]\n",
    "    for i in range(DoF): # Fix all other parameters\n",
    "        if i != index1 and i != index2:\n",
    "            particle_grid[:, i] = np.ones(ngrid ** 2) * injection[i]\n",
    "    Z = func(particle_grid).reshape(ngrid,ngrid)\n",
    "    fig, ax = plt.subplots(figsize = (5, 5))\n",
    "    cp = ax.contourf(X, Y, Z)\n",
    "    plt.colorbar(cp)\n",
    "    ax.set_xlabel(index1)\n",
    "    ax.set_ylabel(index2)\n",
    "    ax.set_title('Likelihood cross section')\n",
    "    filename = str(index1) + str(index2) + '.png'\n",
    "    path = os.path.join('marginals', filename)\n",
    "    # fig.savefig(path)\n",
    "\n",
    "posterior = lambda X: np.exp(-1 * model.getMinusLogPosterior_ensemble(X))\n",
    "\n",
    "neg_potential = lambda X: -1 * model.getMinusLogPosterior_ensemble(X)\n",
    "\n",
    "for i in range(5):\n",
    "    for j in range(i+1, 5):\n",
    "        # print('Getting cross section for %s' % pair)\n",
    "        # getCrossSection(i, j, posterior, 200)\n",
    "        getCrossSection(i, j, neg_potential, 200)"
   ]
  },
  {
   "cell_type": "code",
   "execution_count": null,
   "metadata": {},
   "outputs": [],
   "source": [
    "model._newDrawFromPrior(100)[:,0]"
   ]
  },
  {
   "cell_type": "code",
   "execution_count": null,
   "metadata": {},
   "outputs": [],
   "source": [
    "nParticles = 100\n",
    "h = model.DoF / 10\n",
    "nIterations = 1000\n",
    "stride = 101\n",
    "\n",
    "bd_kwargs = {'use': False, \n",
    "             'kernel_type': 'Lp',\n",
    "             'p':2,\n",
    "             'h': 0.01,\n",
    "             'start_iter': -1,\n",
    "             'tau': 0.01,\n",
    "             'space': 'primal',\n",
    "             'stride': stride}\n",
    "\n",
    "sampler1 = samplers(model=model, nIterations=nIterations, nParticles=nParticles, profile=False, kernel_type='Lp', bd_kwargs=bd_kwargs)\n",
    "kernelKwargs = {'h':h, 'p':2, 'M': jnp.eye(5)} \n",
    "\n",
    "sampler1.apply(method='reparam_sSVGD', eps=0.01, kernelKwargs=kernelKwargs)\n",
    "# %%"
   ]
  },
  {
   "cell_type": "code",
   "execution_count": null,
   "metadata": {},
   "outputs": [],
   "source": [
    "X1 = collect_samples(sampler1.history_path)\n",
    "corner.corner(X1, color='r', hist_kwargs={'density':True})"
   ]
  },
  {
   "cell_type": "code",
   "execution_count": null,
   "metadata": {},
   "outputs": [],
   "source": [
    "m_sun_sec"
   ]
  },
  {
   "cell_type": "code",
   "execution_count": null,
   "metadata": {},
   "outputs": [],
   "source": [
    "x"
   ]
  },
  {
   "cell_type": "code",
   "execution_count": null,
   "metadata": {},
   "outputs": [],
   "source": [
    "def strain(x, frequencies):\n",
    "    time_coalescence = x[0]\n",
    "    phase_coalescence = x[1]\n",
    "    chirp_mass = x[2]\n",
    "    symmetric_mass_ratio = x[3]\n",
    "    Amplitude = x[4]\n",
    "    m_sun_sec = 5e-6\n",
    "    \n",
    "    f = frequencies\n",
    "    eta = symmetric_mass_ratio\n",
    "    Mc = chirp_mass\n",
    "    phi = phase_coalescence\n",
    "    \n",
    "    expr = (Amplitude * jnp.exp(-1j * (-(jnp.pi/4) + 2 * f * jnp.pi * time_coalescence + (\n",
    "        3 * (1 + jnp.pi**(2/3) * ((f * Mc * m_sun_sec) / eta**(3/5))**(\n",
    "            2/3) * (3715/756 + (55 * eta)/9))) / (\n",
    "        128 * jnp.pi**(5/3) * ((f * Mc * m_sun_sec) / eta**(3/5))**(\n",
    "            5/3) * eta) - phi))) / f**(7/6)\n",
    "    \n",
    "    return expr\n",
    "\n",
    "def gradient_strain(x, frequencies):\n",
    "    time_coalescence = x[0]\n",
    "    phase_coalescence = x[1]\n",
    "    chirp_mass = x[2]\n",
    "    symmetric_mass_ratio = x[3]\n",
    "    Amplitude = x[4]\n",
    "    m_sun_sec = 5e-6\n",
    "    \n",
    "    f = frequencies\n",
    "    eta = symmetric_mass_ratio\n",
    "    Mc = chirp_mass\n",
    "    S = strain(x, frequencies)\n",
    "    \n",
    "    expr1 = -2j * f * jnp.pi * S\n",
    "    expr2 = 1j * S\n",
    "    expr3 = (5j * S * (252 + jnp.pi**(2/3) * ((f * Mc * m_sun_sec) / eta**(3/5))**(\n",
    "        2/3) * (743 + 924 * eta))) / (\n",
    "        32256 * Mc * jnp.pi**(5/3) * ((f * Mc * m_sun_sec) / eta**(3/5))**(\n",
    "            5/3) * eta)\n",
    "    expr4 = -((1j * S * (-743 + 1386 * eta)) / (\n",
    "        16128 * f * Mc * m_sun_sec * jnp.pi * eta**(7/5)))\n",
    "    expr5 = S / Amplitude\n",
    "    \n",
    "    return jnp.array([expr1, expr2, expr3, expr4, expr5])"
   ]
  },
  {
   "cell_type": "code",
   "execution_count": null,
   "metadata": {},
   "outputs": [],
   "source": [
    "time_coalescence = 1.0\n",
    "phase_coalescence = 0.5\n",
    "chirp_mass = 30.0\n",
    "symmetric_mass_ratio = 0.25\n",
    "amplitude = 2.0\n",
    "frequency = jnp.linspace(10, 1000, 1)\n",
    "\n",
    "x = np.array([time_coalescence, phase_coalescence, chirp_mass, symmetric_mass_ratio, amplitude])\n",
    "\n",
    "print(strain(x, frequency))\n",
    "print(gradient_strain(x, frequency))\n",
    "print(jax.jacfwd(strain)(x,frequency))"
   ]
  },
  {
   "cell_type": "code",
   "execution_count": null,
   "metadata": {},
   "outputs": [],
   "source": [
    "test1 = gradient_strain(x, frequency)\n",
    "test2 = jax.jacfwd(strain)(x,frequency)\n",
    "np.allclose(test1, test2.T) # Note: The outpout of JAX gives the opposite convention to that we are using"
   ]
  },
  {
   "cell_type": "code",
   "execution_count": null,
   "metadata": {},
   "outputs": [],
   "source": [
    "test1.shape"
   ]
  },
  {
   "cell_type": "code",
   "execution_count": null,
   "metadata": {},
   "outputs": [],
   "source": [
    "test2.shape"
   ]
  },
  {
   "cell_type": "code",
   "execution_count": null,
   "metadata": {},
   "outputs": [],
   "source": []
  }
 ],
 "metadata": {
  "kernelspec": {
   "display_name": "ssvn",
   "language": "python",
   "name": "python3"
  },
  "language_info": {
   "codemirror_mode": {
    "name": "ipython",
    "version": 3
   },
   "file_extension": ".py",
   "mimetype": "text/x-python",
   "name": "python",
   "nbconvert_exporter": "python",
   "pygments_lexer": "ipython3",
   "version": "3.11.4"
  },
  "orig_nbformat": 4
 },
 "nbformat": 4,
 "nbformat_minor": 2
}
