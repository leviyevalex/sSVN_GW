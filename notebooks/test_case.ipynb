{
 "cells": [
  {
   "cell_type": "code",
   "execution_count": 1,
   "metadata": {},
   "outputs": [],
   "source": [
    "import jax.numpy as jnp\n",
    "from jax import config\n",
    "import jax\n",
    "\n",
    "config.update(\"jax_enable_x64\", True)"
   ]
  },
  {
   "cell_type": "code",
   "execution_count": 32,
   "metadata": {},
   "outputs": [],
   "source": [
    "class taylorf2:\n",
    "    def __init__(self, injection):\n",
    "        self.injection = injection \n",
    "\n",
    "        # Frequency grid\n",
    "        self.fmin = 10\n",
    "        self.fmax = 1000\n",
    "        self.n_bins = 1000\n",
    "        self.frequency = jnp.linspace(10, 1000, num=self.n_bins+1)\n",
    "        self.deltaf = (self.fmax - self.fmin) / self.n_bins # Grid spacing\n",
    "\n",
    "        # Constants\n",
    "        self.m_sun_sec = 4.92549094830932e-6\n",
    "        self.PSD = 1e-40 * jnp.ones_like(self.frequency)\n",
    "\n",
    "        # Data\n",
    "        self.data = self.strain(self.injection, self.frequency)\n",
    "\n",
    "    def strain(self, x, frequencies):\n",
    "        time_coalescence = x[0]\n",
    "        phase_coalescence = x[1]\n",
    "        chirp_mass = x[2]\n",
    "        symmetric_mass_ratio = x[3]\n",
    "        Amplitude = x[4]\n",
    "\n",
    "        # Redefined for cleaner expression\n",
    "        f = frequencies\n",
    "        eta = symmetric_mass_ratio\n",
    "        Mc = chirp_mass\n",
    "        phi = phase_coalescence\n",
    "        \n",
    "        expr = (Amplitude * jnp.exp(-1j * (-(jnp.pi/4) + 2 * f * jnp.pi * time_coalescence + (3 * (1 + jnp.pi**(2/3) * ((f * Mc * self.m_sun_sec) / eta**(3/5))**(2/3) * (3715/756 + (55 * eta)/9))) / (128 * jnp.pi**(5/3) * ((f * Mc * self.m_sun_sec) / eta**(3/5))**(5/3) * eta) - phi))) / f**(7/6)\n",
    "        \n",
    "        return expr\n",
    "\n",
    "    def gradient_strain(self, x, frequencies):\n",
    "        time_coalescence = x[0]\n",
    "        phase_coalescence = x[1]\n",
    "        chirp_mass = x[2]\n",
    "        symmetric_mass_ratio = x[3]\n",
    "        Amplitude = x[4]\n",
    "\n",
    "        # Redefined for cleaner expression\n",
    "        f = frequencies\n",
    "        eta = symmetric_mass_ratio\n",
    "        Mc = chirp_mass\n",
    "        S = self.strain(x, frequencies)\n",
    "        \n",
    "        expr1 = -2j * f * jnp.pi * S\n",
    "        expr2 = 1j * S\n",
    "        expr3 = (5j * S * (252 + jnp.pi**(2/3) * ((f * Mc * self.m_sun_sec) / eta**(3/5))**(2/3) * (743 + 924 * eta))) / (32256 * Mc * jnp.pi**(5/3) * ((f * Mc * self.m_sun_sec) / eta**(3/5))**(5/3) * eta)\n",
    "        expr4 = -((1j * S * (-743 + 1386 * eta)) / (16128 * f * Mc * self.m_sun_sec * jnp.pi * eta**(7/5)))\n",
    "        expr5 = S / Amplitude\n",
    "        \n",
    "        return jnp.array([expr1, expr2, expr3, expr4, expr5])\n",
    "\n",
    "    def inner_product(self, a, b, power_spectral_density, frequency_spacing):\n",
    "        return (4 * jnp.sum(a.conjugate()[..., :-1] * b[..., :-1] / power_spectral_density[..., :-1] * frequency_spacing, axis=-1)).T\n",
    "\n",
    "    def potential_single(self, x):\n",
    "        residual = self.strain(x, self.frequency) - self.data\n",
    "        return 0.5 * self.inner_product(residual, residual, power_spectral_density=self.PSD, frequency_spacing=self.deltaf).real\n",
    "\n",
    "    def gradient_potential_single(self, x):\n",
    "        residual = self.strain(x, self.frequency) - self.data\n",
    "        gradient_residual = self.gradient_strain(x, self.frequency)\n",
    "        return self.inner_product(gradient_residual, residual, power_spectral_density=self.PSD, frequency_spacing=self.deltaf).real"
   ]
  },
  {
   "cell_type": "code",
   "execution_count": 33,
   "metadata": {},
   "outputs": [],
   "source": [
    "injection = jnp.array([0, 0, 30.0, 0.24, 2e-22]) # For gradient testing\n",
    "\n",
    "model = taylorf2(injection)"
   ]
  },
  {
   "cell_type": "code",
   "execution_count": 34,
   "metadata": {},
   "outputs": [
    {
     "name": "stdout",
     "output_type": "stream",
     "text": [
      "[ 3.14164900e-04-1.59343031e-04j -5.00008968e-06+2.53602310e-06j\n",
      " -5.99001132e-05+3.03810692e-05j -2.02051009e-04+1.02479367e-04j\n",
      "  3.08175699e-02+6.07607293e-02j]\n",
      "[ 3.14164900e-04-1.59343031e-04j -5.00008968e-06+2.53602310e-06j\n",
      " -5.99001132e-05+3.03810692e-05j -2.02051009e-04+1.02479367e-04j\n",
      "  3.08175699e-02+6.07607293e-02j]\n",
      "[ 4.33276945e+15 -3.36628128e+12  6.51655926e+14  1.60442535e+15\n",
      "  1.22195271e+35]\n",
      "[-1.16566675e+16 -9.15201910e+07 -1.00170435e+15 -1.65605575e+15\n",
      "  1.22195271e+35]\n"
     ]
    }
   ],
   "source": [
    "import numpy as np\n",
    "\n",
    "x = model.injection + np.random.uniform(low=0, high=0.0001, size=5)\n",
    "\n",
    "# The model and its derivative are calculated correctly\n",
    "test1 = jax.jacfwd(model.strain)(x,10)\n",
    "test2 = model.gradient_strain(x, 10)\n",
    "\n",
    "print(test1)\n",
    "print(test2)\n",
    "\n",
    "test3 = jax.jacrev(model.potential_single)(x)\n",
    "test4 = model.gradient_potential_single(x)\n",
    "\n",
    "# Last component agrees, but all others disagree\n",
    "print(test3)\n",
    "print(test4)\n",
    "\n"
   ]
  },
  {
   "cell_type": "code",
   "execution_count": null,
   "metadata": {},
   "outputs": [],
   "source": [
    "injection = jnp.array[1 + 1j, 2 + 2j, 3 + 3j, 4 + 4j, 5 + 5j]\n",
    "\n",
    "grid = jnp.linspace(0, 1000, 1000)\n",
    "def model(x):\n",
    "    phase = 1 + x[0] + x[1]\n",
    "    return jnp.exp(-1j * phase)"
   ]
  },
  {
   "cell_type": "code",
   "execution_count": 50,
   "metadata": {},
   "outputs": [
    {
     "name": "stdout",
     "output_type": "stream",
     "text": [
      "[ 1.80947897e-04-1.82906972e-04j -2.87987522e-06+2.91105486e-06j\n",
      " -2.69984327e-11+2.72907375e-11j -5.73301800e-10+5.79508786e-10j\n",
      "  4.84333049e-02+4.79145469e-02j]\n",
      "[ 1.80947897e-04-1.82906972e-04j -2.87987522e-06+2.91105486e-06j\n",
      " -2.69984327e-11+2.72907375e-11j -5.73301800e-10+5.79508786e-10j\n",
      "  4.84333049e-02+4.79145469e-02j]\n",
      "[-1.38430797e-25  2.26594132e-27  1.88105680e-32  3.99505513e-31\n",
      "  2.25167808e-06]\n",
      "[-2.36178644e-25  0.00000000e+00  7.96164087e-33 -4.00639860e-31\n",
      "  2.25167808e-06]\n"
     ]
    }
   ],
   "source": [
    "class taylorf2:\n",
    "    def __init__(self, injection):\n",
    "        self.injection = injection \n",
    "\n",
    "        # Frequency grid\n",
    "        self.frequency = jnp.linspace(10, 1000, num=1000)\n",
    "\n",
    "        # Constants\n",
    "        self.m_sun_sec = 1\n",
    "\n",
    "        # Data\n",
    "        self.data = self.strain(self.injection, self.frequency)\n",
    "\n",
    "    def strain(self, x, frequencies):\n",
    "        time_coalescence = x[0]\n",
    "        phase_coalescence = x[1]\n",
    "        chirp_mass = x[2]\n",
    "        symmetric_mass_ratio = x[3]\n",
    "        Amplitude = x[4]\n",
    "\n",
    "        # Redefined for cleaner expression\n",
    "        f = frequencies\n",
    "        eta = symmetric_mass_ratio\n",
    "        Mc = chirp_mass\n",
    "        phi = phase_coalescence\n",
    "        \n",
    "        expr = (Amplitude * jnp.exp(-1j * (-(jnp.pi/4) + 2 * f * jnp.pi * time_coalescence + (3 * (1 + jnp.pi**(2/3) * ((f * Mc * self.m_sun_sec) / eta**(3/5))**(2/3) * (3715/756 + (55 * eta)/9))) / (128 * jnp.pi**(5/3) * ((f * Mc * self.m_sun_sec) / eta**(3/5))**(5/3) * eta) - phi))) / f**(7/6)\n",
    "        \n",
    "        return expr\n",
    "\n",
    "    def gradient_strain(self, x, frequencies):\n",
    "        time_coalescence = x[0]\n",
    "        phase_coalescence = x[1]\n",
    "        chirp_mass = x[2]\n",
    "        symmetric_mass_ratio = x[3]\n",
    "        Amplitude = x[4]\n",
    "\n",
    "        # Redefined for cleaner expression\n",
    "        f = frequencies\n",
    "        eta = symmetric_mass_ratio\n",
    "        Mc = chirp_mass\n",
    "        S = self.strain(x, frequencies)\n",
    "        \n",
    "        expr1 = -2j * f * jnp.pi * S\n",
    "        expr2 = 1j * S\n",
    "        expr3 = (5j * S * (252 + jnp.pi**(2/3) * ((f * Mc * self.m_sun_sec) / eta**(3/5))**(2/3) * (743 + 924 * eta))) / (32256 * Mc * jnp.pi**(5/3) * ((f * Mc * self.m_sun_sec) / eta**(3/5))**(5/3) * eta)\n",
    "        expr4 = -((1j * S * (-743 + 1386 * eta)) / (16128 * f * Mc * self.m_sun_sec * jnp.pi * eta**(7/5)))\n",
    "        expr5 = S / Amplitude\n",
    "        \n",
    "        return jnp.array([expr1, expr2, expr3, expr4, expr5])\n",
    "\n",
    "    def inner_product(self, a, b):\n",
    "        return jnp.sum(a.conjugate() * b, axis=-1).T\n",
    "\n",
    "    def potential_single(self, x):\n",
    "        residual = self.strain(x, self.frequency) - self.data\n",
    "        return 0.5 * self.inner_product(residual, residual).real\n",
    "\n",
    "    def gradient_potential_single(self, x):\n",
    "        residual = self.strain(x, self.frequency) - self.data\n",
    "        gradient_residual = self.gradient_strain(x, self.frequency)\n",
    "        return self.inner_product(gradient_residual, residual).real\n",
    "\n",
    "# Instantiate class\n",
    "injection = jnp.array([0, 0, 30.0, 0.24, 2e-22])\n",
    "model = taylorf2(injection)\n",
    "\n",
    "# Get a point to evaluate at\n",
    "import numpy as np\n",
    "x = model.injection + np.random.uniform(low=0, high=0.0001, size=5)\n",
    "\n",
    "# The model and its derivative are calculated correctly\n",
    "test1 = jax.jacfwd(model.strain)(x, 10)\n",
    "test2 = model.gradient_strain(x, 10)\n",
    "\n",
    "print(test1)\n",
    "print(test2)\n",
    "\n",
    "test3 = jax.jacrev(model.potential_single)(x)\n",
    "test4 = model.gradient_potential_single(x)\n",
    "\n",
    "# Last component agrees, but all others disagree\n",
    "print(test3)\n",
    "print(test4)"
   ]
  },
  {
   "cell_type": "code",
   "execution_count": 51,
   "metadata": {},
   "outputs": [
    {
     "data": {
      "text/plain": [
       "Array([8.12576959e-05, 2.47812873e-06, 3.00000972e+01, 2.40001650e-01,\n",
       "       6.01044027e-05], dtype=float64)"
      ]
     },
     "execution_count": 51,
     "metadata": {},
     "output_type": "execute_result"
    }
   ],
   "source": [
    "x"
   ]
  },
  {
   "cell_type": "code",
   "execution_count": 48,
   "metadata": {},
   "outputs": [],
   "source": [
    "test2 = model.gradient_strain(x, jnp.array([10., 20.]))"
   ]
  },
  {
   "cell_type": "code",
   "execution_count": 49,
   "metadata": {},
   "outputs": [
    {
     "data": {
      "text/plain": [
       "(5, 2)"
      ]
     },
     "execution_count": 49,
     "metadata": {},
     "output_type": "execute_result"
    }
   ],
   "source": [
    "test2.shape"
   ]
  },
  {
   "cell_type": "code",
   "execution_count": 52,
   "metadata": {},
   "outputs": [
    {
     "name": "stdout",
     "output_type": "stream",
     "text": [
      "[ 1.55899046e-04-1.57640696e-04j -2.48121038e-06+2.50892960e-06j\n",
      " -2.32607483e-11+2.35206094e-11j -4.93860040e-10+4.99377273e-10j\n",
      "  4.84414772e-02+4.79062848e-02j]\n",
      "[ 1.55899046e-04-1.57640696e-04j -2.48121038e-06+2.50892960e-06j\n",
      " -2.32607483e-11+2.35206094e-11j -4.93860040e-10+4.99377273e-10j\n",
      "  4.84414772e-02+4.79062848e-02j]\n",
      "[ 9.56444786e-26 -4.32936726e-28 -7.86066186e-35 -1.71946360e-33\n",
      "  1.94030995e-06]\n",
      "[-5.93223401e-26  0.00000000e+00 -3.71773745e-33  9.37662926e-32\n",
      "  1.94030995e-06]\n"
     ]
    }
   ],
   "source": [
    "class taylorf2:\n",
    "    def __init__(self, injection):\n",
    "        self.injection = injection \n",
    "\n",
    "        # Frequency grid\n",
    "        self.frequency = jnp.linspace(10, 1000, num=1000)\n",
    "\n",
    "        # Constants\n",
    "        self.m_sun_sec = 1\n",
    "\n",
    "        # Data\n",
    "        self.data = self.strain(self.injection, self.frequency)\n",
    "\n",
    "    def strain(self, x, frequencies):\n",
    "        time_coalescence = x[0]\n",
    "        phase_coalescence = x[1]\n",
    "        chirp_mass = x[2]\n",
    "        symmetric_mass_ratio = x[3]\n",
    "        Amplitude = x[4]\n",
    "\n",
    "        # Redefined for cleaner expression\n",
    "        f = frequencies\n",
    "        eta = symmetric_mass_ratio\n",
    "        Mc = chirp_mass\n",
    "        phi = phase_coalescence\n",
    "        \n",
    "        expr = (Amplitude * jnp.exp(-1j * (-(jnp.pi/4) + 2 * f * jnp.pi * time_coalescence + (3 * (1 + jnp.pi**(2/3) * ((f * Mc * self.m_sun_sec) / eta**(3/5))**(2/3) * (3715/756 + (55 * eta)/9))) / (128 * jnp.pi**(5/3) * ((f * Mc * self.m_sun_sec) / eta**(3/5))**(5/3) * eta) - phi))) / f**(7/6)\n",
    "        \n",
    "        return expr\n",
    "\n",
    "    def gradient_strain(self, x, frequencies):\n",
    "        time_coalescence = x[0]\n",
    "        phase_coalescence = x[1]\n",
    "        chirp_mass = x[2]\n",
    "        symmetric_mass_ratio = x[3]\n",
    "        Amplitude = x[4]\n",
    "\n",
    "        # Redefined for cleaner expression\n",
    "        f = frequencies\n",
    "        eta = symmetric_mass_ratio\n",
    "        Mc = chirp_mass\n",
    "        S = self.strain(x, frequencies)\n",
    "        \n",
    "        expr1 = -2j * f * jnp.pi * S\n",
    "        expr2 = 1j * S\n",
    "        expr3 = (5j * S * (252 + jnp.pi**(2/3) * ((f * Mc * self.m_sun_sec) / eta**(3/5))**(2/3) * (743 + 924 * eta))) / (32256 * Mc * jnp.pi**(5/3) * ((f * Mc * self.m_sun_sec) / eta**(3/5))**(5/3) * eta)\n",
    "        expr4 = -((1j * S * (-743 + 1386 * eta)) / (16128 * f * Mc * self.m_sun_sec * jnp.pi * eta**(7/5)))\n",
    "        expr5 = S / Amplitude\n",
    "        \n",
    "        return jnp.array([expr1, expr2, expr3, expr4, expr5])\n",
    "\n",
    "    def inner_product(self, a, b):\n",
    "        return jnp.sum(a.conjugate() * b, axis=-1).T\n",
    "\n",
    "    def potential_single(self, x):\n",
    "        residual = self.strain(x, self.frequency) - self.data\n",
    "        return 0.5 * self.inner_product(residual, residual).real\n",
    "\n",
    "    def gradient_potential_single(self, x):\n",
    "        residual = self.strain(x, self.frequency) - self.data\n",
    "        gradient_residual = self.gradient_strain(x, self.frequency)\n",
    "        return self.inner_product(gradient_residual, residual).real\n",
    "\n",
    "# Instantiate class\n",
    "injection = jnp.array([0, 0, 30.0, 0.24, 2e-22])\n",
    "model = taylorf2(injection)\n",
    "\n",
    "# Get a point to evaluate at\n",
    "import numpy as np\n",
    "x = model.injection + np.random.uniform(low=0, high=0.0001, size=5)\n",
    "\n",
    "# The model and its derivative are calculated correctly\n",
    "test1 = jax.jacfwd(model.strain)(x, 10)\n",
    "test2 = model.gradient_strain(x, 10)\n",
    "\n",
    "print(test1)\n",
    "print(test2)\n",
    "\n",
    "test3 = jax.jacrev(model.potential_single)(x)\n",
    "test4 = model.gradient_potential_single(x)\n",
    "\n",
    "# Last component agrees, but all others disagree\n",
    "print(test3)\n",
    "print(test4)"
   ]
  },
  {
   "cell_type": "code",
   "execution_count": 53,
   "metadata": {},
   "outputs": [
    {
     "data": {
      "text/plain": [
       "array([-5.01416622e-27,  0.00000000e+00,  0.00000000e+00,  0.00000000e+00,\n",
       "        1.94030995e-06])"
      ]
     },
     "execution_count": 53,
     "metadata": {},
     "output_type": "execute_result"
    }
   ],
   "source": [
    "# This yields overflow ever\n",
    "import numdifftools as nd\n",
    "nd.Gradient(model.potential_single)(x)"
   ]
  },
  {
   "cell_type": "code",
   "execution_count": null,
   "metadata": {},
   "outputs": [],
   "source": []
  }
 ],
 "metadata": {
  "kernelspec": {
   "display_name": "ssvn",
   "language": "python",
   "name": "python3"
  },
  "language_info": {
   "codemirror_mode": {
    "name": "ipython",
    "version": 3
   },
   "file_extension": ".py",
   "mimetype": "text/x-python",
   "name": "python",
   "nbconvert_exporter": "python",
   "pygments_lexer": "ipython3",
   "version": "3.11.4"
  },
  "orig_nbformat": 4
 },
 "nbformat": 4,
 "nbformat_minor": 2
}
