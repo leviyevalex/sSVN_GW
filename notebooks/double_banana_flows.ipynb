{
 "cells": [
  {
   "cell_type": "markdown",
   "metadata": {
    "pycharm": {
     "name": "#%% md\n"
    }
   },
   "source": [
    "## Goal of notebook\n",
    "\n",
    "This notebook accompanies [sSVN](https://github.com/leviyevalex/sSVN), and provides an example of how to run on the double banana. Since this is a two dimensional example, we take this opportunity to compare the flows of sSVN to the flows of SVGD (https://arxiv.org/abs/1608.04471), sSVGD (https://arxiv.org/abs/1812.00071), and SVN (https://arxiv.org/abs/1806.03085). We encourage the reader to tinker with the stepsize `eps` and particle number `nParticles`. If desired, the kernel bandwidth `h` may be modified in `src/samplers.py`.\n",
    "The SVGD and SVN dynamics, once discretized, yield equations for the time evolution of a system of interacting particles. Both the stochastic version of SVGD (sSVGD) and our proposed stochastic version of SVN (sSVN) add a \"thermal\" noise term to the dynamics which correct for asymptotic errors introduced by discretization. This yields a noisy interacting particle system which has theoretical guarantees to equilibrate to the posterior."
   ]
  },
  {
   "cell_type": "markdown",
   "metadata": {
    "pycharm": {
     "name": "#%% md\n"
    }
   },
   "source": [
    "### Import tools"
   ]
  },
  {
   "cell_type": "code",
   "execution_count": 1,
   "metadata": {
    "pycharm": {
     "is_executing": true,
     "name": "#%%\n"
    }
   },
   "outputs": [],
   "source": [
    "%matplotlib notebook\n",
    "import logging\n",
    "import sys\n",
    "sys.path.append(\"..\")\n",
    "logging.basicConfig(stream=sys.stdout, level=logging.INFO)\n",
    "from IPython import display"
   ]
  },
  {
   "cell_type": "code",
   "execution_count": 2,
   "metadata": {
    "pycharm": {
     "is_executing": true,
     "name": "#%%\n"
    }
   },
   "outputs": [],
   "source": [
    "from src.samplers import samplers\n",
    "from models.double_banana import double_banana\n",
    "from scripts.create_contour import create_contour\n",
    "from scripts.create_animation import animate_driver"
   ]
  },
  {
   "cell_type": "markdown",
   "metadata": {
    "pycharm": {
     "name": "#%% md\n"
    }
   },
   "source": [
    "### Instantiate the double banana model"
   ]
  },
  {
   "cell_type": "code",
   "execution_count": 3,
   "metadata": {
    "pycharm": {
     "name": "#%%\n"
    }
   },
   "outputs": [],
   "source": [
    "model = double_banana()"
   ]
  },
  {
   "cell_type": "markdown",
   "metadata": {
    "pycharm": {
     "name": "#%% md\n"
    }
   },
   "source": [
    "### Run SVGD dynamics"
   ]
  },
  {
   "cell_type": "code",
   "execution_count": 4,
   "metadata": {
    "pycharm": {
     "name": "#%%\n"
    }
   },
   "outputs": [
    {
     "name": "stdout",
     "output_type": "stream",
     "text": [
      "new load\n",
      "bandwidth 10.000000\n"
     ]
    },
    {
     "name": "stderr",
     "output_type": "stream",
     "text": [
      "  0%|          | 0/100 [00:00<?, ?it/s]"
     ]
    },
    {
     "name": "stdout",
     "output_type": "stream",
     "text": [
      "ERROR:src.samplers:Error occurred in apply()\n",
      "Traceback (most recent call last):\n",
      "  File \"/mnt/c/sSVN_GW/notebooks/../src/samplers.py\", line 210, in apply\n",
      "    gmlpt, GN_Hmlpt = self._getDerivativesMinusLogPosterior_(X)\n",
      "  File \"/mnt/c/sSVN_GW/notebooks/../src/samplers.py\", line 517, in _getDerivativesMinusLogPosterior_\n",
      "    gmlpt_X, Hmlpt_X = self.model.getDerivativesMinusLogPosterior_ensemble(X)\n",
      "AttributeError: 'double_banana' object has no attribute 'getDerivativesMinusLogPosterior_ensemble'\n"
     ]
    },
    {
     "name": "stderr",
     "output_type": "stream",
     "text": [
      "\n"
     ]
    }
   ],
   "source": [
    "sampler1 = samplers(model=model, nIterations=100, nParticles=200, profile=False)\n",
    "sampler1.apply(method='sSVN', eps=0.1)"
   ]
  },
  {
   "cell_type": "code",
   "execution_count": 5,
   "metadata": {
    "collapsed": false,
    "pycharm": {
     "name": "#%%\n"
    }
   },
   "outputs": [
    {
     "name": "stdout",
     "output_type": "stream",
     "text": [
      "INFO:scripts.create_contour:Using contour file for given settings found in /outdir \n",
      "INFO:scripts.create_animation:Animating 100 frames\n",
      "WARNING:matplotlib.animation:MovieWriter imagemagick unavailable; using Pillow instead.\n",
      "INFO:matplotlib.animation:Animation.save using <class 'matplotlib.animation.PillowWriter'>\n"
     ]
    }
   ],
   "source": [
    "%%capture\n",
    "contour_file_path1 = create_contour(sampler1)\n",
    "animation_path1 = animate_driver(contour_file_path1, sampler1)"
   ]
  },
  {
   "cell_type": "markdown",
   "metadata": {
    "collapsed": false,
    "pycharm": {
     "name": "#%% md\n"
    }
   },
   "source": [
    "### Run sSVGD dynamics"
   ]
  },
  {
   "cell_type": "code",
   "execution_count": null,
   "metadata": {
    "collapsed": false,
    "pycharm": {
     "name": "#%%\n"
    }
   },
   "outputs": [],
   "source": [
    "sampler2 = samplers(model=model, nIterations=100, nParticles=300, profile=False)\n",
    "sampler2.apply(method='sSVGD', eps=0.1)"
   ]
  },
  {
   "cell_type": "code",
   "execution_count": null,
   "metadata": {
    "collapsed": false,
    "pycharm": {
     "name": "#%%\n"
    }
   },
   "outputs": [],
   "source": [
    "%%capture\n",
    "contour_file_path2 = create_contour(sampler2)\n",
    "animation_path2 = animate_driver(contour_file_path2, sampler2)"
   ]
  },
  {
   "cell_type": "markdown",
   "metadata": {
    "collapsed": false,
    "pycharm": {
     "name": "#%% md\n"
    }
   },
   "source": [
    "### Run SVN dynamics"
   ]
  },
  {
   "cell_type": "code",
   "execution_count": null,
   "metadata": {
    "collapsed": false,
    "pycharm": {
     "name": "#%%\n"
    }
   },
   "outputs": [],
   "source": [
    "sampler3 = samplers(model=model, nIterations=100, nParticles=300, profile=False)\n",
    "sampler3.apply(method='SVN', eps=0.2)"
   ]
  },
  {
   "cell_type": "code",
   "execution_count": null,
   "metadata": {
    "pycharm": {
     "name": "#%%\n"
    },
    "scrolled": true
   },
   "outputs": [],
   "source": [
    "%%capture\n",
    "contour_file_path3 = create_contour(sampler3)\n",
    "animation_path3 = animate_driver(contour_file_path3, sampler3)"
   ]
  },
  {
   "cell_type": "markdown",
   "metadata": {
    "collapsed": false,
    "pycharm": {
     "name": "#%% md\n"
    }
   },
   "source": [
    "### Run sSVN dynamics"
   ]
  },
  {
   "cell_type": "code",
   "execution_count": null,
   "metadata": {
    "collapsed": false,
    "pycharm": {
     "name": "#%%\n"
    }
   },
   "outputs": [],
   "source": [
    "sampler4 = samplers(model=model, nIterations=100, nParticles=300, profile=False)\n",
    "sampler4.apply(method='sSVN', eps=0.2)"
   ]
  },
  {
   "cell_type": "code",
   "execution_count": null,
   "metadata": {
    "collapsed": false,
    "pycharm": {
     "name": "#%%\n"
    }
   },
   "outputs": [],
   "source": [
    "%%capture\n",
    "contour_file_path4 = create_contour(sampler4)\n",
    "animation_path4 = animate_driver(contour_file_path4, sampler4)"
   ]
  },
  {
   "cell_type": "markdown",
   "metadata": {
    "pycharm": {
     "name": "#%% md\n"
    }
   },
   "source": [
    "### Display animation"
   ]
  },
  {
   "cell_type": "code",
   "execution_count": null,
   "metadata": {
    "pycharm": {
     "name": "#%%\n"
    }
   },
   "outputs": [],
   "source": [
    "display.display(display.Image(animation_path1))"
   ]
  },
  {
   "cell_type": "code",
   "execution_count": null,
   "metadata": {
    "collapsed": false,
    "pycharm": {
     "name": "#%%\n"
    }
   },
   "outputs": [],
   "source": [
    "display.display(display.Image(animation_path2))"
   ]
  },
  {
   "cell_type": "code",
   "execution_count": null,
   "metadata": {
    "collapsed": false,
    "pycharm": {
     "name": "#%%\n"
    }
   },
   "outputs": [],
   "source": [
    "display.display(display.Image(animation_path3))"
   ]
  },
  {
   "cell_type": "code",
   "execution_count": null,
   "metadata": {
    "collapsed": false,
    "pycharm": {
     "name": "#%%\n"
    }
   },
   "outputs": [],
   "source": [
    "display.display(display.Image(animation_path4))"
   ]
  }
 ],
 "metadata": {
  "interpreter": {
   "hash": "e2814770d399b2bf9e6c72e7ba395815210fc35bc5419179e57e34b6cf870fe1"
  },
  "kernelspec": {
   "display_name": "Python 3.10.4 ('myenv')",
   "language": "python",
   "name": "python3"
  },
  "language_info": {
   "codemirror_mode": {
    "name": "ipython",
    "version": 3
   },
   "file_extension": ".py",
   "mimetype": "text/x-python",
   "name": "python",
   "nbconvert_exporter": "python",
   "pygments_lexer": "ipython3",
   "version": "3.10.4"
  }
 },
 "nbformat": 4,
 "nbformat_minor": 1
}
