{
 "cells": [
  {
   "cell_type": "markdown",
   "metadata": {},
   "source": [
    "# Exploration of the jaxns library"
   ]
  },
  {
   "cell_type": "code",
   "execution_count": null,
   "metadata": {},
   "outputs": [],
   "source": [
    "import sys, os\n",
    "sys.path.append(\"..\")\n",
    "from models.JAXHRD import hybrid_rosenbrock\n",
    "import numpy as np\n",
    "from jax.config import config\n",
    "\n",
    "config.update(\"jax_enable_x64\", True)\n",
    "\n",
    "import pylab as plt\n",
    "import tensorflow_probability.substrates.jax as tfp\n",
    "from jax import random, numpy as jnp\n",
    "from jax import vmap\n",
    "import jax\n",
    "\n",
    "from jaxns import DefaultNestedSampler\n",
    "from jaxns import Model\n",
    "from jaxns import Prior\n",
    "from jaxns import bruteforce_evidence\n",
    "from jaxns import TerminationCondition\n",
    "from corner import corner\n",
    "from jaxns.utils import resample"
   ]
  },
  {
   "cell_type": "code",
   "execution_count": null,
   "metadata": {},
   "outputs": [],
   "source": [
    "# Define Hybrid Rosenbrock model\n",
    "n2 = 3\n",
    "n1 = 4\n",
    "DoF = n2 * (n1 - 1) + 1\n",
    "B = np.zeros(DoF)\n",
    "B[0] = 30\n",
    "B[1:] = 20\n",
    "mu=1\n",
    "model = hybrid_rosenbrock(n2, n1, mu, B, seed=35)\n",
    "\n",
    "# Draw i.i.d samples\n",
    "iid_samples = model.newDrawFromPosterior(50000000)\n",
    "truth_table = ((iid_samples > model.lower_bound) & (iid_samples < model.upper_bound))\n",
    "idx = np.where(np.all(truth_table, axis=1))[0]\n",
    "print('%i samples obtained from rejection sampling' % idx.shape[0])\n",
    "bounded_iid_samples = iid_samples[idx]"
   ]
  },
  {
   "cell_type": "code",
   "execution_count": 41,
   "metadata": {},
   "outputs": [],
   "source": [
    "# Setup sampler\n",
    "tfpd = tfp.distributions\n",
    "\n",
    "def prior_model():\n",
    "    x = yield Prior(tfpd.Uniform(low=model.lower_bound, high=model.upper_bound), name='x')\n",
    "    return x\n",
    "\n",
    "log_like = lambda x: -1 * model.getMinusLogPosterior(x)\n",
    "\n",
    "jaxns_model = Model(prior_model=prior_model, log_likelihood=log_like)\n",
    "\n",
    "# Create the nested sampler class. In this case without any tuning.\n",
    "ns = DefaultNestedSampler(model=jaxns_model, max_samples=1e6)\n",
    "\n",
    "ns_jit = jax.jit(ns)"
   ]
  },
  {
   "cell_type": "code",
   "execution_count": 42,
   "metadata": {},
   "outputs": [
    {
     "name": "stderr",
     "output_type": "stream",
     "text": [
      "/home/al44828/miniconda3/envs/cpu_samplers/lib/python3.11/site-packages/jax/_src/ops/scatter.py:94: FutureWarning: scatter inputs have incompatible types: cannot safely cast value from dtype=float64 to dtype=int64 with jax_numpy_dtype_promotion='standard'. In future JAX releases this will result in an error.\n",
      "  warnings.warn(\n"
     ]
    },
    {
     "name": "stdout",
     "output_type": "stream",
     "text": [
      "CPU times: user 41.9 s, sys: 495 ms, total: 42.4 s\n",
      "Wall time: 36.3 s\n"
     ]
    }
   ],
   "source": [
    "%%time\n",
    "termination_reason, state = ns_jit(random.PRNGKey(420))\n",
    "results = ns.to_results(termination_reason=termination_reason, state=state)"
   ]
  },
  {
   "cell_type": "code",
   "execution_count": 44,
   "metadata": {},
   "outputs": [
    {
     "name": "stdout",
     "output_type": "stream",
     "text": [
      "--------\n",
      "Termination Conditions:\n",
      "Small remaining evidence\n",
      "--------\n",
      "likelihood evals: 252209\n",
      "samples: 16430\n",
      "phantom samples: 13250.0\n",
      "likelihood evals / sample: 15.4\n",
      "phantom fraction (%): 80.6%\n",
      "--------\n",
      "logZ=-11.79 +- 0.25\n",
      "H=870.0\n",
      "ESS=1908.9117258599542\n",
      "--------\n",
      "x[#]: mean +- std.dev. | 10%ile / 50%ile / 90%ile | MAP est. | max(L) est.\n",
      "x[0]: 1.022 +- 0.05 | 0.957 / 1.025 / 1.084 | 1.0 | 1.0\n",
      "x[1]: 1.02 +- 0.12 | 0.86 / 1.02 / 1.17 | 1.01 | 1.01\n",
      "x[2]: 1.03 +- 0.23 | 0.73 / 1.02 / 1.35 | 1.0 | 1.0\n",
      "x[3]: 1.11 +- 0.48 | 0.53 / 1.06 / 1.76 | 1.0 | 1.0\n",
      "x[4]: 1.057 +- 0.091 | 0.934 / 1.058 / 1.176 | 0.993 | 0.993\n",
      "x[5]: 1.13 +- 0.17 | 0.91 / 1.13 / 1.39 | 0.98 | 0.98\n",
      "x[6]: 1.33 +- 0.39 | 0.85 / 1.27 / 1.94 | 0.97 | 0.97\n",
      "x[7]: 1.08 +- 0.11 | 0.93 / 1.09 / 1.23 | 0.94 | 0.94\n",
      "x[8]: 1.21 +- 0.22 | 0.9 / 1.22 / 1.51 | 0.91 | 0.91\n",
      "x[9]: 1.53 +- 0.53 | 0.84 / 1.49 / 2.36 | 0.85 | 0.85\n",
      "--------\n"
     ]
    }
   ],
   "source": [
    "ns.summary(results)"
   ]
  },
  {
   "cell_type": "code",
   "execution_count": null,
   "metadata": {},
   "outputs": [],
   "source": [
    "# Compare samples to i.i.d algorithm\n",
    "samples_jaxns = np.array(resample(random.PRNGKey(42), results.samples, results.log_dp_mean, S=int(results.ESS))['x'])\n",
    "print('Number of samples obtained: %i' % samples_jaxns.shape[0])\n",
    "fig1 = corner(bounded_iid_samples[0:30000], hist_kwargs={'density':True})\n",
    "corner(np.array(samples_jaxns), color='r', fig=fig1, hist_kwargs={'density':True})"
   ]
  }
 ],
 "metadata": {
  "kernelspec": {
   "display_name": "cpu_samplers",
   "language": "python",
   "name": "python3"
  },
  "language_info": {
   "codemirror_mode": {
    "name": "ipython",
    "version": 3
   },
   "file_extension": ".py",
   "mimetype": "text/x-python",
   "name": "python",
   "nbconvert_exporter": "python",
   "pygments_lexer": "ipython3",
   "version": "3.11.5"
  }
 },
 "nbformat": 4,
 "nbformat_minor": 2
}
