{
 "cells": [
  {
   "cell_type": "markdown",
   "metadata": {
    "pycharm": {
     "name": "#%% md\n"
    }
   },
   "source": [
    "## Goal of notebook\n",
    "\n",
    "This notebook aims to quantify the effect of neglecting topological effects in the Stein dynamics. To do this, we investigate the output samples on a one-dimensional von Mises distribution."
   ]
  },
  {
   "cell_type": "markdown",
   "metadata": {
    "pycharm": {
     "name": "#%% md\n"
    }
   },
   "source": [
    "# Import tools"
   ]
  },
  {
   "cell_type": "code",
   "execution_count": 1,
   "metadata": {
    "pycharm": {
     "name": "#%%\n"
    }
   },
   "outputs": [],
   "source": [
    "from models.vM_circle import vM_circle\n",
    "from src.samplers import samplers\n",
    "from scripts.plot_helper_functions import collect_samples\n",
    "import numpy as np\n",
    "%matplotlib inline\n",
    "import logging\n",
    "import sys\n",
    "logging.basicConfig(stream=sys.stdout, level=logging.INFO)\n",
    "import corner\n",
    "from chainconsumer import ChainConsumer\n",
    "import matplotlib.pyplot as plt"
   ]
  },
  {
   "cell_type": "markdown",
   "metadata": {
    "pycharm": {
     "name": "#%% md\n"
    }
   },
   "source": [
    "# Setup von Mises distribution"
   ]
  },
  {
   "cell_type": "code",
   "execution_count": 2,
   "metadata": {
    "pycharm": {
     "name": "#%%\n"
    }
   },
   "outputs": [],
   "source": [
    "kappa = 100\n",
    "mu = 0 # Intrinsic angle\n",
    "mu_vmf = np.array([1, 0]) # Direction in R^2\n",
    "model = vM_circle(kappa=kappa, mu=mu)"
   ]
  },
  {
   "cell_type": "markdown",
   "metadata": {
    "pycharm": {
     "name": "#%% md\n"
    }
   },
   "source": [
    "# Visualize von Mises"
   ]
  },
  {
   "cell_type": "code",
   "execution_count": 3,
   "metadata": {
    "pycharm": {
     "name": "#%%\n"
    }
   },
   "outputs": [
    {
     "data": {
      "text/plain": "[<matplotlib.lines.Line2D at 0x1fda4bab250>]"
     },
     "execution_count": 3,
     "metadata": {},
     "output_type": "execute_result"
    },
    {
     "data": {
      "text/plain": "<Figure size 432x288 with 1 Axes>",
      "image/png": "[encoded data removed]"
     },
     "metadata": {
      "needs_background": "light"
     },
     "output_type": "display_data"
    }
   ],
   "source": [
    "domain = np.arange(0, 2 * np.pi, .1)\n",
    "range = np.exp(-1 * model.getMinusLogPosterior_ensemble(domain[..., np.newaxis]))\n",
    "plt.xlabel(r'$\\theta$')\n",
    "plt.title(r'von Mises distribution over $[0, 2\\pi]$.')\n",
    "plt.plot(domain, range)"
   ]
  },
  {
   "cell_type": "markdown",
   "metadata": {
    "pycharm": {
     "name": "#%% md\n"
    }
   },
   "source": [
    "# Run dynamics"
   ]
  },
  {
   "cell_type": "code",
   "execution_count": 8,
   "metadata": {
    "pycharm": {
     "name": "#%%\n"
    }
   },
   "outputs": [
    {
     "name": "stderr",
     "output_type": "stream",
     "text": [
      "  0%|          | 0/100 [00:00<?, ?it/s]"
     ]
    },
    {
     "name": "stdout",
     "output_type": "stream",
     "text": [
      "WARNING:src.samplers:CHOLESKY: Matrix not positive-definite. Adding alpha = 1.00E-01\n"
     ]
    },
    {
     "name": "stderr",
     "output_type": "stream",
     "text": [
      "Stepsize 0.010000 | Median bandwidth: 0.917079:   0%|          | 0/100 [00:00<?, ?it/s]"
     ]
    },
    {
     "name": "stdout",
     "output_type": "stream",
     "text": [
      "WARNING:src.samplers:CHOLESKY: Matrix not positive-definite. Adding alpha = 1.00E-02\n"
     ]
    },
    {
     "name": "stderr",
     "output_type": "stream",
     "text": [
      "Stepsize 0.010000 | Median bandwidth: 1.073116:   0%|          | 0/100 [00:00<?, ?it/s]"
     ]
    },
    {
     "name": "stdout",
     "output_type": "stream",
     "text": [
      "WARNING:src.samplers:CHOLESKY: Matrix not positive-definite. Adding alpha = 1.00E-02\n"
     ]
    },
    {
     "name": "stderr",
     "output_type": "stream",
     "text": [
      "Stepsize 0.010000 | Median bandwidth: 1.228535:   0%|          | 0/100 [00:00<?, ?it/s]"
     ]
    },
    {
     "name": "stdout",
     "output_type": "stream",
     "text": [
      "WARNING:src.samplers:CHOLESKY: Matrix not positive-definite. Adding alpha = 1.00E-02\n"
     ]
    },
    {
     "name": "stderr",
     "output_type": "stream",
     "text": [
      "Stepsize 0.010000 | Median bandwidth: 1.258186:   0%|          | 0/100 [00:00<?, ?it/s]"
     ]
    },
    {
     "name": "stdout",
     "output_type": "stream",
     "text": [
      "WARNING:src.samplers:CHOLESKY: Matrix not positive-definite. Adding alpha = 1.00E-02\n"
     ]
    },
    {
     "name": "stderr",
     "output_type": "stream",
     "text": [
      "Stepsize 0.010000 | Median bandwidth: 1.318788:   0%|          | 0/100 [00:00<?, ?it/s]"
     ]
    },
    {
     "name": "stdout",
     "output_type": "stream",
     "text": [
      "WARNING:src.samplers:CHOLESKY: Matrix not positive-definite. Adding alpha = 1.00E-02\n"
     ]
    },
    {
     "name": "stderr",
     "output_type": "stream",
     "text": [
      "Stepsize 0.010000 | Median bandwidth: 1.402701:   0%|          | 0/100 [00:00<?, ?it/s]"
     ]
    },
    {
     "name": "stdout",
     "output_type": "stream",
     "text": [
      "WARNING:src.samplers:CHOLESKY: Matrix not positive-definite. Adding alpha = 1.00E-02\n"
     ]
    },
    {
     "name": "stderr",
     "output_type": "stream",
     "text": [
      "Stepsize 0.010000 | Median bandwidth: 1.480568:   0%|          | 0/100 [00:00<?, ?it/s]"
     ]
    },
    {
     "name": "stdout",
     "output_type": "stream",
     "text": [
      "WARNING:src.samplers:CHOLESKY: Matrix not positive-definite. Adding alpha = 1.00E-02\n"
     ]
    },
    {
     "name": "stderr",
     "output_type": "stream",
     "text": [
      "Stepsize 0.010000 | Median bandwidth: 1.518002:   0%|          | 0/100 [00:00<?, ?it/s]"
     ]
    },
    {
     "name": "stdout",
     "output_type": "stream",
     "text": [
      "WARNING:src.samplers:CHOLESKY: Matrix not positive-definite. Adding alpha = 1.00E-02\n"
     ]
    },
    {
     "name": "stderr",
     "output_type": "stream",
     "text": [
      "Stepsize 0.010000 | Median bandwidth: 1.595501:   9%|▉         | 9/100 [00:00<00:01, 84.11it/s]"
     ]
    },
    {
     "name": "stdout",
     "output_type": "stream",
     "text": [
      "WARNING:src.samplers:CHOLESKY: Matrix not positive-definite. Adding alpha = 1.00E-02\n"
     ]
    },
    {
     "name": "stderr",
     "output_type": "stream",
     "text": [
      "Stepsize 0.010000 | Median bandwidth: 1.652192:   9%|▉         | 9/100 [00:00<00:01, 84.11it/s]"
     ]
    },
    {
     "name": "stdout",
     "output_type": "stream",
     "text": [
      "WARNING:src.samplers:CHOLESKY: Matrix not positive-definite. Adding alpha = 1.00E-02\n"
     ]
    },
    {
     "name": "stderr",
     "output_type": "stream",
     "text": [
      "Stepsize 0.010000 | Median bandwidth: 1.698770:   9%|▉         | 9/100 [00:00<00:01, 84.11it/s]"
     ]
    },
    {
     "name": "stdout",
     "output_type": "stream",
     "text": [
      "WARNING:src.samplers:CHOLESKY: Matrix not positive-definite. Adding alpha = 1.00E-03\n"
     ]
    },
    {
     "name": "stderr",
     "output_type": "stream",
     "text": [
      "Stepsize 0.010000 | Median bandwidth: 1.729459:   9%|▉         | 9/100 [00:00<00:01, 84.11it/s]"
     ]
    },
    {
     "name": "stdout",
     "output_type": "stream",
     "text": [
      "WARNING:src.samplers:CHOLESKY: Matrix not positive-definite. Adding alpha = 1.00E-02\n"
     ]
    },
    {
     "name": "stderr",
     "output_type": "stream",
     "text": [
      "Stepsize 0.010000 | Median bandwidth: 1.692612:   9%|▉         | 9/100 [00:00<00:01, 84.11it/s]"
     ]
    },
    {
     "name": "stdout",
     "output_type": "stream",
     "text": [
      "WARNING:src.samplers:CHOLESKY: Matrix not positive-definite. Adding alpha = 1.00E-02\n"
     ]
    },
    {
     "name": "stderr",
     "output_type": "stream",
     "text": [
      "Stepsize 0.010000 | Median bandwidth: 1.631691:   9%|▉         | 9/100 [00:00<00:01, 84.11it/s]"
     ]
    },
    {
     "name": "stdout",
     "output_type": "stream",
     "text": [
      "WARNING:src.samplers:CHOLESKY: Matrix not positive-definite. Adding alpha = 1.00E-02\n"
     ]
    },
    {
     "name": "stderr",
     "output_type": "stream",
     "text": [
      "Stepsize 0.010000 | Median bandwidth: 1.631967:   9%|▉         | 9/100 [00:00<00:01, 84.11it/s]"
     ]
    },
    {
     "name": "stdout",
     "output_type": "stream",
     "text": [
      "WARNING:src.samplers:CHOLESKY: Matrix not positive-definite. Adding alpha = 1.00E-02\n"
     ]
    },
    {
     "name": "stderr",
     "output_type": "stream",
     "text": [
      "Stepsize 0.010000 | Median bandwidth: 1.607464:   9%|▉         | 9/100 [00:00<00:01, 84.11it/s]"
     ]
    },
    {
     "name": "stdout",
     "output_type": "stream",
     "text": [
      "WARNING:src.samplers:CHOLESKY: Matrix not positive-definite. Adding alpha = 1.00E-03\n"
     ]
    },
    {
     "name": "stderr",
     "output_type": "stream",
     "text": [
      "Stepsize 0.010000 | Median bandwidth: 1.506436:   9%|▉         | 9/100 [00:00<00:01, 84.11it/s]"
     ]
    },
    {
     "name": "stdout",
     "output_type": "stream",
     "text": [
      "WARNING:src.samplers:CHOLESKY: Matrix not positive-definite. Adding alpha = 1.00E-03\n"
     ]
    },
    {
     "name": "stderr",
     "output_type": "stream",
     "text": [
      "Stepsize 0.010000 | Median bandwidth: 1.436207:  18%|█▊        | 18/100 [00:00<00:00, 84.11it/s]"
     ]
    },
    {
     "name": "stdout",
     "output_type": "stream",
     "text": [
      "WARNING:src.samplers:CHOLESKY: Matrix not positive-definite. Adding alpha = 1.00E-03\n"
     ]
    },
    {
     "name": "stderr",
     "output_type": "stream",
     "text": [
      "Stepsize 0.010000 | Median bandwidth: 1.385615:  18%|█▊        | 18/100 [00:00<00:00, 84.11it/s]"
     ]
    },
    {
     "name": "stdout",
     "output_type": "stream",
     "text": [
      "WARNING:src.samplers:CHOLESKY: Matrix not positive-definite. Adding alpha = 1.00E-03\n"
     ]
    },
    {
     "name": "stderr",
     "output_type": "stream",
     "text": [
      "Stepsize 0.010000 | Median bandwidth: 1.319354:  18%|█▊        | 18/100 [00:00<00:00, 84.11it/s]"
     ]
    },
    {
     "name": "stdout",
     "output_type": "stream",
     "text": [
      "WARNING:src.samplers:CHOLESKY: Matrix not positive-definite. Adding alpha = 1.00E-03\n"
     ]
    },
    {
     "name": "stderr",
     "output_type": "stream",
     "text": [
      "Stepsize 0.010000 | Median bandwidth: 1.286763:  18%|█▊        | 18/100 [00:00<00:00, 84.11it/s]"
     ]
    },
    {
     "name": "stdout",
     "output_type": "stream",
     "text": [
      "WARNING:src.samplers:CHOLESKY: Matrix not positive-definite. Adding alpha = 1.00E-03\n"
     ]
    },
    {
     "name": "stderr",
     "output_type": "stream",
     "text": [
      "Stepsize 0.010000 | Median bandwidth: 1.246654:  18%|█▊        | 18/100 [00:00<00:00, 84.11it/s]"
     ]
    },
    {
     "name": "stdout",
     "output_type": "stream",
     "text": [
      "WARNING:src.samplers:CHOLESKY: Matrix not positive-definite. Adding alpha = 1.00E-09\n"
     ]
    },
    {
     "name": "stderr",
     "output_type": "stream",
     "text": [
      "Stepsize 0.010000 | Median bandwidth: 1.187085:  18%|█▊        | 18/100 [00:00<00:00, 84.11it/s]"
     ]
    },
    {
     "name": "stdout",
     "output_type": "stream",
     "text": [
      "WARNING:src.samplers:CHOLESKY: Matrix not positive-definite. Adding alpha = 1.00E-09\n"
     ]
    },
    {
     "name": "stderr",
     "output_type": "stream",
     "text": [
      "Stepsize 0.010000 | Median bandwidth: 1.176932:  18%|█▊        | 18/100 [00:00<00:00, 84.11it/s]"
     ]
    },
    {
     "name": "stdout",
     "output_type": "stream",
     "text": [
      "WARNING:src.samplers:CHOLESKY: Matrix not positive-definite. Adding alpha = 1.00E-09\n"
     ]
    },
    {
     "name": "stderr",
     "output_type": "stream",
     "text": [
      "Stepsize 0.010000 | Median bandwidth: 1.047092:  18%|█▊        | 18/100 [00:00<00:00, 84.11it/s]"
     ]
    },
    {
     "name": "stdout",
     "output_type": "stream",
     "text": [
      "WARNING:src.samplers:CHOLESKY: Matrix not positive-definite. Adding alpha = 1.00E-09\n"
     ]
    },
    {
     "name": "stderr",
     "output_type": "stream",
     "text": [
      "Stepsize 0.010000 | Median bandwidth: 1.024392:  18%|█▊        | 18/100 [00:00<00:00, 84.11it/s]"
     ]
    },
    {
     "name": "stdout",
     "output_type": "stream",
     "text": [
      "WARNING:src.samplers:CHOLESKY: Matrix not positive-definite. Adding alpha = 1.00E-09\n"
     ]
    },
    {
     "name": "stderr",
     "output_type": "stream",
     "text": [
      "Stepsize 0.010000 | Median bandwidth: 0.938280:  27%|██▋       | 27/100 [00:00<00:00, 84.47it/s]"
     ]
    },
    {
     "name": "stdout",
     "output_type": "stream",
     "text": [
      "WARNING:src.samplers:CHOLESKY: Matrix not positive-definite. Adding alpha = 1.00E-09\n"
     ]
    },
    {
     "name": "stderr",
     "output_type": "stream",
     "text": [
      "Stepsize 0.010000 | Median bandwidth: 0.898884:  27%|██▋       | 27/100 [00:00<00:00, 84.47it/s]"
     ]
    },
    {
     "name": "stdout",
     "output_type": "stream",
     "text": [
      "WARNING:src.samplers:CHOLESKY: Matrix not positive-definite. Adding alpha = 1.00E-09\n"
     ]
    },
    {
     "name": "stderr",
     "output_type": "stream",
     "text": [
      "Stepsize 0.010000 | Median bandwidth: 0.790049:  27%|██▋       | 27/100 [00:00<00:00, 84.47it/s]"
     ]
    },
    {
     "name": "stdout",
     "output_type": "stream",
     "text": [
      "WARNING:src.samplers:CHOLESKY: Matrix not positive-definite. Adding alpha = 1.00E-09\n"
     ]
    },
    {
     "name": "stderr",
     "output_type": "stream",
     "text": [
      "Stepsize 0.010000 | Median bandwidth: 0.759797:  27%|██▋       | 27/100 [00:00<00:00, 84.47it/s]"
     ]
    },
    {
     "name": "stdout",
     "output_type": "stream",
     "text": [
      "WARNING:src.samplers:CHOLESKY: Matrix not positive-definite. Adding alpha = 1.00E-09\n"
     ]
    },
    {
     "name": "stderr",
     "output_type": "stream",
     "text": [
      "Stepsize 0.010000 | Median bandwidth: 0.693734:  27%|██▋       | 27/100 [00:00<00:00, 84.47it/s]"
     ]
    },
    {
     "name": "stdout",
     "output_type": "stream",
     "text": [
      "WARNING:src.samplers:CHOLESKY: Matrix not positive-definite. Adding alpha = 1.00E-09\n"
     ]
    },
    {
     "name": "stderr",
     "output_type": "stream",
     "text": [
      "Stepsize 0.010000 | Median bandwidth: 0.622895:  27%|██▋       | 27/100 [00:00<00:00, 84.47it/s]"
     ]
    },
    {
     "name": "stdout",
     "output_type": "stream",
     "text": [
      "WARNING:src.samplers:CHOLESKY: Matrix not positive-definite. Adding alpha = 1.00E-09\n"
     ]
    },
    {
     "name": "stderr",
     "output_type": "stream",
     "text": [
      "Stepsize 0.010000 | Median bandwidth: 0.601104:  27%|██▋       | 27/100 [00:00<00:00, 84.47it/s]"
     ]
    },
    {
     "name": "stdout",
     "output_type": "stream",
     "text": [
      "WARNING:src.samplers:CHOLESKY: Matrix not positive-definite. Adding alpha = 1.00E-09\n"
     ]
    },
    {
     "name": "stderr",
     "output_type": "stream",
     "text": [
      "Stepsize 0.010000 | Median bandwidth: 0.541613:  27%|██▋       | 27/100 [00:00<00:00, 84.47it/s]"
     ]
    },
    {
     "name": "stdout",
     "output_type": "stream",
     "text": [
      "WARNING:src.samplers:CHOLESKY: Matrix not positive-definite. Adding alpha = 1.00E-09\n"
     ]
    },
    {
     "name": "stderr",
     "output_type": "stream",
     "text": [
      "Stepsize 0.010000 | Median bandwidth: 0.502032:  27%|██▋       | 27/100 [00:00<00:00, 84.47it/s]"
     ]
    },
    {
     "name": "stdout",
     "output_type": "stream",
     "text": [
      "WARNING:src.samplers:CHOLESKY: Matrix not positive-definite. Adding alpha = 1.00E-09\n"
     ]
    },
    {
     "name": "stderr",
     "output_type": "stream",
     "text": [
      "Stepsize 0.010000 | Median bandwidth: 0.452384:  36%|███▌      | 36/100 [00:00<00:00, 83.71it/s]"
     ]
    },
    {
     "name": "stdout",
     "output_type": "stream",
     "text": [
      "WARNING:src.samplers:CHOLESKY: Matrix not positive-definite. Adding alpha = 1.00E-09\n"
     ]
    },
    {
     "name": "stderr",
     "output_type": "stream",
     "text": [
      "Stepsize 0.010000 | Median bandwidth: 0.418003:  36%|███▌      | 36/100 [00:00<00:00, 83.71it/s]"
     ]
    },
    {
     "name": "stdout",
     "output_type": "stream",
     "text": [
      "WARNING:src.samplers:CHOLESKY: Matrix not positive-definite. Adding alpha = 1.00E-09\n"
     ]
    },
    {
     "name": "stderr",
     "output_type": "stream",
     "text": [
      "Stepsize 0.010000 | Median bandwidth: 0.377639:  36%|███▌      | 36/100 [00:00<00:00, 83.71it/s]"
     ]
    },
    {
     "name": "stdout",
     "output_type": "stream",
     "text": [
      "WARNING:src.samplers:CHOLESKY: Matrix not positive-definite. Adding alpha = 1.00E-09\n"
     ]
    },
    {
     "name": "stderr",
     "output_type": "stream",
     "text": [
      "Stepsize 0.010000 | Median bandwidth: 0.361164:  36%|███▌      | 36/100 [00:00<00:00, 83.71it/s]"
     ]
    },
    {
     "name": "stdout",
     "output_type": "stream",
     "text": [
      "WARNING:src.samplers:CHOLESKY: Matrix not positive-definite. Adding alpha = 1.00E-09\n"
     ]
    },
    {
     "name": "stderr",
     "output_type": "stream",
     "text": [
      "Stepsize 0.010000 | Median bandwidth: 0.338114:  36%|███▌      | 36/100 [00:00<00:00, 83.71it/s]"
     ]
    },
    {
     "name": "stdout",
     "output_type": "stream",
     "text": [
      "WARNING:src.samplers:CHOLESKY: Matrix not positive-definite. Adding alpha = 1.00E-09\n"
     ]
    },
    {
     "name": "stderr",
     "output_type": "stream",
     "text": [
      "Stepsize 0.010000 | Median bandwidth: 0.308043:  36%|███▌      | 36/100 [00:00<00:00, 83.71it/s]"
     ]
    },
    {
     "name": "stdout",
     "output_type": "stream",
     "text": [
      "WARNING:src.samplers:CHOLESKY: Matrix not positive-definite. Adding alpha = 1.00E-09\n"
     ]
    },
    {
     "name": "stderr",
     "output_type": "stream",
     "text": [
      "Stepsize 0.010000 | Median bandwidth: 0.294350:  36%|███▌      | 36/100 [00:00<00:00, 83.71it/s]"
     ]
    },
    {
     "name": "stdout",
     "output_type": "stream",
     "text": [
      "WARNING:src.samplers:CHOLESKY: Matrix not positive-definite. Adding alpha = 1.00E-09\n"
     ]
    },
    {
     "name": "stderr",
     "output_type": "stream",
     "text": [
      "Stepsize 0.010000 | Median bandwidth: 0.287850:  36%|███▌      | 36/100 [00:00<00:00, 83.71it/s]"
     ]
    },
    {
     "name": "stdout",
     "output_type": "stream",
     "text": [
      "WARNING:src.samplers:CHOLESKY: Matrix not positive-definite. Adding alpha = 1.00E-09\n"
     ]
    },
    {
     "name": "stderr",
     "output_type": "stream",
     "text": [
      "Stepsize 0.010000 | Median bandwidth: 0.278920:  36%|███▌      | 36/100 [00:00<00:00, 83.71it/s]"
     ]
    },
    {
     "name": "stdout",
     "output_type": "stream",
     "text": [
      "WARNING:src.samplers:CHOLESKY: Matrix not positive-definite. Adding alpha = 1.00E-09\n"
     ]
    },
    {
     "name": "stderr",
     "output_type": "stream",
     "text": [
      "Stepsize 0.010000 | Median bandwidth: 0.255531:  45%|████▌     | 45/100 [00:00<00:00, 78.57it/s]"
     ]
    },
    {
     "name": "stdout",
     "output_type": "stream",
     "text": [
      "WARNING:src.samplers:CHOLESKY: Matrix not positive-definite. Adding alpha = 1.00E-09\n"
     ]
    },
    {
     "name": "stderr",
     "output_type": "stream",
     "text": [
      "Stepsize 0.010000 | Median bandwidth: 0.248823:  45%|████▌     | 45/100 [00:00<00:00, 78.57it/s]"
     ]
    },
    {
     "name": "stdout",
     "output_type": "stream",
     "text": [
      "WARNING:src.samplers:CHOLESKY: Matrix not positive-definite. Adding alpha = 1.00E-09\n"
     ]
    },
    {
     "name": "stderr",
     "output_type": "stream",
     "text": [
      "Stepsize 0.010000 | Median bandwidth: 0.248476:  45%|████▌     | 45/100 [00:00<00:00, 78.57it/s]"
     ]
    },
    {
     "name": "stdout",
     "output_type": "stream",
     "text": [
      "WARNING:src.samplers:CHOLESKY: Matrix not positive-definite. Adding alpha = 1.00E-09\n"
     ]
    },
    {
     "name": "stderr",
     "output_type": "stream",
     "text": [
      "Stepsize 0.010000 | Median bandwidth: 0.231118:  45%|████▌     | 45/100 [00:00<00:00, 78.57it/s]"
     ]
    },
    {
     "name": "stdout",
     "output_type": "stream",
     "text": [
      "WARNING:src.samplers:CHOLESKY: Matrix not positive-definite. Adding alpha = 1.00E-09\n"
     ]
    },
    {
     "name": "stderr",
     "output_type": "stream",
     "text": [
      "Stepsize 0.010000 | Median bandwidth: 0.200625:  45%|████▌     | 45/100 [00:00<00:00, 78.57it/s]"
     ]
    },
    {
     "name": "stdout",
     "output_type": "stream",
     "text": [
      "WARNING:src.samplers:CHOLESKY: Matrix not positive-definite. Adding alpha = 1.00E-09\n"
     ]
    },
    {
     "name": "stderr",
     "output_type": "stream",
     "text": [
      "Stepsize 0.010000 | Median bandwidth: 0.186299:  45%|████▌     | 45/100 [00:00<00:00, 78.57it/s]"
     ]
    },
    {
     "name": "stdout",
     "output_type": "stream",
     "text": [
      "WARNING:src.samplers:CHOLESKY: Matrix not positive-definite. Adding alpha = 1.00E-09\n"
     ]
    },
    {
     "name": "stderr",
     "output_type": "stream",
     "text": [
      "Stepsize 0.010000 | Median bandwidth: 0.173839:  45%|████▌     | 45/100 [00:00<00:00, 78.57it/s]"
     ]
    },
    {
     "name": "stdout",
     "output_type": "stream",
     "text": [
      "WARNING:src.samplers:CHOLESKY: Matrix not positive-definite. Adding alpha = 1.00E-09\n"
     ]
    },
    {
     "name": "stderr",
     "output_type": "stream",
     "text": [
      "Stepsize 0.010000 | Median bandwidth: 0.150402:  45%|████▌     | 45/100 [00:00<00:00, 78.57it/s]"
     ]
    },
    {
     "name": "stdout",
     "output_type": "stream",
     "text": [
      "WARNING:src.samplers:CHOLESKY: Matrix not positive-definite. Adding alpha = 1.00E-09\n"
     ]
    },
    {
     "name": "stderr",
     "output_type": "stream",
     "text": [
      "Stepsize 0.010000 | Median bandwidth: 0.150046:  53%|█████▎    | 53/100 [00:00<00:00, 74.40it/s]"
     ]
    },
    {
     "name": "stdout",
     "output_type": "stream",
     "text": [
      "WARNING:src.samplers:CHOLESKY: Matrix not positive-definite. Adding alpha = 1.00E-09\n"
     ]
    },
    {
     "name": "stderr",
     "output_type": "stream",
     "text": [
      "Stepsize 0.010000 | Median bandwidth: 0.141673:  53%|█████▎    | 53/100 [00:00<00:00, 74.40it/s]"
     ]
    },
    {
     "name": "stdout",
     "output_type": "stream",
     "text": [
      "WARNING:src.samplers:CHOLESKY: Matrix not positive-definite. Adding alpha = 1.00E-09\n"
     ]
    },
    {
     "name": "stderr",
     "output_type": "stream",
     "text": [
      "Stepsize 0.010000 | Median bandwidth: 0.141018:  53%|█████▎    | 53/100 [00:00<00:00, 74.40it/s]"
     ]
    },
    {
     "name": "stdout",
     "output_type": "stream",
     "text": [
      "WARNING:src.samplers:CHOLESKY: Matrix not positive-definite. Adding alpha = 1.00E-09\n"
     ]
    },
    {
     "name": "stderr",
     "output_type": "stream",
     "text": [
      "Stepsize 0.010000 | Median bandwidth: 0.131727:  53%|█████▎    | 53/100 [00:00<00:00, 74.40it/s]"
     ]
    },
    {
     "name": "stdout",
     "output_type": "stream",
     "text": [
      "WARNING:src.samplers:CHOLESKY: Matrix not positive-definite. Adding alpha = 1.00E-09\n"
     ]
    },
    {
     "name": "stderr",
     "output_type": "stream",
     "text": [
      "Stepsize 0.010000 | Median bandwidth: 0.121683:  53%|█████▎    | 53/100 [00:00<00:00, 74.40it/s]"
     ]
    },
    {
     "name": "stdout",
     "output_type": "stream",
     "text": [
      "WARNING:src.samplers:CHOLESKY: Matrix not positive-definite. Adding alpha = 1.00E-09\n"
     ]
    },
    {
     "name": "stderr",
     "output_type": "stream",
     "text": [
      "Stepsize 0.010000 | Median bandwidth: 0.114632:  53%|█████▎    | 53/100 [00:00<00:00, 74.40it/s]"
     ]
    },
    {
     "name": "stdout",
     "output_type": "stream",
     "text": [
      "WARNING:src.samplers:CHOLESKY: Matrix not positive-definite. Adding alpha = 1.00E-09\n"
     ]
    },
    {
     "name": "stderr",
     "output_type": "stream",
     "text": [
      "Stepsize 0.010000 | Median bandwidth: 0.102915:  53%|█████▎    | 53/100 [00:00<00:00, 74.40it/s]"
     ]
    },
    {
     "name": "stdout",
     "output_type": "stream",
     "text": [
      "WARNING:src.samplers:CHOLESKY: Matrix not positive-definite. Adding alpha = 1.00E-09\n"
     ]
    },
    {
     "name": "stderr",
     "output_type": "stream",
     "text": [
      "Stepsize 0.010000 | Median bandwidth: 0.096466:  53%|█████▎    | 53/100 [00:00<00:00, 74.40it/s]"
     ]
    },
    {
     "name": "stdout",
     "output_type": "stream",
     "text": [
      "WARNING:src.samplers:CHOLESKY: Matrix not positive-definite. Adding alpha = 1.00E-09\n"
     ]
    },
    {
     "name": "stderr",
     "output_type": "stream",
     "text": [
      "Stepsize 0.010000 | Median bandwidth: 0.089165:  61%|██████    | 61/100 [00:00<00:00, 70.45it/s]"
     ]
    },
    {
     "name": "stdout",
     "output_type": "stream",
     "text": [
      "WARNING:src.samplers:CHOLESKY: Matrix not positive-definite. Adding alpha = 1.00E-09\n"
     ]
    },
    {
     "name": "stderr",
     "output_type": "stream",
     "text": [
      "Stepsize 0.010000 | Median bandwidth: 0.082755:  61%|██████    | 61/100 [00:00<00:00, 70.45it/s]"
     ]
    },
    {
     "name": "stdout",
     "output_type": "stream",
     "text": [
      "WARNING:src.samplers:CHOLESKY: Matrix not positive-definite. Adding alpha = 1.00E-09\n"
     ]
    },
    {
     "name": "stderr",
     "output_type": "stream",
     "text": [
      "Stepsize 0.010000 | Median bandwidth: 0.071698:  61%|██████    | 61/100 [00:00<00:00, 70.45it/s]"
     ]
    },
    {
     "name": "stdout",
     "output_type": "stream",
     "text": [
      "WARNING:src.samplers:CHOLESKY: Matrix not positive-definite. Adding alpha = 1.00E-09\n"
     ]
    },
    {
     "name": "stderr",
     "output_type": "stream",
     "text": [
      "Stepsize 0.010000 | Median bandwidth: 0.064037:  61%|██████    | 61/100 [00:00<00:00, 70.45it/s]"
     ]
    },
    {
     "name": "stdout",
     "output_type": "stream",
     "text": [
      "WARNING:src.samplers:CHOLESKY: Matrix not positive-definite. Adding alpha = 1.00E-09\n"
     ]
    },
    {
     "name": "stderr",
     "output_type": "stream",
     "text": [
      "Stepsize 0.010000 | Median bandwidth: 0.062403:  61%|██████    | 61/100 [00:00<00:00, 70.45it/s]"
     ]
    },
    {
     "name": "stdout",
     "output_type": "stream",
     "text": [
      "WARNING:src.samplers:CHOLESKY: Matrix not positive-definite. Adding alpha = 1.00E-09\n"
     ]
    },
    {
     "name": "stderr",
     "output_type": "stream",
     "text": [
      "Stepsize 0.010000 | Median bandwidth: 0.058175:  61%|██████    | 61/100 [00:00<00:00, 70.45it/s]"
     ]
    },
    {
     "name": "stdout",
     "output_type": "stream",
     "text": [
      "WARNING:src.samplers:CHOLESKY: Matrix not positive-definite. Adding alpha = 1.00E-09\n"
     ]
    },
    {
     "name": "stderr",
     "output_type": "stream",
     "text": [
      "Stepsize 0.010000 | Median bandwidth: 0.054392:  61%|██████    | 61/100 [00:00<00:00, 70.45it/s]"
     ]
    },
    {
     "name": "stdout",
     "output_type": "stream",
     "text": [
      "WARNING:src.samplers:CHOLESKY: Matrix not positive-definite. Adding alpha = 1.00E-09\n"
     ]
    },
    {
     "name": "stderr",
     "output_type": "stream",
     "text": [
      "Stepsize 0.010000 | Median bandwidth: 0.047916:  61%|██████    | 61/100 [00:00<00:00, 70.45it/s]"
     ]
    },
    {
     "name": "stdout",
     "output_type": "stream",
     "text": [
      "WARNING:src.samplers:CHOLESKY: Matrix not positive-definite. Adding alpha = 1.00E-09\n"
     ]
    },
    {
     "name": "stderr",
     "output_type": "stream",
     "text": [
      "Stepsize 0.010000 | Median bandwidth: 0.046816:  69%|██████▉   | 69/100 [00:00<00:00, 64.29it/s]"
     ]
    },
    {
     "name": "stdout",
     "output_type": "stream",
     "text": [
      "WARNING:src.samplers:CHOLESKY: Matrix not positive-definite. Adding alpha = 1.00E-09\n"
     ]
    },
    {
     "name": "stderr",
     "output_type": "stream",
     "text": [
      "Stepsize 0.010000 | Median bandwidth: 0.044594:  69%|██████▉   | 69/100 [00:00<00:00, 64.29it/s]"
     ]
    },
    {
     "name": "stdout",
     "output_type": "stream",
     "text": [
      "WARNING:src.samplers:CHOLESKY: Matrix not positive-definite. Adding alpha = 1.00E-09\n"
     ]
    },
    {
     "name": "stderr",
     "output_type": "stream",
     "text": [
      "Stepsize 0.010000 | Median bandwidth: 0.042641:  69%|██████▉   | 69/100 [00:00<00:00, 64.29it/s]"
     ]
    },
    {
     "name": "stdout",
     "output_type": "stream",
     "text": [
      "WARNING:src.samplers:CHOLESKY: Matrix not positive-definite. Adding alpha = 1.00E-09\n"
     ]
    },
    {
     "name": "stderr",
     "output_type": "stream",
     "text": [
      "Stepsize 0.010000 | Median bandwidth: 0.040419:  69%|██████▉   | 69/100 [00:00<00:00, 64.29it/s]"
     ]
    },
    {
     "name": "stdout",
     "output_type": "stream",
     "text": [
      "WARNING:src.samplers:CHOLESKY: Matrix not positive-definite. Adding alpha = 1.00E-09\n"
     ]
    },
    {
     "name": "stderr",
     "output_type": "stream",
     "text": [
      "Stepsize 0.010000 | Median bandwidth: 0.040471:  69%|██████▉   | 69/100 [00:01<00:00, 64.29it/s]"
     ]
    },
    {
     "name": "stdout",
     "output_type": "stream",
     "text": [
      "WARNING:src.samplers:CHOLESKY: Matrix not positive-definite. Adding alpha = 1.00E-09\n"
     ]
    },
    {
     "name": "stderr",
     "output_type": "stream",
     "text": [
      "Stepsize 0.010000 | Median bandwidth: 0.037348:  69%|██████▉   | 69/100 [00:01<00:00, 64.29it/s]"
     ]
    },
    {
     "name": "stdout",
     "output_type": "stream",
     "text": [
      "WARNING:src.samplers:CHOLESKY: Matrix not positive-definite. Adding alpha = 1.00E-09\n"
     ]
    },
    {
     "name": "stderr",
     "output_type": "stream",
     "text": [
      "Stepsize 0.010000 | Median bandwidth: 0.036275:  69%|██████▉   | 69/100 [00:01<00:00, 64.29it/s]"
     ]
    },
    {
     "name": "stdout",
     "output_type": "stream",
     "text": [
      "WARNING:src.samplers:CHOLESKY: Matrix not positive-definite. Adding alpha = 1.00E-09\n"
     ]
    },
    {
     "name": "stderr",
     "output_type": "stream",
     "text": [
      "Stepsize 0.010000 | Median bandwidth: 0.036203:  76%|███████▌  | 76/100 [00:01<00:00, 61.31it/s]"
     ]
    },
    {
     "name": "stdout",
     "output_type": "stream",
     "text": [
      "WARNING:src.samplers:CHOLESKY: Matrix not positive-definite. Adding alpha = 1.00E-09\n"
     ]
    },
    {
     "name": "stderr",
     "output_type": "stream",
     "text": [
      "Stepsize 0.010000 | Median bandwidth: 0.033839:  76%|███████▌  | 76/100 [00:01<00:00, 61.31it/s]"
     ]
    },
    {
     "name": "stdout",
     "output_type": "stream",
     "text": [
      "WARNING:src.samplers:CHOLESKY: Matrix not positive-definite. Adding alpha = 1.00E-09\n"
     ]
    },
    {
     "name": "stderr",
     "output_type": "stream",
     "text": [
      "Stepsize 0.010000 | Median bandwidth: 0.034765:  76%|███████▌  | 76/100 [00:01<00:00, 61.31it/s]"
     ]
    },
    {
     "name": "stdout",
     "output_type": "stream",
     "text": [
      "WARNING:src.samplers:CHOLESKY: Matrix not positive-definite. Adding alpha = 1.00E-09\n"
     ]
    },
    {
     "name": "stderr",
     "output_type": "stream",
     "text": [
      "Stepsize 0.010000 | Median bandwidth: 0.034472:  76%|███████▌  | 76/100 [00:01<00:00, 61.31it/s]"
     ]
    },
    {
     "name": "stdout",
     "output_type": "stream",
     "text": [
      "WARNING:src.samplers:CHOLESKY: Matrix not positive-definite. Adding alpha = 1.00E-09\n"
     ]
    },
    {
     "name": "stderr",
     "output_type": "stream",
     "text": [
      "Stepsize 0.010000 | Median bandwidth: 0.032574:  76%|███████▌  | 76/100 [00:01<00:00, 61.31it/s]"
     ]
    },
    {
     "name": "stdout",
     "output_type": "stream",
     "text": [
      "WARNING:src.samplers:CHOLESKY: Matrix not positive-definite. Adding alpha = 1.00E-09\n"
     ]
    },
    {
     "name": "stderr",
     "output_type": "stream",
     "text": [
      "Stepsize 0.010000 | Median bandwidth: 0.030627:  76%|███████▌  | 76/100 [00:01<00:00, 61.31it/s]"
     ]
    },
    {
     "name": "stdout",
     "output_type": "stream",
     "text": [
      "WARNING:src.samplers:CHOLESKY: Matrix not positive-definite. Adding alpha = 1.00E-09\n"
     ]
    },
    {
     "name": "stderr",
     "output_type": "stream",
     "text": [
      "Stepsize 0.010000 | Median bandwidth: 0.030454:  76%|███████▌  | 76/100 [00:01<00:00, 61.31it/s]"
     ]
    },
    {
     "name": "stdout",
     "output_type": "stream",
     "text": [
      "WARNING:src.samplers:CHOLESKY: Matrix not positive-definite. Adding alpha = 1.00E-09\n"
     ]
    },
    {
     "name": "stderr",
     "output_type": "stream",
     "text": [
      "Stepsize 0.010000 | Median bandwidth: 0.030719:  83%|████████▎ | 83/100 [00:01<00:00, 57.75it/s]"
     ]
    },
    {
     "name": "stdout",
     "output_type": "stream",
     "text": [
      "WARNING:src.samplers:CHOLESKY: Matrix not positive-definite. Adding alpha = 1.00E-09\n"
     ]
    },
    {
     "name": "stderr",
     "output_type": "stream",
     "text": [
      "Stepsize 0.010000 | Median bandwidth: 0.029563:  83%|████████▎ | 83/100 [00:01<00:00, 57.75it/s]"
     ]
    },
    {
     "name": "stdout",
     "output_type": "stream",
     "text": [
      "WARNING:src.samplers:CHOLESKY: Matrix not positive-definite. Adding alpha = 1.00E-09\n"
     ]
    },
    {
     "name": "stderr",
     "output_type": "stream",
     "text": [
      "Stepsize 0.010000 | Median bandwidth: 0.026908:  83%|████████▎ | 83/100 [00:01<00:00, 57.75it/s]"
     ]
    },
    {
     "name": "stdout",
     "output_type": "stream",
     "text": [
      "WARNING:src.samplers:CHOLESKY: Matrix not positive-definite. Adding alpha = 1.00E-09\n"
     ]
    },
    {
     "name": "stderr",
     "output_type": "stream",
     "text": [
      "Stepsize 0.010000 | Median bandwidth: 0.028010:  83%|████████▎ | 83/100 [00:01<00:00, 57.75it/s]"
     ]
    },
    {
     "name": "stdout",
     "output_type": "stream",
     "text": [
      "WARNING:src.samplers:CHOLESKY: Matrix not positive-definite. Adding alpha = 1.00E-09\n"
     ]
    },
    {
     "name": "stderr",
     "output_type": "stream",
     "text": [
      "Stepsize 0.010000 | Median bandwidth: 0.027926:  83%|████████▎ | 83/100 [00:01<00:00, 57.75it/s]"
     ]
    },
    {
     "name": "stdout",
     "output_type": "stream",
     "text": [
      "WARNING:src.samplers:CHOLESKY: Matrix not positive-definite. Adding alpha = 1.00E-09\n"
     ]
    },
    {
     "name": "stderr",
     "output_type": "stream",
     "text": [
      "Stepsize 0.010000 | Median bandwidth: 0.027390:  83%|████████▎ | 83/100 [00:01<00:00, 57.75it/s]"
     ]
    },
    {
     "name": "stdout",
     "output_type": "stream",
     "text": [
      "WARNING:src.samplers:CHOLESKY: Matrix not positive-definite. Adding alpha = 1.00E-09\n"
     ]
    },
    {
     "name": "stderr",
     "output_type": "stream",
     "text": [
      "Stepsize 0.010000 | Median bandwidth: 0.026573:  89%|████████▉ | 89/100 [00:01<00:00, 52.52it/s]"
     ]
    },
    {
     "name": "stdout",
     "output_type": "stream",
     "text": [
      "WARNING:src.samplers:CHOLESKY: Matrix not positive-definite. Adding alpha = 1.00E-09\n"
     ]
    },
    {
     "name": "stderr",
     "output_type": "stream",
     "text": [
      "Stepsize 0.010000 | Median bandwidth: 0.024740:  89%|████████▉ | 89/100 [00:01<00:00, 52.52it/s]"
     ]
    },
    {
     "name": "stdout",
     "output_type": "stream",
     "text": [
      "WARNING:src.samplers:CHOLESKY: Matrix not positive-definite. Adding alpha = 1.00E-09\n"
     ]
    },
    {
     "name": "stderr",
     "output_type": "stream",
     "text": [
      "Stepsize 0.010000 | Median bandwidth: 0.023663:  89%|████████▉ | 89/100 [00:01<00:00, 52.52it/s]"
     ]
    },
    {
     "name": "stdout",
     "output_type": "stream",
     "text": [
      "WARNING:src.samplers:CHOLESKY: Matrix not positive-definite. Adding alpha = 1.00E-09\n"
     ]
    },
    {
     "name": "stderr",
     "output_type": "stream",
     "text": [
      "Stepsize 0.010000 | Median bandwidth: 0.023202:  89%|████████▉ | 89/100 [00:01<00:00, 52.52it/s]"
     ]
    },
    {
     "name": "stdout",
     "output_type": "stream",
     "text": [
      "WARNING:src.samplers:CHOLESKY: Matrix not positive-definite. Adding alpha = 1.00E-09\n"
     ]
    },
    {
     "name": "stderr",
     "output_type": "stream",
     "text": [
      "Stepsize 0.010000 | Median bandwidth: 0.021107:  89%|████████▉ | 89/100 [00:01<00:00, 52.52it/s]"
     ]
    },
    {
     "name": "stdout",
     "output_type": "stream",
     "text": [
      "WARNING:src.samplers:CHOLESKY: Matrix not positive-definite. Adding alpha = 1.00E-09\n"
     ]
    },
    {
     "name": "stderr",
     "output_type": "stream",
     "text": [
      "Stepsize 0.010000 | Median bandwidth: 0.020829:  89%|████████▉ | 89/100 [00:01<00:00, 52.52it/s]"
     ]
    },
    {
     "name": "stdout",
     "output_type": "stream",
     "text": [
      "WARNING:src.samplers:CHOLESKY: Matrix not positive-definite. Adding alpha = 1.00E-09\n"
     ]
    },
    {
     "name": "stderr",
     "output_type": "stream",
     "text": [
      "Stepsize 0.010000 | Median bandwidth: 0.019564:  95%|█████████▌| 95/100 [00:01<00:00, 49.74it/s]"
     ]
    },
    {
     "name": "stdout",
     "output_type": "stream",
     "text": [
      "WARNING:src.samplers:CHOLESKY: Matrix not positive-definite. Adding alpha = 1.00E-09\n"
     ]
    },
    {
     "name": "stderr",
     "output_type": "stream",
     "text": [
      "Stepsize 0.010000 | Median bandwidth: 0.018959:  95%|█████████▌| 95/100 [00:01<00:00, 49.74it/s]"
     ]
    },
    {
     "name": "stdout",
     "output_type": "stream",
     "text": [
      "WARNING:src.samplers:CHOLESKY: Matrix not positive-definite. Adding alpha = 1.00E-09\n"
     ]
    },
    {
     "name": "stderr",
     "output_type": "stream",
     "text": [
      "Stepsize 0.010000 | Median bandwidth: 0.020998:  95%|█████████▌| 95/100 [00:01<00:00, 49.74it/s]"
     ]
    },
    {
     "name": "stdout",
     "output_type": "stream",
     "text": [
      "WARNING:src.samplers:CHOLESKY: Matrix not positive-definite. Adding alpha = 1.00E-09\n"
     ]
    },
    {
     "name": "stderr",
     "output_type": "stream",
     "text": [
      "Stepsize 0.010000 | Median bandwidth: 0.022008:  95%|█████████▌| 95/100 [00:01<00:00, 49.74it/s]"
     ]
    },
    {
     "name": "stdout",
     "output_type": "stream",
     "text": [
      "WARNING:src.samplers:CHOLESKY: Matrix not positive-definite. Adding alpha = 1.00E-09\n"
     ]
    },
    {
     "name": "stderr",
     "output_type": "stream",
     "text": [
      "Stepsize 0.010000 | Median bandwidth: 0.021951:  95%|█████████▌| 95/100 [00:01<00:00, 49.74it/s]"
     ]
    },
    {
     "name": "stdout",
     "output_type": "stream",
     "text": [
      "WARNING:src.samplers:CHOLESKY: Matrix not positive-definite. Adding alpha = 1.00E-09\n"
     ]
    },
    {
     "name": "stderr",
     "output_type": "stream",
     "text": [
      "Stepsize 0.010000 | Median bandwidth: 0.021131: 100%|██████████| 100/100 [00:01<00:00, 61.65it/s]\n"
     ]
    },
    {
     "name": "stdout",
     "output_type": "stream",
     "text": [
      "INFO:src.samplers:OUTPUT: Run completed successfully! Data stored in:\n",
      " C:\\sSVN_GW\\outdir\\1657742321\\output_data.h5\n"
     ]
    }
   ],
   "source": [
    "sampler1 = samplers(model=model, nIterations=100, nParticles=50, profile=False)\n",
    "sampler1.apply(method='sSVGD', eps=0.01)"
   ]
  },
  {
   "cell_type": "markdown",
   "metadata": {
    "pycharm": {
     "name": "#%% md\n"
    }
   },
   "source": [
    "# Get summary statistics"
   ]
  },
  {
   "cell_type": "code",
   "execution_count": 9,
   "metadata": {
    "pycharm": {
     "name": "#%%\n"
    }
   },
   "outputs": [
    {
     "name": "stdout",
     "output_type": "stream",
     "text": [
      "WARNING:chainconsumer:Parameter $\\theta$ in chain Chain 0 is not constrained\n"
     ]
    },
    {
     "data": {
      "text/plain": "<Figure size 144x144 with 1 Axes>",
      "image/png": "[encoded data removed]"
     },
     "metadata": {
      "needs_background": "light"
     },
     "output_type": "display_data"
    }
   ],
   "source": [
    "X1 = collect_samples(sampler1.history_path)\n",
    "params = [r\"$\\theta$\"]\n",
    "c = ChainConsumer().add_chain(X1, parameters=params)\n",
    "summary = c.analysis.get_summary()\n",
    "fig = c.plotter.plot_distributions(truth=[0])\n",
    "# fig1 = corner.corner(X1) # X1 is one-dimensional"
   ]
  },
  {
   "cell_type": "markdown",
   "metadata": {
    "pycharm": {
     "name": "#%% md\n"
    }
   },
   "source": [
    "# Visualize samples on $\\mathbb{S}^1 \\hookrightarrow \\mathbb{R}^2$"
   ]
  },
  {
   "cell_type": "code",
   "execution_count": 10,
   "metadata": {
    "pycharm": {
     "name": "#%%\n"
    }
   },
   "outputs": [],
   "source": [
    "n_ground_truth = 500\n",
    "ground_truth_samples = model.sample_vMF(mu=mu_vmf, kappa=kappa, num_samples=n_ground_truth)\n",
    "x = np.cos(X1)\n",
    "y = np.sin(X1)"
   ]
  },
  {
   "cell_type": "code",
   "execution_count": 11,
   "metadata": {
    "pycharm": {
     "name": "#%%\n"
    }
   },
   "outputs": [
    {
     "name": "stderr",
     "output_type": "stream",
     "text": [
      "C:\\Users\\Alex\\AppData\\Local\\Temp\\ipykernel_30712\\2536241254.py:7: UserWarning: Matplotlib is currently using module://matplotlib_inline.backend_inline, which is a non-GUI backend, so cannot show the figure.\n",
      "  fig1.show()\n"
     ]
    },
    {
     "data": {
      "text/plain": "<Figure size 432x288 with 1 Axes>",
      "image/png": "[encoded data removed]"
     },
     "metadata": {
      "needs_background": "light"
     },
     "output_type": "display_data"
    }
   ],
   "source": [
    "fig1, ax = plt.subplots()\n",
    "circle = plt.Circle((0, 0), 1, color='k', fill=False)\n",
    "ax.add_patch(circle)\n",
    "ax.scatter(ground_truth_samples[:,0], ground_truth_samples[:,1], c='r')\n",
    "ax.scatter(x, y, c='b')\n",
    "ax.set_box_aspect(1)\n",
    "fig1.show()"
   ]
  },
  {
   "cell_type": "markdown",
   "metadata": {
    "pycharm": {
     "name": "#%% md\n"
    }
   },
   "source": [
    "# Remarks\n",
    "(1) Particles (most likely due to mode collapse) do not explore past the modes at the edges. Hence, they remain in bounds.\n",
    "(2) One may impose periodic boundary conditions for particles to jump over if necessary.\n",
    "(3) Upon visual inspection, the particles appear to behave appropriately!\n",
    "\n"
   ]
  },
  {
   "cell_type": "markdown",
   "source": [
    "# Conclusion\n",
    "This suggests that perhaps topological effects of $S^1$ are not prohibitive as a first approximation.\n",
    "Performance will most likely be diminished due to the difficulty SVGD has sampling multi-modal targets."
   ],
   "metadata": {
    "collapsed": false,
    "pycharm": {
     "name": "#%% md\n"
    }
   }
  },
  {
   "cell_type": "code",
   "execution_count": null,
   "outputs": [],
   "source": [],
   "metadata": {
    "collapsed": false,
    "pycharm": {
     "name": "#%%\n"
    }
   }
  }
 ],
 "metadata": {
  "kernelspec": {
   "display_name": "Python 3 (ipykernel)",
   "language": "python",
   "name": "python3"
  },
  "language_info": {
   "codemirror_mode": {
    "name": "ipython",
    "version": 3
   },
   "file_extension": ".py",
   "mimetype": "text/x-python",
   "name": "python",
   "nbconvert_exporter": "python",
   "pygments_lexer": "ipython3",
   "version": "3.10.4"
  }
 },
 "nbformat": 4,
 "nbformat_minor": 1
}