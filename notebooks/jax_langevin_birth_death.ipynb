{
 "cells": [
  {
   "cell_type": "code",
   "execution_count": 1,
   "metadata": {},
   "outputs": [
    {
     "name": "stdout",
     "output_type": "stream",
     "text": [
      "[cuda(id=0)]\n"
     ]
    }
   ],
   "source": [
    "import sys\n",
    "sys.path.append(\"..\")\n",
    "\n",
    "import jax, os, corner\n",
    "import jax.numpy as jnp\n",
    "from jax import grad, config\n",
    "import matplotlib.pyplot as plt\n",
    "import numpy as np\n",
    "config.update(\"jax_enable_x64\", True)\n",
    "config.update(\"jax_debug_nans\", True)\n",
    "from functools import partial\n",
    "\n",
    "# Load reparameterization methods\n",
    "from src.reparameterization import sigma, logistic_CDF, reparameterized_gradient\n",
    "\n",
    "# Load birth/death method\n",
    "from src.birth_death import birth_death\n",
    "\n",
    "print(jax.devices())"
   ]
  },
  {
   "cell_type": "code",
   "execution_count": 2,
   "metadata": {},
   "outputs": [],
   "source": [
    "def scan(f, init, xs, length=None):\n",
    "  if xs is None:\n",
    "    xs = [None] * length\n",
    "  carry = init\n",
    "  ys = []\n",
    "  for x in xs:\n",
    "    carry, y = f(carry, x)\n",
    "    ys.append(y)\n",
    "  return carry, np.stack(ys)"
   ]
  },
  {
   "cell_type": "markdown",
   "metadata": {},
   "source": [
    "# Mirrored Langevin Birth/Death (MLBD)"
   ]
  },
  {
   "cell_type": "code",
   "execution_count": 3,
   "metadata": {},
   "outputs": [],
   "source": [
    "# Annealing schedule\n",
    "gamma = lambda t: 1\n",
    "\n",
    "def ula_kernel(key, param, log_post, grad_log_post, dt, iteration, lower, upper, stride, rate, bandwidth, p):\n",
    "    \"\"\" \n",
    "    Remarks\n",
    "    -------\n",
    "    \n",
    "    (1) grad_log_post is the gradient of the potential. Change name of this later\n",
    "    (2) stride = 1 will run birth-death at every iteration!\n",
    "    \n",
    "    \"\"\"\n",
    "    key, subkey = jax.random.split(key)\n",
    "\n",
    "    # Transform to unbounded domain \n",
    "    Y, gmlpt_Y = reparameterized_gradient(param, grad_log_post, lower, upper, gamma(iteration))\n",
    "\n",
    "    # Perform jumps in unbounded domain\n",
    "    jumps = jax.lax.cond(jnp.mod(iteration, stride) == 0, lambda: birth_death(key, param, log_post, stepsize=jnp.min(dt), bandwidth=bandwidth, p=p, stride=stride, rate=rate, a=lower, b=upper, gamma=gamma(iteration)), lambda: jnp.arange(param.shape[0]))\n",
    "    # jumps = jnp.arange(param.shape[0])\n",
    "\n",
    "    # Perform update in unbounded domain\n",
    "    Y = Y[jumps] - gmlpt_Y[jumps] * dt + jnp.sqrt(2 * dt) * jax.random.normal(key=subkey, shape=(param.shape))\n",
    "\n",
    "    # Convert samples back to bounded domain \n",
    "    param = sigma(logistic_CDF(Y), lower, upper)\n",
    "\n",
    "    iteration = iteration + 1\n",
    "\n",
    "    return key, param, iteration\n",
    "\n",
    "@partial(jax.jit, static_argnums=(1,2,3))\n",
    "def ula_sampler_full_jax_jit(key, log_post, grad_log_post, n_iter, dt, x_0, lower, upper, stride=1, rate=1, bandwidth=0.01, p=2):\n",
    "\n",
    "    # @progress_bar_scan(n_iter)\n",
    "    # @scan_tqdm(1000)\n",
    "    # @scan_tqdm(n_iter, print_rate=1, desc='progress bar', position=0, leave=False)\n",
    "    def ula_step(carry, x):\n",
    "        key, param, iteration = carry\n",
    "        key, param, iteration = ula_kernel(key, param, log_post, grad_log_post, dt, iteration, lower, upper, stride, rate, bandwidth, p)\n",
    "        return (key, param, iteration), param\n",
    "\n",
    "    carry = (key, x_0, 0)\n",
    "    _, samples = jax.lax.scan(ula_step, carry, None, n_iter)\n",
    "    # _, samples = scan(ula_step, carry, None, n_iter)\n",
    "    return samples"
   ]
  },
  {
   "cell_type": "markdown",
   "metadata": {},
   "source": [
    "# Unit tests"
   ]
  },
  {
   "cell_type": "code",
   "execution_count": 4,
   "metadata": {},
   "outputs": [],
   "source": [
    "def rejection_sampling(iid_samples, lower_bound, upper_bound):\n",
    "    truth_table = ((iid_samples > lower_bound) & (iid_samples < upper_bound))\n",
    "    idx = np.where(np.all(truth_table, axis=1))[0]\n",
    "    print('%i samples obtained from rejection sampling' % idx.shape[0])\n",
    "    return np.array(iid_samples[idx])"
   ]
  },
  {
   "cell_type": "code",
   "execution_count": null,
   "metadata": {},
   "outputs": [],
   "source": [
    "\"\"\" \n",
    "Remarks\n",
    "-------\n",
    "(1) 2d MoG with increasing weights to the right\n",
    "(2) Sampler teleports out all particles from smallest mode given enough time\n",
    "(3) Can be mitigated using a small `rate`\n",
    "\n",
    "\"\"\"\n",
    "\n",
    "from models.mog_new import MoG \n",
    "\n",
    "k = 3\n",
    "d = 2\n",
    "weights = jnp.array([2, 4, 5])\n",
    "\n",
    "mus = jnp.zeros((k, d))\n",
    "mus = mus.at[0].set(jnp.array([-10, 0]))\n",
    "mus = mus.at[1].set(jnp.array([0, 0]))\n",
    "mus = mus.at[2].set(jnp.array([10, 0]))\n",
    "\n",
    "covs = jnp.zeros((k, d, d))\n",
    "covs = covs.at[0].set(jnp.eye(d))\n",
    "covs = covs.at[1].set(jnp.eye(d))\n",
    "covs = covs.at[2].set(jnp.eye(d))\n",
    "\n",
    "lower_bound = jnp.array([-15, -15])\n",
    "upper_bound = jnp.array([15, 15])\n",
    "\n",
    "model = MoG(weights, mus, covs, lower_bound, upper_bound)\n",
    "\n",
    "iid_samples = model.newDrawFromPosterior(1000000)\n",
    "\n",
    "bounded_iid_samples = rejection_sampling(iid_samples, model.lower_bound, model.upper_bound)"
   ]
  },
  {
   "cell_type": "code",
   "execution_count": null,
   "metadata": {},
   "outputs": [],
   "source": [
    "# Setup and run sampler\n",
    "n_iter = 50000\n",
    "n_particles = 200\n",
    "eps = 1e-2\n",
    "stride = 100\n",
    "rate = 0.001\n",
    "bandwidth = 0.01\n",
    "p = 2\n",
    "X0 = model._newDrawFromPrior(n_particles)\n",
    "key = jax.random.PRNGKey(0)\n",
    "sam = ula_sampler_full_jax_jit(key, jax.vmap(model.potential), jax.vmap(jax.jacfwd(model.potential)), n_iter, eps, X0, model.lower_bound, model.upper_bound, stride, rate)\n",
    "# sam = ula_sampler_full_jax_jit(key, jax.vmap(model.potential), jax.vmap(jax.jacfwd(model.potential)), n_iter, eps, sam[-1], model.lower_bound, model.upper_bound, stride, rate)"
   ]
  },
  {
   "cell_type": "code",
   "execution_count": null,
   "metadata": {},
   "outputs": [],
   "source": [
    "# Plot\n",
    "import matplotlib.lines as mlines\n",
    "reshaped_matrix = np.array(sam.reshape((sam.shape[0] * sam.shape[1], sam.shape[2])))\n",
    "fig = corner.corner(bounded_iid_samples[-20000:], hist_kwargs={'density':True}, truths=jnp.mean(bounded_iid_samples, axis=0), color='k') \n",
    "labels = [r'$x_1$', r'$x_2$']\n",
    "k_line = mlines.Line2D([], [], color='k', label='Truth')\n",
    "r_line = mlines.Line2D([], [], color='r', label='MLBD')\n",
    "corner.corner(reshaped_matrix[-20000:], color='r', fig=fig, hist_kwargs={'density':True}, labels=labels)\n",
    "plt.legend(handles=[k_line,r_line], bbox_to_anchor=(0., 1.0, 1., .0), loc=4)"
   ]
  },
  {
   "cell_type": "code",
   "execution_count": null,
   "metadata": {},
   "outputs": [],
   "source": [
    "\"\"\" \n",
    "Remarks\n",
    "-------\n",
    "(1) 2d MoG with all modes of similar weight\n",
    "\"\"\"\n",
    "\n",
    "from models.mog_new import MoG \n",
    "\n",
    "k = 3\n",
    "d = 2\n",
    "weights = jnp.array([5, 4, 5])\n",
    "\n",
    "mus = jnp.zeros((k, d))\n",
    "mus = mus.at[0].set(jnp.array([-10, 0]))\n",
    "mus = mus.at[1].set(jnp.array([0, 0]))\n",
    "mus = mus.at[2].set(jnp.array([10, 0]))\n",
    "\n",
    "covs = jnp.zeros((k, d, d))\n",
    "covs = covs.at[0].set(jnp.eye(d))\n",
    "covs = covs.at[1].set(jnp.eye(d))\n",
    "covs = covs.at[2].set(jnp.eye(d))\n",
    "\n",
    "model = MoG(weights, mus, covs)\n",
    "\n",
    "model.lower_bound = jnp.array([-15, -15])\n",
    "model.upper_bound = jnp.array([15, 15])\n",
    "\n",
    "iid_samples = model.newDrawFromPosterior(1000000)\n",
    "\n",
    "bounded_iid_samples = rejection_sampling(iid_samples, model.lower_bound, model.upper_bound)"
   ]
  },
  {
   "cell_type": "code",
   "execution_count": null,
   "metadata": {},
   "outputs": [],
   "source": [
    "# Setup and run sampler\n",
    "n_iter = 200000\n",
    "n_particles = 200\n",
    "eps = 1e-2\n",
    "stride = 100\n",
    "rate = 0.01\n",
    "bandwidth = 0.1\n",
    "p = 0.5\n",
    "X0 = model._newDrawFromPrior(n_particles)\n",
    "key = jax.random.PRNGKey(0)\n",
    "sam = ula_sampler_full_jax_jit(key, jax.vmap(model.potential), jax.vmap(jax.jacfwd(model.potential)), n_iter, eps, X0, model.lower_bound, model.upper_bound, stride, rate)"
   ]
  },
  {
   "cell_type": "code",
   "execution_count": null,
   "metadata": {},
   "outputs": [],
   "source": [
    "# Plot\n",
    "import matplotlib.lines as mlines\n",
    "reshaped_matrix = np.array(sam.reshape((sam.shape[0] * sam.shape[1], sam.shape[2])))\n",
    "fig = corner.corner(bounded_iid_samples[-20000:], hist_kwargs={'density':True}, truths=jnp.mean(bounded_iid_samples, axis=0), color='k') \n",
    "labels = [r'$x_1$', r'$x_2$']\n",
    "k_line = mlines.Line2D([], [], color='k', label='Truth')\n",
    "r_line = mlines.Line2D([], [], color='r', label='MLBD')\n",
    "corner.corner(reshaped_matrix[-20000:], color='r', fig=fig, hist_kwargs={'density':True}, labels=labels)\n",
    "plt.legend(handles=[k_line,r_line], bbox_to_anchor=(0., 1.0, 1., .0), loc=4)"
   ]
  },
  {
   "cell_type": "code",
   "execution_count": null,
   "metadata": {},
   "outputs": [],
   "source": [
    "\"\"\" \n",
    "Remarks\n",
    "-------\n",
    "(1) 15d MoG with all modes of similar weight\n",
    "\"\"\"\n",
    "\n",
    "from models.mog_new import MoG \n",
    "\n",
    "k = 3\n",
    "d = 15\n",
    "weights = jnp.array([5, 4, 5])\n",
    "\n",
    "mus = jnp.zeros((k, d))\n",
    "\n",
    "mus = mus.at[0].set(jnp.array([-10, 0, 0, 0, 0, 0, 0, 0, 0, 0, 0, 0, 0, 0, 0]))\n",
    "mus = mus.at[1].set(jnp.array([0, 0, 0, 0, 0, 0, 0, 0, 0, 0, 0, 0, 0, 0, 0]))\n",
    "mus = mus.at[2].set(jnp.array([10, 0, 0, 0, 0, 0, 0, 0, 0, 0, 0, 0, 0, 0, 0]))\n",
    "\n",
    "covs = jnp.zeros((k, d, d))\n",
    "covs = covs.at[0].set(jnp.eye(d))\n",
    "covs = covs.at[1].set(jnp.eye(d))\n",
    "covs = covs.at[2].set(jnp.eye(d))\n",
    "\n",
    "lower_bound = jnp.ones(d) * -15 \n",
    "upper_bound = jnp.ones(d) * 15 \n",
    "\n",
    "model = MoG(weights, mus, covs, lower_bound, upper_bound)\n",
    "\n",
    "\n",
    "iid_samples = model.newDrawFromPosterior(1000000)\n",
    "\n",
    "bounded_iid_samples = rejection_sampling(iid_samples, model.lower_bound, model.upper_bound)"
   ]
  },
  {
   "cell_type": "code",
   "execution_count": null,
   "metadata": {},
   "outputs": [],
   "source": [
    "# Setup and run sampler\n",
    "n_iter = 10000\n",
    "n_particles = 200\n",
    "eps = 1e-3\n",
    "stride = 100\n",
    "rate = 0.1\n",
    "bandwidth = 0.01\n",
    "p = 2\n",
    "X0 = model._newDrawFromPrior(n_particles)\n",
    "key = jax.random.PRNGKey(1)\n",
    "sam = ula_sampler_full_jax_jit(key, jax.vmap(model.potential), jax.vmap(jax.jacfwd(model.potential)), n_iter, eps, X0, model.lower_bound, model.upper_bound, stride, rate)"
   ]
  },
  {
   "cell_type": "code",
   "execution_count": null,
   "metadata": {},
   "outputs": [],
   "source": [
    "# Plot\n",
    "import matplotlib.lines as mlines\n",
    "reshaped_matrix = np.array(sam.reshape((sam.shape[0] * sam.shape[1], sam.shape[2])))\n",
    "fig = corner.corner(bounded_iid_samples[-20000:], hist_kwargs={'density':True}, truths=jnp.mean(bounded_iid_samples, axis=0), color='k') \n",
    "# labels = [r'$x_1$', r'$x_2$']\n",
    "k_line = mlines.Line2D([], [], color='k', label='Truth')\n",
    "r_line = mlines.Line2D([], [], color='r', label='MLBD')\n",
    "corner.corner(reshaped_matrix[-20000:], color='r', fig=fig, hist_kwargs={'density':True})#, labels=labels)\n",
    "plt.legend(handles=[k_line,r_line], bbox_to_anchor=(0., 1.0, 1., .0), loc=4)"
   ]
  },
  {
   "cell_type": "code",
   "execution_count": 5,
   "metadata": {},
   "outputs": [
    {
     "name": "stdout",
     "output_type": "stream",
     "text": [
      "788956 samples obtained from rejection sampling\n"
     ]
    }
   ],
   "source": [
    "\"\"\" \n",
    "Remarks\n",
    "-------\n",
    "(1) 15d MoG with some mass at the boundary\n",
    "\"\"\"\n",
    "\n",
    "from models.mog_new import MoG \n",
    "\n",
    "k = 3\n",
    "d = 15\n",
    "weights = jnp.array([5, 4, 5])\n",
    "\n",
    "mus = jnp.zeros((k, d))\n",
    "\n",
    "mus = mus.at[0].set(jnp.array([-15, 0, 0, 0, 0, 0, 0, 0, 0, 0, 0, 0, 0, 0, 0]))\n",
    "mus = mus.at[1].set(jnp.array([0, 0, 0, 0, 0, 0, 0, 0, 0, 0, 0, 0, 0, 0, 0]))\n",
    "mus = mus.at[2].set(jnp.array([10, 0, 0, 0, 0, 0, 0, 0, 0, 0, 0, 0, 0, 0, 0]))\n",
    "\n",
    "covs = jnp.zeros((k, d))\n",
    "covs = covs.at[0].set(jnp.ones(d))\n",
    "covs = covs.at[1].set(jnp.ones(d))\n",
    "covs = covs.at[2].set(jnp.ones(d))\n",
    "\n",
    "lower_bound = jnp.ones(d) * -15 \n",
    "upper_bound = jnp.ones(d) * 15 \n",
    "\n",
    "model = MoG(weights, mus, covs, lower_bound, upper_bound)\n",
    "\n",
    "\n",
    "iid_samples = model.newDrawFromPosterior(1000000)\n",
    "\n",
    "bounded_iid_samples = rejection_sampling(iid_samples, model.lower_bound, model.upper_bound)"
   ]
  },
  {
   "cell_type": "code",
   "execution_count": null,
   "metadata": {},
   "outputs": [],
   "source": [
    "corner.corner(bounded_iid_samples)"
   ]
  },
  {
   "cell_type": "code",
   "execution_count": 6,
   "metadata": {},
   "outputs": [
    {
     "data": {
      "text/plain": [
       "Array([-1161.31801855, -1320.60940254, -2015.40576518, -1996.51653664,\n",
       "       -1920.02268545], dtype=float64)"
      ]
     },
     "execution_count": 6,
     "metadata": {},
     "output_type": "execute_result"
    }
   ],
   "source": [
    "X0 = model._newDrawFromPrior(5).squeeze()\n",
    "jax.vmap(model.potential)(X0)"
   ]
  },
  {
   "cell_type": "code",
   "execution_count": 8,
   "metadata": {},
   "outputs": [],
   "source": [
    "# Setup and run sampler\n",
    "n_iter = 5000\n",
    "n_particles = 200\n",
    "eps = 1e-3\n",
    "stride = 100\n",
    "rate = 0.1\n",
    "bandwidth = 0.01\n",
    "p = 2\n",
    "X0 = model._newDrawFromPrior(n_particles)\n",
    "key = jax.random.PRNGKey(1)\n",
    "sam = ula_sampler_full_jax_jit(key, jax.vmap(model.potential), jax.vmap(jax.jacfwd(model.potential)), n_iter, eps, X0, model.lower_bound, model.upper_bound, stride, rate)"
   ]
  },
  {
   "cell_type": "code",
   "execution_count": null,
   "metadata": {},
   "outputs": [],
   "source": [
    "# Plot\n",
    "import matplotlib.lines as mlines\n",
    "reshaped_matrix = np.array(sam.reshape((sam.shape[0] * sam.shape[1], sam.shape[2])))\n",
    "fig = corner.corner(bounded_iid_samples[-20000:], hist_kwargs={'density':True}, truths=jnp.mean(bounded_iid_samples, axis=0), color='k') \n",
    "# labels = [r'$x_1$', r'$x_2$']\n",
    "k_line = mlines.Line2D([], [], color='k', label='Truth')\n",
    "r_line = mlines.Line2D([], [], color='r', label='MLBD')\n",
    "corner.corner(reshaped_matrix[-20000:], color='r', fig=fig, hist_kwargs={'density':True})#, labels=labels)\n",
    "plt.legend(handles=[k_line,r_line], bbox_to_anchor=(0., 1.0, 1., .0), loc=4)"
   ]
  },
  {
   "cell_type": "code",
   "execution_count": null,
   "metadata": {},
   "outputs": [],
   "source": []
  },
  {
   "cell_type": "code",
   "execution_count": null,
   "metadata": {},
   "outputs": [],
   "source": []
  },
  {
   "cell_type": "code",
   "execution_count": null,
   "metadata": {},
   "outputs": [],
   "source": [
    "from models.gw150914 import gwfast_LVGW150914\n",
    "\n",
    "# Initialize model\n",
    "# model = gwfast_LVGW150914(wf_model='IMRPhenomD', nbins=100, verbose=True)\n",
    "model = gwfast_LVGW150914(wf_model='TaylorF2', nbins=100, verbose=True)\n",
    "\n",
    "# Center periodic coordinates \n",
    "for param in ['Phicoal', 'psi', 'phi']:\n",
    "# for param in ['Phicoal', 'phi']:\n",
    "    x = model.injParams[param][0]\n",
    "    delta = x - (model.priorDict[param][1] + model.priorDict[param][0]) / 2\n",
    "    model.priorDict[param][0] += delta\n",
    "    model.priorDict[param][1] += delta\n",
    "\n",
    "model.lower_bound = model.lower_bound.at[4].set(model.priorDict['phi'][0])\n",
    "model.upper_bound = model.upper_bound.at[4].set(model.priorDict['phi'][1])\n",
    "\n",
    "model.lower_bound = model.lower_bound.at[8].set(model.priorDict['Phicoal'][0])\n",
    "model.upper_bound = model.upper_bound.at[8].set(model.priorDict['Phicoal'][1])\n",
    "\n",
    "model.lower_bound = model.lower_bound.at[6].set(model.priorDict['psi'][0])\n",
    "model.upper_bound = model.upper_bound.at[6].set(model.priorDict['psi'][1])"
   ]
  },
  {
   "cell_type": "code",
   "execution_count": null,
   "metadata": {},
   "outputs": [],
   "source": [
    "model.lower_bound"
   ]
  },
  {
   "cell_type": "code",
   "execution_count": null,
   "metadata": {},
   "outputs": [],
   "source": [
    "# Check to see if centering was successful\n",
    "print(model.lower_bound)\n",
    "print(model.upper_bound)\n",
    "\n",
    "print(np.mean(np.array(model.priorDict['Phicoal'])))\n",
    "print(model.true_params[8])\n",
    "\n",
    "print(np.mean(np.array(model.priorDict['phi'])))\n",
    "print(model.true_params[4])\n",
    "\n"
   ]
  },
  {
   "cell_type": "code",
   "execution_count": null,
   "metadata": {},
   "outputs": [],
   "source": [
    "\n",
    "n_iter = 200000\n",
    "n_particles = 200\n",
    "# eps = 1e-6\n",
    "eps = jnp.ones(9) * 1e-7\n",
    "eps = eps.at[1].set(1e-5)\n",
    "\n",
    "\n",
    "subset_params = jnp.array([0, 1, 2, 3, 5, 6, 7, 9, 10])\n",
    "lower = model.lower_bound[subset_params] \n",
    "upper = model.upper_bound[subset_params]\n",
    "\n",
    "# injection wrapper\n",
    "DoF = len(model.gwfast_param_order)\n",
    "injection = np.zeros(DoF)\n",
    "for d in range(DoF):\n",
    "    injection[d] = model.injParams[model.gwfast_param_order[d]]\n",
    "\n",
    "X_injection = np.tile(injection, n_particles).reshape(n_particles, DoF)\n",
    "X_injection_gpu = jnp.array(X_injection)\n",
    "\n",
    "# Initial draw from reduced prior\n",
    "X0_all = model._newDrawFromPrior(n_particles)\n",
    "X0_subset = X0_all[:, subset_params]\n",
    "\n",
    "# Fix eta coordinate for testing!\n",
    "# X0_subset = X0_subset.at[:,1].set(jnp.ones(n_particles) * injection[1])\n",
    "\n",
    "def potential_subset(X_red):\n",
    "    X_ = X_injection_gpu.at[:, subset_params].set(X_red)\n",
    "    return model.minusLogLikelihood(X_)\n",
    "\n",
    "def gradient_subset(X_red):\n",
    "    X_ = X_injection_gpu.at[:, subset_params].set(X_red)\n",
    "    return model.gradient_minusLogLikelihood(X_)[:, subset_params]\n",
    "    \n"
   ]
  },
  {
   "cell_type": "code",
   "execution_count": null,
   "metadata": {},
   "outputs": [],
   "source": [
    "import matplotlib.pyplot as plt\n",
    "n_iter = 100000\n",
    "plt.plot(np.arange(n_iter), gamma(np.arange(n_iter), T=n_iter, c=3, p=5))"
   ]
  },
  {
   "cell_type": "code",
   "execution_count": null,
   "metadata": {},
   "outputs": [],
   "source": [
    "from jax_tqdm import scan_tqdm"
   ]
  },
  {
   "cell_type": "code",
   "execution_count": null,
   "metadata": {},
   "outputs": [],
   "source": []
  },
  {
   "cell_type": "code",
   "execution_count": null,
   "metadata": {},
   "outputs": [],
   "source": [
    "# Settings for run\n",
    "n_iter = 100000\n",
    "\n",
    "# n_iter = 100\n",
    "n_particles = 200\n",
    "eps = 1e-6\n",
    "\n",
    "X0 = model._newDrawFromPrior(n_particles)\n",
    "key = jax.random.PRNGKey(0)\n",
    "# eps = jnp.ones(11) * 5e-7\n",
    "# eps = eps.at[1].set(5e-5)\n",
    "# eps = eps.at[4].set(1e-4)\n",
    "# eps = eps.at[8].set(1e-4)\n",
    "\n",
    "# For mixture of Gaussian model\n",
    "# sam = ula_sampler_full_jax_jit(key, jax.vmap(model.potential), jax.vmap(jax.jacfwd(model.potential)), n_iter, eps, X0)\n",
    "\n",
    "# For subset\n",
    "# sam = ula_sampler_full_jax_jit(key, potential_subset, gradient_subset, n_iter, eps, X0_subset)\n",
    "\n",
    "# For whole damn thing\n",
    "\n",
    "\n",
    "sam = ula_sampler_full_jax_jit(key, model.minusLogLikelihood, model.gradient_minusLogLikelihood, n_iter, eps, X0, model.lower_bound, model.upper_bound)"
   ]
  },
  {
   "cell_type": "code",
   "execution_count": null,
   "metadata": {},
   "outputs": [],
   "source": [
    "reshaped_matrix = np.array(sam.reshape((sam.shape[0] * sam.shape[1], 11)))\n",
    "fig = corner.corner(reshaped_matrix[-50000:], hist_kwargs={'density':True}, labels=model.gwfast_param_order, truths=model.true_params)"
   ]
  },
  {
   "cell_type": "code",
   "execution_count": null,
   "metadata": {},
   "outputs": [],
   "source": [
    "sam = ula_sampler_full_jax_jit(key, model.minusLogLikelihood, model.gradient_minusLogLikelihood, n_iter, eps, sam[-1], model.lower_bound, model.upper_bound)"
   ]
  },
  {
   "cell_type": "code",
   "execution_count": null,
   "metadata": {},
   "outputs": [],
   "source": [
    "# Draw several particles from prior\n",
    "X = model._newDrawFromPrior(3)\n",
    "\n",
    "# Francesco derivative\n",
    "test1 = model.gradient_minusLogLikelihood(X)\n",
    "\n",
    "# Take gradient of likelihood directly\n",
    "# f = jax.jit(jax.jacfwd(model.minusLogLikelihood))\n",
    "# gl = jax.jacobian(model.minusLogLikelihood)\n",
    "\n",
    "# Check to see if this works\n",
    "# gl(X[0].squeeze())\n",
    "\n",
    "# f = jax.vmap(jax.jacfwd(model.minusLogLikelihood))\n",
    "# f(X)\n",
    "# model.gradient_minusLogLikelihood(X)"
   ]
  },
  {
   "cell_type": "code",
   "execution_count": null,
   "metadata": {},
   "outputs": [],
   "source": [
    "test1"
   ]
  },
  {
   "cell_type": "code",
   "execution_count": null,
   "metadata": {},
   "outputs": [],
   "source": [
    "np.allclose(test2[np.arange(3), np.arange(3), :], test1)"
   ]
  },
  {
   "cell_type": "code",
   "execution_count": null,
   "metadata": {},
   "outputs": [],
   "source": []
  },
  {
   "cell_type": "code",
   "execution_count": null,
   "metadata": {},
   "outputs": [],
   "source": [
    "test2 = f(X)"
   ]
  },
  {
   "cell_type": "code",
   "execution_count": null,
   "metadata": {},
   "outputs": [],
   "source": [
    "a.shape"
   ]
  },
  {
   "cell_type": "code",
   "execution_count": null,
   "metadata": {},
   "outputs": [],
   "source": [
    "print(model.gwfast_param_order)"
   ]
  },
  {
   "cell_type": "code",
   "execution_count": null,
   "metadata": {},
   "outputs": [],
   "source": [
    "sam.shape"
   ]
  },
  {
   "cell_type": "code",
   "execution_count": null,
   "metadata": {},
   "outputs": [],
   "source": [
    "reshaped_matrix = np.array(sam.reshape((sam.shape[0] * sam.shape[1], 11)))\n",
    "fig = corner.corner(reshaped_matrix[-50000:], hist_kwargs={'density':True}, labels=model.gwfast_param_order, truths=model.true_params)"
   ]
  },
  {
   "cell_type": "code",
   "execution_count": null,
   "metadata": {},
   "outputs": [],
   "source": [
    "sam = ula_sampler_full_jax_jit(key, potential_subset, gradient_subset, n_iter, eps, sam[-1])"
   ]
  },
  {
   "cell_type": "code",
   "execution_count": null,
   "metadata": {},
   "outputs": [],
   "source": [
    "reshaped_matrix = np.array(sam.reshape((n_iter * n_particles, len(subset_params))))\n",
    "labels = np.array(model.gwfast_param_order)[subset_params]\n",
    "fig = corner.corner(reshaped_matrix[-50000:], hist_kwargs={'density':True}, labels=labels, truths=injection[subset_params])"
   ]
  },
  {
   "cell_type": "code",
   "execution_count": null,
   "metadata": {},
   "outputs": [],
   "source": [
    "import corner\n",
    "reshaped_matrix = sam.reshape((n_iter * n_particles, model.DoF))\n",
    "reshaped_matrix = np.array(reshaped_matrix)\n",
    "fig = corner.corner(reshaped_matrix[-20000:], hist_kwargs={'density':True}, truths=jnp.mean(bounded_iid_samples, axis=0)) # For rosenbrock\n",
    "# fig = corner.corner(np.array(reshaped_matrix[-60000:]), hist_kwargs={'density':True}, truths=jnp.mean(bounded_iid_samples, axis=0)) # For rosenbrock\n",
    "corner.corner(bounded_iid_samples[-20000:], color='r', fig=fig, hist_kwargs={'density':True})\n"
   ]
  },
  {
   "cell_type": "markdown",
   "metadata": {},
   "source": [
    "# GW PROBLEM"
   ]
  },
  {
   "cell_type": "code",
   "execution_count": null,
   "metadata": {},
   "outputs": [],
   "source": []
  }
 ],
 "metadata": {
  "kernelspec": {
   "display_name": "myenv5",
   "language": "python",
   "name": "python3"
  },
  "language_info": {
   "codemirror_mode": {
    "name": "ipython",
    "version": 3
   },
   "file_extension": ".py",
   "mimetype": "text/x-python",
   "name": "python",
   "nbconvert_exporter": "python",
   "pygments_lexer": "ipython3",
   "version": "3.11.5"
  }
 },
 "nbformat": 4,
 "nbformat_minor": 2
}
