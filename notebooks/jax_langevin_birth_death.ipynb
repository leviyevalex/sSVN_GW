{
 "cells": [
  {
   "cell_type": "code",
   "execution_count": null,
   "metadata": {},
   "outputs": [],
   "source": [
    "import sys\n",
    "sys.path.append(\"..\")\n",
    "\n",
    "import jax, os, corner\n",
    "import jax.numpy as jnp\n",
    "from jax import grad, config\n",
    "import matplotlib.pyplot as plt\n",
    "import numpy as np\n",
    "config.update(\"jax_enable_x64\", True)\n",
    "config.update(\"jax_debug_nans\", True)\n",
    "from functools import partial\n",
    "\n",
    "# Load reparameterization methods\n",
    "from src.reparameterization import sigma, logistic_CDF, reparameterized_gradient\n",
    "\n",
    "# Load birth/death method\n",
    "from src.birth_death import birth_death\n",
    "\n",
    "print(jax.devices())"
   ]
  },
  {
   "cell_type": "code",
   "execution_count": null,
   "metadata": {},
   "outputs": [],
   "source": [
    "def scan(f, init, xs, length=None):\n",
    "  if xs is None:\n",
    "    xs = [None] * length\n",
    "  carry = init\n",
    "  ys = []\n",
    "  for x in xs:\n",
    "    carry, y = f(carry, x)\n",
    "    ys.append(y)\n",
    "  return carry, np.stack(ys)"
   ]
  },
  {
   "cell_type": "markdown",
   "metadata": {},
   "source": [
    "# Mirrored Langevin Birth/Death (MLBD)"
   ]
  },
  {
   "cell_type": "code",
   "execution_count": null,
   "metadata": {},
   "outputs": [],
   "source": [
    "# Annealing schedule\n",
    "gamma = lambda t: 1\n",
    "\n",
    "def ula_kernel(key, param, log_post, grad_log_post, dt, iteration, lower, upper, stride, rate, bandwidth, p):\n",
    "    \"\"\" \n",
    "    Remarks\n",
    "    -------\n",
    "    \n",
    "    (1) grad_log_post is the gradient of the potential. Change name of this later\n",
    "    (2) stride = 1 will run birth-death at every iteration!\n",
    "    \n",
    "    \"\"\"\n",
    "    key, subkey = jax.random.split(key)\n",
    "\n",
    "    # Transform to unbounded domain \n",
    "    Y, gmlpt_Y = reparameterized_gradient(param, grad_log_post, lower, upper, gamma(iteration))\n",
    "\n",
    "    # Perform jumps in unbounded domain\n",
    "    jumps = jax.lax.cond(jnp.mod(iteration, stride) == 0, lambda: birth_death(key, param, log_post, bandwidth=bandwidth, p=p, rate=rate, a=lower, b=upper, gamma=gamma(iteration)), lambda: jnp.arange(param.shape[0]))\n",
    "    # jumps = jnp.arange(param.shape[0])\n",
    "\n",
    "    # Perform update in unbounded domain\n",
    "    Y = Y[jumps] - gmlpt_Y[jumps] * dt + jnp.sqrt(2 * dt) * jax.random.normal(key=subkey, shape=(param.shape))\n",
    "\n",
    "    # Convert samples back to bounded domain \n",
    "    param = sigma(logistic_CDF(Y), lower, upper)\n",
    "\n",
    "    iteration = iteration + 1\n",
    "\n",
    "    return key, param, iteration\n",
    "\n",
    "@partial(jax.jit, static_argnums=(1,2,3))\n",
    "def ula_sampler_full_jax_jit(key, log_post, grad_log_post, n_iter, dt, x_0, lower, upper, stride=1, rate=1, bandwidth=0.01, p=2):\n",
    "\n",
    "    # @progress_bar_scan(n_iter)\n",
    "    # @scan_tqdm(1000)\n",
    "    # @scan_tqdm(n_iter, print_rate=1, desc='progress bar', position=0, leave=False)\n",
    "    def ula_step(carry, x):\n",
    "        key, param, iteration = carry\n",
    "        key, param, iteration = ula_kernel(key, param, log_post, grad_log_post, dt, iteration, lower, upper, stride, rate, bandwidth, p)\n",
    "        return (key, param, iteration), param\n",
    "\n",
    "    carry = (key, x_0, 0)\n",
    "    _, samples = jax.lax.scan(ula_step, carry, None, n_iter)\n",
    "    # _, samples = scan(ula_step, carry, None, n_iter)\n",
    "    return samples"
   ]
  },
  {
   "cell_type": "markdown",
   "metadata": {},
   "source": [
    "# Unit tests"
   ]
  },
  {
   "cell_type": "code",
   "execution_count": null,
   "metadata": {},
   "outputs": [],
   "source": [
    "def rejection_sampling(iid_samples, lower_bound, upper_bound):\n",
    "    truth_table = ((iid_samples > lower_bound) & (iid_samples < upper_bound))\n",
    "    idx = np.where(np.all(truth_table, axis=1))[0]\n",
    "    print('%i samples obtained from rejection sampling' % idx.shape[0])\n",
    "    return np.array(iid_samples[idx])"
   ]
  },
  {
   "cell_type": "code",
   "execution_count": null,
   "metadata": {},
   "outputs": [],
   "source": [
    "\"\"\" \n",
    "Remarks\n",
    "-------\n",
    "(1) 2d MoG with increasing weights to the right\n",
    "(2) Sampler teleports out all particles from smallest mode given enough time\n",
    "(3) Can be mitigated using a small `rate`\n",
    "\n",
    "\"\"\"\n",
    "\n",
    "from models.mog_new import MoG \n",
    "\n",
    "k = 3\n",
    "d = 2\n",
    "weights = jnp.array([2, 4, 5])\n",
    "\n",
    "mus = jnp.zeros((k, d))\n",
    "mus = mus.at[0].set(jnp.array([-15, 0]))\n",
    "# mus = mus.at[0].set(jnp.array([-10, 0]))\n",
    "mus = mus.at[1].set(jnp.array([0, 0]))\n",
    "# mus = mus.at[2].set(jnp.array([10, 0]))\n",
    "mus = mus.at[2].set(jnp.array([15, 0]))\n",
    "\n",
    "covs = jnp.zeros((k, d))\n",
    "covs = covs.at[0].set(jnp.ones(d))\n",
    "covs = covs.at[1].set(jnp.ones(d))\n",
    "covs = covs.at[2].set(jnp.ones(d))\n",
    "\n",
    "lower_bound = jnp.array([-15, -15])\n",
    "upper_bound = jnp.array([15, 15])\n",
    "\n",
    "model = MoG(weights, mus, covs, lower_bound, upper_bound)\n",
    "\n",
    "iid_samples = model.newDrawFromPosterior(1000000)\n",
    "\n",
    "bounded_iid_samples = rejection_sampling(iid_samples, model.lower_bound, model.upper_bound)"
   ]
  },
  {
   "cell_type": "code",
   "execution_count": null,
   "metadata": {},
   "outputs": [],
   "source": [
    "# Setup and run sampler\n",
    "n_iter = 20000\n",
    "n_particles = 500\n",
    "eps = 1e-3\n",
    "stride = 100\n",
    "rate = 0.01\n",
    "bandwidth = 0.001\n",
    "p = 2\n",
    "X0 = model._newDrawFromPrior(n_particles)\n",
    "key = jax.random.PRNGKey(0)\n",
    "sam = ula_sampler_full_jax_jit(key, jax.vmap(model.potential), jax.vmap(jax.jacfwd(model.potential)), n_iter, eps, X0, model.lower_bound, model.upper_bound, stride, rate)\n",
    "# sam = ula_sampler_full_jax_jit(key, jax.vmap(model.potential), jax.vmap(jax.jacfwd(model.potential)), n_iter, eps, sam[-1], model.lower_bound, model.upper_bound, stride, rate)"
   ]
  },
  {
   "cell_type": "code",
   "execution_count": null,
   "metadata": {},
   "outputs": [],
   "source": [
    "# Plot\n",
    "import matplotlib.lines as mlines\n",
    "reshaped_matrix = np.array(sam.reshape((sam.shape[0] * sam.shape[1], sam.shape[2])))\n",
    "fig = corner.corner(bounded_iid_samples[-20000:], hist_kwargs={'density':True}, truths=jnp.mean(bounded_iid_samples, axis=0), color='k') \n",
    "labels = [r'$x_1$', r'$x_2$']\n",
    "k_line = mlines.Line2D([], [], color='k', label='Truth')\n",
    "r_line = mlines.Line2D([], [], color='r', label='MLBD')\n",
    "corner.corner(reshaped_matrix[-20000:], color='r', fig=fig, hist_kwargs={'density':True}, labels=labels)\n",
    "plt.legend(handles=[k_line,r_line], bbox_to_anchor=(0., 1.0, 1., .0), loc=4)"
   ]
  },
  {
   "cell_type": "code",
   "execution_count": null,
   "metadata": {},
   "outputs": [],
   "source": [
    "\"\"\" \n",
    "Remarks\n",
    "-------\n",
    "(1) 2d MoG with all modes of similar weight\n",
    "\"\"\"\n",
    "\n",
    "from models.mog_new import MoG \n",
    "\n",
    "k = 3\n",
    "d = 2\n",
    "weights = jnp.array([5, 4, 5])\n",
    "\n",
    "mus = jnp.zeros((k, d))\n",
    "mus = mus.at[0].set(jnp.array([-10, 0]))\n",
    "mus = mus.at[1].set(jnp.array([0, 0]))\n",
    "mus = mus.at[2].set(jnp.array([10, 0]))\n",
    "\n",
    "covs = jnp.zeros((k, d))\n",
    "covs = covs.at[0].set(jnp.ones(d))\n",
    "covs = covs.at[1].set(jnp.ones(d))\n",
    "covs = covs.at[2].set(jnp.ones(d))\n",
    "\n",
    "lower_bound = jnp.array([-15, -15])\n",
    "upper_bound = jnp.array([15, 15])\n",
    "\n",
    "model = MoG(weights, mus, covs, lower_bound, upper_bound)\n",
    "\n",
    "\n",
    "iid_samples = model.newDrawFromPosterior(1000000)\n",
    "\n",
    "bounded_iid_samples = rejection_sampling(iid_samples, model.lower_bound, model.upper_bound)"
   ]
  },
  {
   "cell_type": "code",
   "execution_count": null,
   "metadata": {},
   "outputs": [],
   "source": [
    "# Setup and run sampler\n",
    "n_iter = 20000\n",
    "n_particles = 200\n",
    "eps = 1e-2\n",
    "stride = 100\n",
    "rate = 0.01\n",
    "bandwidth = 0.1\n",
    "p = 0.5\n",
    "X0 = model._newDrawFromPrior(n_particles)\n",
    "key = jax.random.PRNGKey(0)\n",
    "sam = ula_sampler_full_jax_jit(key, jax.vmap(model.potential), jax.vmap(jax.jacfwd(model.potential)), n_iter, eps, X0, model.lower_bound, model.upper_bound, stride, rate)"
   ]
  },
  {
   "cell_type": "code",
   "execution_count": null,
   "metadata": {},
   "outputs": [],
   "source": [
    "# Plot\n",
    "import matplotlib.lines as mlines\n",
    "reshaped_matrix = np.array(sam.reshape((sam.shape[0] * sam.shape[1], sam.shape[2])))\n",
    "fig = corner.corner(bounded_iid_samples[-20000:], hist_kwargs={'density':True}, truths=jnp.mean(bounded_iid_samples, axis=0), color='k') \n",
    "labels = [r'$x_1$', r'$x_2$']\n",
    "k_line = mlines.Line2D([], [], color='k', label='Truth')\n",
    "r_line = mlines.Line2D([], [], color='r', label='MLBD')\n",
    "corner.corner(reshaped_matrix[-20000:], color='r', fig=fig, hist_kwargs={'density':True}, labels=labels)\n",
    "plt.legend(handles=[k_line,r_line], bbox_to_anchor=(0., 1.0, 1., .0), loc=4)"
   ]
  },
  {
   "cell_type": "code",
   "execution_count": null,
   "metadata": {},
   "outputs": [],
   "source": [
    "\"\"\" \n",
    "Remarks\n",
    "-------\n",
    "(1) 15d MoG with all modes of similar weight\n",
    "\"\"\"\n",
    "\n",
    "from models.mog_new import MoG \n",
    "\n",
    "k = 3\n",
    "d = 15\n",
    "weights = jnp.array([5, 4, 5])\n",
    "\n",
    "mus = jnp.zeros((k, d))\n",
    "\n",
    "mus = mus.at[0].set(jnp.array([-10, 0, 0, 0, 0, 0, 0, 0, 0, 0, 0, 0, 0, 0, 0]))\n",
    "mus = mus.at[1].set(jnp.array([0, 0, 0, 0, 0, 0, 0, 0, 0, 0, 0, 0, 0, 0, 0]))\n",
    "mus = mus.at[2].set(jnp.array([10, 0, 0, 0, 0, 0, 0, 0, 0, 0, 0, 0, 0, 0, 0]))\n",
    "\n",
    "covs = jnp.zeros((k, d))\n",
    "covs = covs.at[0].set(jnp.ones(d))\n",
    "covs = covs.at[1].set(jnp.ones(d))\n",
    "covs = covs.at[2].set(jnp.ones(d))\n",
    "\n",
    "lower_bound = jnp.ones(d) * -15 \n",
    "upper_bound = jnp.ones(d) * 15 \n",
    "\n",
    "model = MoG(weights, mus, covs, lower_bound, upper_bound)\n",
    "\n",
    "\n",
    "iid_samples = model.newDrawFromPosterior(1000000)\n",
    "\n",
    "bounded_iid_samples = rejection_sampling(iid_samples, model.lower_bound, model.upper_bound)"
   ]
  },
  {
   "cell_type": "code",
   "execution_count": null,
   "metadata": {},
   "outputs": [],
   "source": [
    "# Setup and run sampler\n",
    "n_iter = 20000\n",
    "n_particles = 200\n",
    "eps = 1e-3\n",
    "stride = 100\n",
    "rate = 0.01\n",
    "bandwidth = 100\n",
    "p = 2\n",
    "X0 = model._newDrawFromPrior(n_particles)\n",
    "key = jax.random.PRNGKey(1)\n",
    "sam = ula_sampler_full_jax_jit(key, jax.vmap(model.potential), jax.vmap(jax.jacfwd(model.potential)), n_iter, eps, X0, model.lower_bound, model.upper_bound, stride, rate)"
   ]
  },
  {
   "cell_type": "code",
   "execution_count": null,
   "metadata": {},
   "outputs": [],
   "source": [
    "# Plot\n",
    "import matplotlib.lines as mlines\n",
    "reshaped_matrix = np.array(sam.reshape((sam.shape[0] * sam.shape[1], sam.shape[2])))\n",
    "fig = corner.corner(bounded_iid_samples[-20000:], hist_kwargs={'density':True}, truths=jnp.mean(bounded_iid_samples, axis=0), color='k') \n",
    "# labels = [r'$x_1$', r'$x_2$']\n",
    "k_line = mlines.Line2D([], [], color='k', label='Truth')\n",
    "r_line = mlines.Line2D([], [], color='r', label='MLBD')\n",
    "corner.corner(reshaped_matrix[-20000:], color='r', fig=fig, hist_kwargs={'density':True})#, labels=labels)\n",
    "plt.legend(handles=[k_line,r_line], bbox_to_anchor=(0., 1.0, 1., .0), loc=4)"
   ]
  },
  {
   "cell_type": "code",
   "execution_count": null,
   "metadata": {},
   "outputs": [],
   "source": [
    "\"\"\" \n",
    "Remarks\n",
    "-------\n",
    "(1) 15d MoG with some mass at the boundary\n",
    "\"\"\"\n",
    "\n",
    "from models.mog_new import MoG \n",
    "\n",
    "k = 3\n",
    "d = 15\n",
    "weights = jnp.array([0.5, 1, 2])\n",
    "\n",
    "mus = jnp.zeros((k, d))\n",
    "\n",
    "mus = mus.at[0].set(jnp.array([-15, 0, 0, 9, 0, 0, 0, 5, 0, 0, 0, 12, 0, 7, 0]))\n",
    "mus = mus.at[1].set(jnp.array([0, 0, 0, -15, 0, 0, 4, 0, 10, 0, 0, 15, 0, 8, 0]))\n",
    "mus = mus.at[2].set(jnp.array([10, 0, 0, 0, 3, 0, 2, 0, 0, 0, 0, 0, 0, 0, 15]))\n",
    "\n",
    "covs = jnp.zeros((k, d))\n",
    "covs = covs.at[0].set(jnp.ones(d))\n",
    "covs = covs.at[1].set(jnp.ones(d))\n",
    "covs = covs.at[2].set(jnp.ones(d))\n",
    "\n",
    "lower_bound = jnp.ones(d) * -15 \n",
    "upper_bound = jnp.ones(d) * 15 \n",
    "\n",
    "model = MoG(weights, mus, covs, lower_bound, upper_bound)\n",
    "\n",
    "\n",
    "iid_samples = model.newDrawFromPosterior(1000000)\n",
    "\n",
    "bounded_iid_samples = rejection_sampling(iid_samples, model.lower_bound, model.upper_bound)"
   ]
  },
  {
   "cell_type": "code",
   "execution_count": null,
   "metadata": {},
   "outputs": [],
   "source": [
    "# Setup and run sampler\n",
    "n_iter = 50000\n",
    "n_particles = 500\n",
    "eps = 1e-2\n",
    "stride = 100\n",
    "rate = 0.001\n",
    "bandwidth = 1\n",
    "p = 2\n",
    "X0 = model._newDrawFromPrior(n_particles)\n",
    "key = jax.random.PRNGKey(1)\n",
    "sam = ula_sampler_full_jax_jit(key, jax.vmap(model.potential), jax.vmap(jax.jacfwd(model.potential)), n_iter, eps, X0, model.lower_bound, model.upper_bound, stride, rate)"
   ]
  },
  {
   "cell_type": "code",
   "execution_count": null,
   "metadata": {},
   "outputs": [],
   "source": [
    "# Plot\n",
    "import matplotlib.lines as mlines\n",
    "reshaped_matrix = np.array(sam.reshape((sam.shape[0] * sam.shape[1], sam.shape[2])))\n",
    "fig = corner.corner(bounded_iid_samples[-20000:], hist_kwargs={'density':True}, truths=jnp.mean(bounded_iid_samples, axis=0), color='k') \n",
    "# labels = [r'$x_1$', r'$x_2$']\n",
    "k_line = mlines.Line2D([], [], color='k', label='Truth')\n",
    "r_line = mlines.Line2D([], [], color='r', label='MLBD')\n",
    "corner.corner(reshaped_matrix[-20000:], color='r', fig=fig, hist_kwargs={'density':True})#, labels=labels)\n",
    "plt.legend(handles=[k_line,r_line], bbox_to_anchor=(0., 1.0, 1., .0), loc=4)"
   ]
  },
  {
   "cell_type": "markdown",
   "metadata": {},
   "source": [
    "# Truncated Gaussian Kernel tests"
   ]
  },
  {
   "cell_type": "code",
   "execution_count": null,
   "metadata": {},
   "outputs": [],
   "source": [
    "# def multivariate_normal(X, mu, sigma):\n",
    "#     separation_vectors = X[:, jnp.newaxis, :] - mu[jnp.newaxis, :, :]\n",
    "#     arg_exp = \n",
    "\n",
    "#     -jnp.sum((jnp.abs(separation_vectors) ** p) / (p * bandwidth), axis=-1)\n",
    "#     tmp = jnp.exp(-(separation_vectors ** 2) / (2 * sigma ** 2)) / (sigma * jnp.sqrt(2 * jnp.pi))"
   ]
  },
  {
   "cell_type": "code",
   "execution_count": null,
   "metadata": {},
   "outputs": [],
   "source": [
    "import jax\n",
    "import jax.numpy as jnp\n",
    "\n",
    "def indicator(x, a, b):\n",
    "    return jnp.prod(jnp.heaviside(x - a, 1) * jnp.heaviside(b - x, 1), axis=-1)\n",
    "\n",
    "# Univariate Gaussian CDF\n",
    "F = lambda arg, mu, sigma: 0.5 * (1 + jax.scipy.special.erf((arg - mu) / (sigma * jnp.sqrt(2)))) # Trivially extends to d > 1\n",
    "\n",
    "def trunc_gaussian(x, mu, sigma, a, b):\n",
    "    renormalization = jnp.prod(F(b, mu, sigma) - F(a, mu, sigma), axis=-1)\n",
    "    return indicator(x, a, b) * jax.scipy.stats.multivariate_normal.pdf(x, mu, jnp.diag(sigma ** 2)) / renormalization\n",
    "\n",
    "trunc_gaussian_batch = jax.vmap(trunc_gaussian, in_axes=(None, 0, None, None, None), out_axes=1)"
   ]
  },
  {
   "cell_type": "code",
   "execution_count": null,
   "metadata": {},
   "outputs": [],
   "source": [
    "# 1d Plots\n",
    "a = jnp.array([-1])\n",
    "b = jnp.array([2])\n",
    "mu = jnp.array([0, 1, 2])[..., None]\n",
    "sigma = jnp.ones(len(a))\n",
    "xs = jnp.linspace(a-0.5, b+0.5, 200)\n",
    "plt.plot(xs, trunc_gaussian_batch(xs, mu, sigma, a, b))\n",
    "\n",
    "# Confirm normalization in 1D is performed properly\n",
    "from scipy.integrate import trapz \n",
    "xs = jnp.linspace(a-0.5, b+0.5, 200) \n",
    "ys = trunc_gaussian_batch(xs, mu, sigma, a, b)\n",
    "for i in range(3):\n",
    "    print(trapz(ys[:,i], xs[:,i]))"
   ]
  },
  {
   "cell_type": "code",
   "execution_count": null,
   "metadata": {},
   "outputs": [],
   "source": []
  },
  {
   "cell_type": "code",
   "execution_count": null,
   "metadata": {},
   "outputs": [],
   "source": [
    "print(mu.shape, xs.shape, sigma.shape, a.shape, b.shape)"
   ]
  },
  {
   "cell_type": "code",
   "execution_count": null,
   "metadata": {},
   "outputs": [],
   "source": [
    "mu.shape"
   ]
  },
  {
   "cell_type": "code",
   "execution_count": null,
   "metadata": {},
   "outputs": [],
   "source": [
    "test(xs, mu, sigma, a, b)"
   ]
  },
  {
   "cell_type": "code",
   "execution_count": null,
   "metadata": {},
   "outputs": [],
   "source": []
  },
  {
   "cell_type": "code",
   "execution_count": 52,
   "metadata": {},
   "outputs": [
    {
     "data": {
      "text/plain": [
       "1.0060972"
      ]
     },
     "execution_count": 52,
     "metadata": {},
     "output_type": "execute_result"
    }
   ],
   "source": []
  },
  {
   "cell_type": "code",
   "execution_count": 49,
   "metadata": {},
   "outputs": [
    {
     "data": {
      "text/plain": [
       "(200, 1)"
      ]
     },
     "execution_count": 49,
     "metadata": {},
     "output_type": "execute_result"
    }
   ],
   "source": [
    "xs.shape"
   ]
  },
  {
   "cell_type": "code",
   "execution_count": null,
   "metadata": {},
   "outputs": [],
   "source": [
    "test(xs, mu, sigma, a, b).shape"
   ]
  },
  {
   "cell_type": "code",
   "execution_count": null,
   "metadata": {},
   "outputs": [],
   "source": [
    "test(xs, mu[None,...], sigma, a, b).shape"
   ]
  },
  {
   "cell_type": "code",
   "execution_count": null,
   "metadata": {},
   "outputs": [],
   "source": [
    "print(mu[None,...].shape, xs.shape)"
   ]
  },
  {
   "cell_type": "code",
   "execution_count": null,
   "metadata": {},
   "outputs": [],
   "source": [
    "a = jnp.array([-1, -1])\n",
    "b = jnp.array([2, 2])\n",
    "mu = jnp.array([0, 0])\n",
    "sigma = jnp.ones(2)\n",
    "xs = jnp.linspace(a, b, 200)\n",
    "trunc_gaussian(xs, mu, sigma, a, b)"
   ]
  },
  {
   "cell_type": "code",
   "execution_count": null,
   "metadata": {},
   "outputs": [],
   "source": [
    "import numpy as np\n",
    "a = jnp.array(np.random.rand(3, 2))\n",
    "b = jnp.array(np.random.rand(3, 2))\n",
    "\n",
    "jax.scipy.stats.multivariate_normal.pdf(a, b, jnp.diag(jnp.ones(2)))"
   ]
  },
  {
   "cell_type": "code",
   "execution_count": null,
   "metadata": {},
   "outputs": [],
   "source": []
  },
  {
   "cell_type": "code",
   "execution_count": null,
   "metadata": {},
   "outputs": [],
   "source": [
    "a"
   ]
  },
  {
   "cell_type": "code",
   "execution_count": null,
   "metadata": {},
   "outputs": [],
   "source": []
  },
  {
   "cell_type": "code",
   "execution_count": null,
   "metadata": {},
   "outputs": [],
   "source": [
    "import matplotlib.pyplot as plt\n",
    "a = 0.\n",
    "b = 3.\n",
    "mu = 2.\n",
    "sigma = jnp.ones(1)\n",
    "xs = jnp.linspace(a-1, b+1, 1000)[..., None]\n",
    "ys = trunc_gaussian(xs, mu, sigma, a, b) # Already batched over xs!!! Can we batch over mus as well?\n",
    "\n",
    "mus = jnp.array([-0.5, 1, 2])[..., None]\n",
    "\n",
    "test_func_batch = jax.vmap(trunc_gaussian, in_axes=1)\n",
    "\n",
    "batch_evals = test_func_batch(xs, mus, sigma, a, b) # Already batched over xs!!! Can we batch over mus as well?\n",
    "\n",
    "\n",
    "# plt.plot(xs, ys.squeeze())"
   ]
  },
  {
   "cell_type": "code",
   "execution_count": null,
   "metadata": {},
   "outputs": [],
   "source": [
    "mus.shape"
   ]
  },
  {
   "cell_type": "code",
   "execution_count": null,
   "metadata": {},
   "outputs": [],
   "source": []
  },
  {
   "cell_type": "code",
   "execution_count": null,
   "metadata": {},
   "outputs": [],
   "source": [
    "indicator(xs + 5, a, b).shape"
   ]
  },
  {
   "cell_type": "code",
   "execution_count": null,
   "metadata": {},
   "outputs": [],
   "source": [
    "import matplotlib.pyplot as plt\n",
    "\n",
    "plt.plot(xs, ys.squeeze())"
   ]
  },
  {
   "cell_type": "code",
   "execution_count": null,
   "metadata": {},
   "outputs": [],
   "source": [
    "a = jnp.array([-2.])\n",
    "b = jnp.array([3.])\n",
    "xs = jnp.linspace(a, b, 100)\n",
    "mu = jnp.array([3.])\n",
    "sigma = jnp.array([1.])\n",
    "\n",
    "output = test(xs, mu, sigma, a, b)\n",
    "# plt.plot(xs, )\n",
    "\n"
   ]
  },
  {
   "cell_type": "code",
   "execution_count": null,
   "metadata": {},
   "outputs": [],
   "source": [
    "print(a, b)"
   ]
  },
  {
   "cell_type": "code",
   "execution_count": null,
   "metadata": {},
   "outputs": [],
   "source": [
    "xs.shape"
   ]
  },
  {
   "cell_type": "code",
   "execution_count": null,
   "metadata": {},
   "outputs": [],
   "source": []
  },
  {
   "cell_type": "code",
   "execution_count": null,
   "metadata": {},
   "outputs": [],
   "source": []
  },
  {
   "cell_type": "code",
   "execution_count": null,
   "metadata": {},
   "outputs": [],
   "source": [
    "# Batched multivariate normal for diagonal cov\n",
    "def indicator(X, a, b):\n",
    "    return jnp.heaviside(X - a, 1) * jnp.heaviside(b - X, 1)\n",
    "\n",
    "def gaussian_batch(X, Y, sigma):\n",
    "    \"\"\" \n",
    "    X - Nd matrix\n",
    "    Y - Md matrix\n",
    "    sigma - diagonal covariance. d sized matrix\n",
    "    Returns: NM matrix\n",
    "    TODO: confirm that this works for the case d=1 as well, and when theres no axis.\n",
    "    \n",
    "    \"\"\"\n",
    "    separation_vectors = X[:, jnp.newaxis, :] - Y[jnp.newaxis, :, :]\n",
    "    arg_exp = \n",
    "\n",
    "    -jnp.sum((jnp.abs(separation_vectors) ** p) / (p * bandwidth), axis=-1)\n",
    "    tmp = jnp.exp(-(separation_vectors ** 2) / (2 * sigma ** 2)) / (sigma * jnp.sqrt(2 * jnp.pi))\n",
    "    return jnp.prod(tmp, ax\n",
    "\n",
    "F = lambda arg, Y, sigma: 0.5 * (1 + jnp.scipy.special.erf((arg - Y) / (sigma * jnp.sqrt(2))))\n",
    "\n",
    "def truncated_gaussian_kernel(X, Y, sigma, a, b):\n",
    "   return indicator(X, a, b) * multivariate_gaussian_batch(X, Y, sigma) / (F(b, Y, sigma) - F(a, Y, sigma))\n",
    "# In principle, this should agree with the scipy implementation"
   ]
  },
  {
   "cell_type": "code",
   "execution_count": null,
   "metadata": {},
   "outputs": [],
   "source": [
    "import numpy as np\n",
    "a = jnp.array(np.random.rand(3, 3, 2))\n",
    "b = jnp.array(np.random.rand(2))\n",
    "c = jnp.array(np.random.rand(3,2))\n",
    "# (a / b).shape"
   ]
  },
  {
   "cell_type": "code",
   "execution_count": null,
   "metadata": {},
   "outputs": [],
   "source": [
    "print(a.shape, b.shape)"
   ]
  },
  {
   "cell_type": "code",
   "execution_count": null,
   "metadata": {},
   "outputs": [],
   "source": [
    "(c-b) / b"
   ]
  },
  {
   "cell_type": "code",
   "execution_count": null,
   "metadata": {},
   "outputs": [],
   "source": [
    "len(sigma)"
   ]
  },
  {
   "cell_type": "code",
   "execution_count": null,
   "metadata": {},
   "outputs": [],
   "source": [
    "import jax\n",
    "import jax.numpy as jnp\n",
    "mu = jnp.array([2, 3])\n",
    "sigma = jnp.array([0.5, 0.1])\n",
    "x = jnp.array([[1, 1], [2,2], [3,3]])\n",
    "y = jnp.array([[0.1, 0.2], [0.1,0.2], [0.3,0.4]])\n",
    "# jax.scipy.stats.norm.pdf(x, mu, sigma)\n",
    "jax.scipy.stats.norm.pdf(x, y, sigma[None, ...])"
   ]
  },
  {
   "cell_type": "code",
   "execution_count": null,
   "metadata": {},
   "outputs": [],
   "source": [
    "print(x.shape, y.shape)"
   ]
  },
  {
   "cell_type": "markdown",
   "metadata": {},
   "source": [
    "# GW150914"
   ]
  },
  {
   "cell_type": "code",
   "execution_count": null,
   "metadata": {},
   "outputs": [],
   "source": [
    "from models.gw150914 import gwfast_LVGW150914\n",
    "\n",
    "# Initialize model\n",
    "model = gwfast_LVGW150914(wf_model='IMRPhenomD', nbins=100, verbose=True)\n",
    "# model = gwfast_LVGW150914(wf_model='TaylorF2', nbins=100, verbose=True)\n",
    "\n",
    "# Center periodic coordinates \n",
    "# for param in ['Phicoal', 'psi', 'phi']:\n",
    "#     x = model.injParams[param][0]\n",
    "#     delta = x - (model.priorDict[param][1] + model.priorDict[param][0]) / 2\n",
    "#     model.priorDict[param][0] += delta\n",
    "#     model.priorDict[param][1] += delta\n",
    "\n",
    "# model.lower_bound = model.lower_bound.at[4].set(model.priorDict['phi'][0])\n",
    "# model.upper_bound = model.upper_bound.at[4].set(model.priorDict['phi'][1])\n",
    "\n",
    "# model.lower_bound = model.lower_bound.at[8].set(model.priorDict['Phicoal'][0])\n",
    "# model.upper_bound = model.upper_bound.at[8].set(model.priorDict['Phicoal'][1])\n",
    "\n",
    "# model.lower_bound = model.lower_bound.at[6].set(model.priorDict['psi'][0])\n",
    "# model.upper_bound = model.upper_bound.at[6].set(model.priorDict['psi'][1])"
   ]
  },
  {
   "cell_type": "code",
   "execution_count": null,
   "metadata": {},
   "outputs": [],
   "source": [
    "# Setup and run sampler\n",
    "n_iter = 20000\n",
    "n_particles = 200\n",
    "\n",
    "eps = 1e-6 * jnp.ones(model.DoF)\n",
    "eps = eps.at[1].set(1e-5)\n",
    "eps = eps.at[7].set(1e-5)\n",
    "eps = eps.at[9].set(1e-7)\n",
    "eps = eps.at[10].set(1e-7)\n",
    "\n",
    "stride = n_iter + 1\n",
    "rate = 1e-6\n",
    "bandwidth = 100\n",
    "p = 2\n",
    "X0 = model._newDrawFromPrior(n_particles)\n",
    "key = jax.random.PRNGKey(0)\n",
    "\n",
    "# bandwidth = jnp.ones(model.DoF) * 100\n",
    "# bandwidth = bandwidth.at[0].set()\n",
    "# bandwidth = bandwidth.at[1].set()\n",
    "# bandwidth = bandwidth.at[2].set()\n",
    "# bandwidth = bandwidth.at[3].set()\n",
    "# bandwidth = bandwidth.at[4].set()\n",
    "# bandwidth = bandwidth.at[5].set()\n",
    "# bandwidth = bandwidth.at[6].set()\n",
    "# bandwidth = bandwidth.at[7].set()\n",
    "# bandwidth = bandwidth.at[8].set()\n",
    "# bandwidth = bandwidth.at[9].set(1)\n",
    "# bandwidth = bandwidth.at[10].set(1)\n",
    "\n",
    "sam = ula_sampler_full_jax_jit(key, model.minusLogLikelihood, model.gradient_minusLogLikelihood, n_iter, eps, X0, model.lower_bound, model.upper_bound, stride, rate)"
   ]
  },
  {
   "cell_type": "code",
   "execution_count": null,
   "metadata": {},
   "outputs": [],
   "source": [
    "reshaped_matrix = np.array(sam.reshape((sam.shape[0] * sam.shape[1], 11)))\n",
    "fig = corner.corner(reshaped_matrix[-5000:], hist_kwargs={'density':True}, labels=model.gwfast_param_order, truths=model.true_params)"
   ]
  },
  {
   "cell_type": "code",
   "execution_count": null,
   "metadata": {},
   "outputs": [],
   "source": [
    "\n",
    "n_iter = 200000\n",
    "n_particles = 200\n",
    "# eps = 1e-6\n",
    "eps = jnp.ones(9) * 1e-7\n",
    "eps = eps.at[1].set(1e-5)\n",
    "\n",
    "\n",
    "subset_params = jnp.array([0, 1, 2, 3, 5, 6, 7, 9, 10])\n",
    "lower = model.lower_bound[subset_params] \n",
    "upper = model.upper_bound[subset_params]\n",
    "\n",
    "# injection wrapper\n",
    "DoF = len(model.gwfast_param_order)\n",
    "injection = np.zeros(DoF)\n",
    "for d in range(DoF):\n",
    "    injection[d] = model.injParams[model.gwfast_param_order[d]]\n",
    "\n",
    "X_injection = np.tile(injection, n_particles).reshape(n_particles, DoF)\n",
    "X_injection_gpu = jnp.array(X_injection)\n",
    "\n",
    "# Initial draw from reduced prior\n",
    "X0_all = model._newDrawFromPrior(n_particles)\n",
    "X0_subset = X0_all[:, subset_params]\n",
    "\n",
    "# Fix eta coordinate for testing!\n",
    "# X0_subset = X0_subset.at[:,1].set(jnp.ones(n_particles) * injection[1])\n",
    "\n",
    "def potential_subset(X_red):\n",
    "    X_ = X_injection_gpu.at[:, subset_params].set(X_red)\n",
    "    return model.minusLogLikelihood(X_)\n",
    "\n",
    "def gradient_subset(X_red):\n",
    "    X_ = X_injection_gpu.at[:, subset_params].set(X_red)\n",
    "    return model.gradient_minusLogLikelihood(X_)[:, subset_params]\n",
    "    \n"
   ]
  },
  {
   "cell_type": "code",
   "execution_count": null,
   "metadata": {},
   "outputs": [],
   "source": [
    "import matplotlib.pyplot as plt\n",
    "n_iter = 100000\n",
    "plt.plot(np.arange(n_iter), gamma(np.arange(n_iter), T=n_iter, c=3, p=5))"
   ]
  },
  {
   "cell_type": "code",
   "execution_count": null,
   "metadata": {},
   "outputs": [],
   "source": [
    "from jax_tqdm import scan_tqdm"
   ]
  },
  {
   "cell_type": "code",
   "execution_count": null,
   "metadata": {},
   "outputs": [],
   "source": []
  },
  {
   "cell_type": "code",
   "execution_count": null,
   "metadata": {},
   "outputs": [],
   "source": [
    "# Settings for run\n",
    "n_iter = 100000\n",
    "\n",
    "# n_iter = 100\n",
    "n_particles = 200\n",
    "eps = 1e-6\n",
    "\n",
    "X0 = model._newDrawFromPrior(n_particles)\n",
    "key = jax.random.PRNGKey(0)\n",
    "# eps = jnp.ones(11) * 5e-7\n",
    "# eps = eps.at[1].set(5e-5)\n",
    "# eps = eps.at[4].set(1e-4)\n",
    "# eps = eps.at[8].set(1e-4)\n",
    "\n",
    "# For mixture of Gaussian model\n",
    "# sam = ula_sampler_full_jax_jit(key, jax.vmap(model.potential), jax.vmap(jax.jacfwd(model.potential)), n_iter, eps, X0)\n",
    "\n",
    "# For subset\n",
    "# sam = ula_sampler_full_jax_jit(key, potential_subset, gradient_subset, n_iter, eps, X0_subset)\n",
    "\n",
    "# For whole damn thing\n",
    "\n",
    "\n",
    "sam = ula_sampler_full_jax_jit(key, model.minusLogLikelihood, model.gradient_minusLogLikelihood, n_iter, eps, X0, model.lower_bound, model.upper_bound)"
   ]
  },
  {
   "cell_type": "code",
   "execution_count": null,
   "metadata": {},
   "outputs": [],
   "source": [
    "reshaped_matrix = np.array(sam.reshape((sam.shape[0] * sam.shape[1], 11)))\n",
    "fig = corner.corner(reshaped_matrix[-50000:], hist_kwargs={'density':True}, labels=model.gwfast_param_order, truths=model.true_params)"
   ]
  },
  {
   "cell_type": "code",
   "execution_count": null,
   "metadata": {},
   "outputs": [],
   "source": [
    "sam = ula_sampler_full_jax_jit(key, model.minusLogLikelihood, model.gradient_minusLogLikelihood, n_iter, eps, sam[-1], model.lower_bound, model.upper_bound)"
   ]
  },
  {
   "cell_type": "code",
   "execution_count": null,
   "metadata": {},
   "outputs": [],
   "source": [
    "# Draw several particles from prior\n",
    "X = model._newDrawFromPrior(3)\n",
    "\n",
    "# Francesco derivative\n",
    "test1 = model.gradient_minusLogLikelihood(X)\n",
    "\n",
    "# Take gradient of likelihood directly\n",
    "# f = jax.jit(jax.jacfwd(model.minusLogLikelihood))\n",
    "# gl = jax.jacobian(model.minusLogLikelihood)\n",
    "\n",
    "# Check to see if this works\n",
    "# gl(X[0].squeeze())\n",
    "\n",
    "# f = jax.vmap(jax.jacfwd(model.minusLogLikelihood))\n",
    "# f(X)\n",
    "# model.gradient_minusLogLikelihood(X)"
   ]
  },
  {
   "cell_type": "code",
   "execution_count": null,
   "metadata": {},
   "outputs": [],
   "source": [
    "test1"
   ]
  },
  {
   "cell_type": "code",
   "execution_count": null,
   "metadata": {},
   "outputs": [],
   "source": [
    "np.allclose(test2[np.arange(3), np.arange(3), :], test1)"
   ]
  },
  {
   "cell_type": "code",
   "execution_count": null,
   "metadata": {},
   "outputs": [],
   "source": []
  },
  {
   "cell_type": "code",
   "execution_count": null,
   "metadata": {},
   "outputs": [],
   "source": [
    "test2 = f(X)"
   ]
  },
  {
   "cell_type": "code",
   "execution_count": null,
   "metadata": {},
   "outputs": [],
   "source": [
    "a.shape"
   ]
  },
  {
   "cell_type": "code",
   "execution_count": null,
   "metadata": {},
   "outputs": [],
   "source": [
    "print(model.gwfast_param_order)"
   ]
  },
  {
   "cell_type": "code",
   "execution_count": null,
   "metadata": {},
   "outputs": [],
   "source": [
    "sam.shape"
   ]
  },
  {
   "cell_type": "code",
   "execution_count": null,
   "metadata": {},
   "outputs": [],
   "source": [
    "reshaped_matrix = np.array(sam.reshape((sam.shape[0] * sam.shape[1], 11)))\n",
    "fig = corner.corner(reshaped_matrix[-50000:], hist_kwargs={'density':True}, labels=model.gwfast_param_order, truths=model.true_params)"
   ]
  },
  {
   "cell_type": "code",
   "execution_count": null,
   "metadata": {},
   "outputs": [],
   "source": [
    "sam = ula_sampler_full_jax_jit(key, potential_subset, gradient_subset, n_iter, eps, sam[-1])"
   ]
  },
  {
   "cell_type": "code",
   "execution_count": null,
   "metadata": {},
   "outputs": [],
   "source": [
    "reshaped_matrix = np.array(sam.reshape((n_iter * n_particles, len(subset_params))))\n",
    "labels = np.array(model.gwfast_param_order)[subset_params]\n",
    "fig = corner.corner(reshaped_matrix[-50000:], hist_kwargs={'density':True}, labels=labels, truths=injection[subset_params])"
   ]
  },
  {
   "cell_type": "code",
   "execution_count": null,
   "metadata": {},
   "outputs": [],
   "source": [
    "import corner\n",
    "reshaped_matrix = sam.reshape((n_iter * n_particles, model.DoF))\n",
    "reshaped_matrix = np.array(reshaped_matrix)\n",
    "fig = corner.corner(reshaped_matrix[-20000:], hist_kwargs={'density':True}, truths=jnp.mean(bounded_iid_samples, axis=0)) # For rosenbrock\n",
    "# fig = corner.corner(np.array(reshaped_matrix[-60000:]), hist_kwargs={'density':True}, truths=jnp.mean(bounded_iid_samples, axis=0)) # For rosenbrock\n",
    "corner.corner(bounded_iid_samples[-20000:], color='r', fig=fig, hist_kwargs={'density':True})\n"
   ]
  },
  {
   "cell_type": "markdown",
   "metadata": {},
   "source": [
    "# GW PROBLEM"
   ]
  },
  {
   "cell_type": "code",
   "execution_count": null,
   "metadata": {},
   "outputs": [],
   "source": []
  }
 ],
 "metadata": {
  "kernelspec": {
   "display_name": "myenv5",
   "language": "python",
   "name": "python3"
  },
  "language_info": {
   "codemirror_mode": {
    "name": "ipython",
    "version": 3
   },
   "file_extension": ".py",
   "mimetype": "text/x-python",
   "name": "python",
   "nbconvert_exporter": "python",
   "pygments_lexer": "ipython3",
   "version": "3.11.5"
  }
 },
 "nbformat": 4,
 "nbformat_minor": 2
}
