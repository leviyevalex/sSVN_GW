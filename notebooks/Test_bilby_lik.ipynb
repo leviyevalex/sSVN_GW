{
 "cells": [
  {
   "cell_type": "code",
   "execution_count": 1,
   "metadata": {},
   "outputs": [
    {
     "name": "stdout",
     "output_type": "stream",
     "text": [
      "TEOBResumS is not installed, only the GWFAST waveform models are available, namely: TaylorF2, IMRPhenomD, IMRPhenomD_NRTidalv2, IMRPhenomHM and IMRPhenomNSBH\n"
     ]
    }
   ],
   "source": [
    "import sys\n",
    "import os\n",
    "import numpy as np\n",
    "import lal\n",
    "import h5py as h5\n",
    "import lalsimulation as lalsim\n",
    "import bilby\n",
    "\n",
    "import copy\n",
    "import time\n",
    "import sys\n",
    "sys.path.append(\"..\")\n",
    "import importlib\n",
    "from astropy.cosmology import Planck18\n",
    "import matplotlib.pyplot as plt\n",
    "\n",
    "import gwfast.gwfastUtils as utils\n",
    "import gwfast.gwfastGlobals as glob\n",
    "import gwfast.waveforms as WF\n",
    "import gwfast.signal as signal\n",
    "import gwfast.network as network"
   ]
  },
  {
   "cell_type": "code",
   "execution_count": 2,
   "metadata": {},
   "outputs": [],
   "source": [
    "binary = {\n",
    "    'mass_1_detector' : 38.9185650890623,     # Mass of larger BH\n",
    "    'mass_2_detector' : 33.458613972262064,   # Mass of smaller BH\n",
    "    'theta_jn'        : 2.67548653,\n",
    "    'inclination'     : 2.67548653,\n",
    "    'chi_1z'          : 0.27210419,\n",
    "    'chi_2z'          : 0.33355909,\n",
    "    'distance'        : 439.29,               # Distance in Mpc\n",
    "    'dec'             : -1.2148064804269771,  # Declination\n",
    "    'ra'              : 1.6768742520431272,   # Right ascension\n",
    "    'psi'             : 0.78539816,           # Polarization\n",
    "    'geocent_time'    : 1.1262594624e+09,     # Geocentric time (keep at 1)\n",
    "    'phase'           : 0.1,   \n",
    "    'f_ref'           : 20.0,                 # Reference frequency (Hz)\n",
    "    'f_min'           : 20.0,                 # Minimum frequency (Hz)\n",
    "    'waveform'        : 'IMRPhenomD'          # Waveform approximant to inject\n",
    "}\n",
    "\n",
    "binary['z'] = bilby.gw.conversion.luminosity_distance_to_redshift(binary['distance'])\n",
    "binary['q'] = min(binary['mass_1_detector'], binary['mass_2_detector'])/(max(binary['mass_1_detector'], binary['mass_2_detector']))\n",
    "binary['total_mass_detector'] = binary['mass_1_detector'] + binary['mass_2_detector'] \n",
    "q = binary['q']"
   ]
  },
  {
   "cell_type": "code",
   "execution_count": 3,
   "metadata": {},
   "outputs": [],
   "source": [
    "def get_duration(b):\n",
    "    '''\n",
    "    Get segment length to use as nice power of 2\n",
    "    '''\n",
    "    log                 = np.log2(b)\n",
    "    integer_power_below = 2 ** np.floor(log)\n",
    "    integer_power_above = 2 ** np.ceil(log)\n",
    "    midpoint            = (integer_power_below + integer_power_above) / 2\n",
    "    ret_val             = 2 ** np.ceil(log)\n",
    "   \n",
    "    if(ret_val < 4): ret_val = 4\n",
    "\n",
    "    return ret_val\n",
    "\n",
    "binary['chirp_time'] = lalsim.SimIMRPhenomDChirpTime(binary['mass_1_detector']*lal.MSUN_SI,\n",
    "                                                              binary['mass_2_detector']*lal.MSUN_SI,\n",
    "                                                              binary['chi_1z'],\n",
    "                                                              binary['chi_2z'],\n",
    "                                                              binary['f_min']\n",
    "                                                             )"
   ]
  },
  {
   "cell_type": "code",
   "execution_count": 6,
   "metadata": {},
   "outputs": [
    {
     "data": {
      "text/plain": [
       "[Interferometer(name='H1', power_spectral_density=PowerSpectralDensity(psd_file='None', asd_file='/home/alex/anaconda3/envs/myenv/lib/python3.10/site-packages/bilby/gw/detector/noise_curves/aLIGO_O4_high_asd.txt'), minimum_frequency=20.0, maximum_frequency=2048.0, length=4.0, latitude=46.45514666666667, longitude=-119.4076571388889, elevation=142.554, xarm_azimuth=125.9994, yarm_azimuth=215.9994, xarm_tilt=-0.0006195, yarm_tilt=1.25e-05),\n",
       " Interferometer(name='L1', power_spectral_density=PowerSpectralDensity(psd_file='None', asd_file='/home/alex/anaconda3/envs/myenv/lib/python3.10/site-packages/bilby/gw/detector/noise_curves/aLIGO_O4_high_asd.txt'), minimum_frequency=20.0, maximum_frequency=2048.0, length=4.0, latitude=30.562894333333332, longitude=-90.77424038888887, elevation=-6.574, xarm_azimuth=197.7165, yarm_azimuth=287.7165, xarm_tilt=-0.0003121, yarm_tilt=-0.0006107),\n",
       " Interferometer(name='V1', power_spectral_density=PowerSpectralDensity(psd_file='/home/alex/anaconda3/envs/myenv/lib/python3.10/site-packages/bilby/gw/detector/noise_curves/AdV_psd.txt', asd_file='None'), minimum_frequency=20.0, maximum_frequency=2048.0, length=3.0, latitude=43.631414472222225, longitude=10.504496611111112, elevation=51.884, xarm_azimuth=70.56740000000002, yarm_azimuth=160.5674, xarm_tilt=0.0, yarm_tilt=0.0)]"
      ]
     },
     "execution_count": 6,
     "metadata": {},
     "output_type": "execute_result"
    }
   ],
   "source": [
    "settings = {\n",
    "'ifos'  : ['H1','L1','V1'], # Initialise detector network using default PSDs (O4 high [check])\n",
    "'srate' : 2048.}\n",
    "settings['f_max'] = settings['srate'] / 2 # Maximum frequency from nyquist ~ srate / 2\n",
    "settings['f_min'] = binary['f_min']\n",
    "settings['seglen'] = get_duration(binary['chirp_time'] + 2.0)\n",
    "settings['start_time'] = binary['geocent_time'] + 2 - settings['seglen']\n",
    "\n",
    "ifos  = bilby.gw.detector.InterferometerList(settings['ifos'])\n",
    "nifos = len(settings['ifos'])\n",
    "ifos"
   ]
  },
  {
   "cell_type": "code",
   "execution_count": 7,
   "metadata": {},
   "outputs": [],
   "source": [
    "# Sets the PSD to be used in evaluating likelihood\n",
    "ifos.set_strain_data_from_zero_noise(\n",
    "    sampling_frequency=settings['srate'], duration=settings['seglen'],\n",
    "    start_time=settings['start_time'])"
   ]
  },
  {
   "cell_type": "code",
   "execution_count": 8,
   "metadata": {},
   "outputs": [],
   "source": [
    "injection_parameters = dict(\n",
    "    mass_1   = binary['mass_1_detector'],\n",
    "    mass_2   = binary['mass_2_detector'],\n",
    "    chi_1    = binary['chi_1z'],\n",
    "    chi_2    = binary['chi_2z'],\n",
    "    a_1      = binary['chi_1z'],\n",
    "    a_2      = binary['chi_2z'],\n",
    "    tilt_1   = 0.,\n",
    "    tilt_2   = 0.,\n",
    "    phi_12   = 0.,\n",
    "    phi_jl   = 0.,\n",
    "    theta_jn = binary['theta_jn'],\n",
    "    psi      = binary['psi'],\n",
    "    phase    = binary['phase'],\n",
    "    ra       = binary['ra'],\n",
    "    dec      = binary['dec'],\n",
    "    luminosity_distance = binary['distance'],\n",
    "    geocent_time        = binary['geocent_time']\n",
    "    )"
   ]
  },
  {
   "cell_type": "code",
   "execution_count": 9,
   "metadata": {},
   "outputs": [],
   "source": [
    "injected_waveform_arguments = \\\n",
    "dict(waveform_approximant = binary['waveform'],\n",
    "     reference_frequency  = binary['f_ref'],\n",
    "     minimum_frequency    = settings['f_min'])"
   ]
  },
  {
   "cell_type": "code",
   "execution_count": 10,
   "metadata": {},
   "outputs": [
    {
     "name": "stderr",
     "output_type": "stream",
     "text": [
      "10:20 bilby INFO    : Waveform generator initiated with\n",
      "  frequency_domain_source_model: bilby.gw.source.lal_binary_black_hole\n",
      "  time_domain_source_model: None\n",
      "  parameter_conversion: bilby.gw.conversion.convert_to_lal_binary_black_hole_parameters\n",
      "10:20 bilby INFO    : Injected signal in H1:\n",
      "10:20 bilby INFO    :   optimal SNR = 62.74\n",
      "10:20 bilby INFO    :   matched filter SNR = 62.74+0.00j\n",
      "10:20 bilby INFO    :   mass_1 = 38.9185650890623\n",
      "10:20 bilby INFO    :   mass_2 = 33.458613972262064\n",
      "10:20 bilby INFO    :   chi_1 = 0.27210419\n",
      "10:20 bilby INFO    :   chi_2 = 0.33355909\n",
      "10:20 bilby INFO    :   a_1 = 0.27210419\n",
      "10:20 bilby INFO    :   a_2 = 0.33355909\n",
      "10:20 bilby INFO    :   tilt_1 = 0.0\n",
      "10:20 bilby INFO    :   tilt_2 = 0.0\n",
      "10:20 bilby INFO    :   phi_12 = 0.0\n",
      "10:20 bilby INFO    :   phi_jl = 0.0\n",
      "10:20 bilby INFO    :   theta_jn = 2.67548653\n",
      "10:20 bilby INFO    :   psi = 0.78539816\n",
      "10:20 bilby INFO    :   phase = 0.1\n",
      "10:20 bilby INFO    :   ra = 1.6768742520431272\n",
      "10:20 bilby INFO    :   dec = -1.2148064804269771\n",
      "10:20 bilby INFO    :   luminosity_distance = 439.29\n",
      "10:20 bilby INFO    :   geocent_time = 1126259462.4\n",
      "10:20 bilby INFO    : Injected signal in L1:\n",
      "10:20 bilby INFO    :   optimal SNR = 49.23\n",
      "10:20 bilby INFO    :   matched filter SNR = 49.23+0.00j\n",
      "10:20 bilby INFO    :   mass_1 = 38.9185650890623\n",
      "10:20 bilby INFO    :   mass_2 = 33.458613972262064\n",
      "10:20 bilby INFO    :   chi_1 = 0.27210419\n",
      "10:20 bilby INFO    :   chi_2 = 0.33355909\n",
      "10:20 bilby INFO    :   a_1 = 0.27210419\n",
      "10:20 bilby INFO    :   a_2 = 0.33355909\n",
      "10:20 bilby INFO    :   tilt_1 = 0.0\n",
      "10:20 bilby INFO    :   tilt_2 = 0.0\n",
      "10:20 bilby INFO    :   phi_12 = 0.0\n",
      "10:20 bilby INFO    :   phi_jl = 0.0\n",
      "10:20 bilby INFO    :   theta_jn = 2.67548653\n",
      "10:20 bilby INFO    :   psi = 0.78539816\n",
      "10:20 bilby INFO    :   phase = 0.1\n",
      "10:20 bilby INFO    :   ra = 1.6768742520431272\n",
      "10:20 bilby INFO    :   dec = -1.2148064804269771\n",
      "10:20 bilby INFO    :   luminosity_distance = 439.29\n",
      "10:20 bilby INFO    :   geocent_time = 1126259462.4\n",
      "10:20 bilby INFO    : Injected signal in V1:\n",
      "10:20 bilby INFO    :   optimal SNR = 44.77\n",
      "10:20 bilby INFO    :   matched filter SNR = 44.77+0.00j\n",
      "10:20 bilby INFO    :   mass_1 = 38.9185650890623\n",
      "10:20 bilby INFO    :   mass_2 = 33.458613972262064\n",
      "10:20 bilby INFO    :   chi_1 = 0.27210419\n",
      "10:20 bilby INFO    :   chi_2 = 0.33355909\n",
      "10:20 bilby INFO    :   a_1 = 0.27210419\n",
      "10:20 bilby INFO    :   a_2 = 0.33355909\n",
      "10:20 bilby INFO    :   tilt_1 = 0.0\n",
      "10:20 bilby INFO    :   tilt_2 = 0.0\n",
      "10:20 bilby INFO    :   phi_12 = 0.0\n",
      "10:20 bilby INFO    :   phi_jl = 0.0\n",
      "10:20 bilby INFO    :   theta_jn = 2.67548653\n",
      "10:20 bilby INFO    :   psi = 0.78539816\n",
      "10:20 bilby INFO    :   phase = 0.1\n",
      "10:20 bilby INFO    :   ra = 1.6768742520431272\n",
      "10:20 bilby INFO    :   dec = -1.2148064804269771\n",
      "10:20 bilby INFO    :   luminosity_distance = 439.29\n",
      "10:20 bilby INFO    :   geocent_time = 1126259462.4\n"
     ]
    },
    {
     "data": {
      "text/plain": [
       "[{'plus': array([0.+0.j, 0.+0.j, 0.+0.j, ..., 0.+0.j, 0.+0.j, 0.+0.j]),\n",
       "  'cross': array([0.+0.j, 0.+0.j, 0.+0.j, ..., 0.+0.j, 0.+0.j, 0.+0.j])},\n",
       " {'plus': array([0.+0.j, 0.+0.j, 0.+0.j, ..., 0.+0.j, 0.+0.j, 0.+0.j]),\n",
       "  'cross': array([0.+0.j, 0.+0.j, 0.+0.j, ..., 0.+0.j, 0.+0.j, 0.+0.j])},\n",
       " {'plus': array([0.+0.j, 0.+0.j, 0.+0.j, ..., 0.+0.j, 0.+0.j, 0.+0.j]),\n",
       "  'cross': array([0.+0.j, 0.+0.j, 0.+0.j, ..., 0.+0.j, 0.+0.j, 0.+0.j])}]"
      ]
     },
     "execution_count": 10,
     "metadata": {},
     "output_type": "execute_result"
    }
   ],
   "source": [
    "conversion = bilby.gw.conversion.convert_to_lal_binary_black_hole_parameters\n",
    "injected_waveform_generator = bilby.gw.WaveformGenerator(\n",
    "    duration                      = settings['seglen'],\n",
    "    sampling_frequency            = settings['srate'],\n",
    "    parameter_conversion          = conversion,\n",
    "    frequency_domain_source_model = bilby.gw.source.lal_binary_black_hole,\n",
    "    waveform_arguments            = injected_waveform_arguments\n",
    ")\n",
    "\n",
    "ifos.inject_signal(waveform_generator=injected_waveform_generator,\n",
    "                   parameters=injection_parameters)"
   ]
  },
  {
   "cell_type": "code",
   "execution_count": 12,
   "metadata": {},
   "outputs": [],
   "source": [
    "\"\"\" \n",
    "Setup priors for likelihood\n",
    "\n",
    "Remarks\n",
    "-------\n",
    "\n",
    "(1) Use cosine instead of sine for dec because of relationship between dec and theta\n",
    "\n",
    "\"\"\"\n",
    "# 'mass_ratio' : bilby.gw.prior.UniformInComponentsMassRatio(name='mass_ratio', minimum=0.125, maximum=1),\n",
    "# 'chirp_mass' : bilby.prior.analytical.Uniform(name='chirp_mass', minimum=10, maximum=80),\n",
    "# 'mass_ratio' : bilby.prior.analytical.Uniform(name='mass_ratio', minimum=0.125, maximum=1),\n",
    "# 'chirp_mass' : bilby.gw.prior.UniformInComponentsChirpMass(name='chirp_mass', minimum=10, maximum=80),\n",
    "# 'mass_1'     : bilby.gw.prior.Constraint(name='mass_1', minimum=5, maximum=100),\n",
    "# 'mass_2'     : bilby.gw.prior.Constraint(name='mass_2', minimum=5, maximum=100),\n",
    "# 'luminosity_distance' : bilby.gw.prior.UniformSourceFrame(name='luminosity_distance', minimum=50, maximum=2e3, unit='Mpc'),\n",
    "\n",
    "prior = {\n",
    "'chirp_mass'          : bilby.prior.analytical.Uniform(name='chirp_mass', minimum=10, maximum=80),\n",
    "'symmetric_mass_ratio': bilby.prior.analytical.Uniform(0.1, 0.25, name='symmetric_mass_ratio'),\n",
    "'luminosity_distance' : bilby.prior.analytical.Uniform(name='luminosity_distance', minimum=50, maximum=2e3, unit='Mpc'),\n",
    "'dec'                 : bilby.prior.analytical.Cosine(name='dec'), # (1)\n",
    "'ra'                  : bilby.prior.analytical.Uniform(name='ra', minimum=0, maximum=2 * np.pi, boundary='periodic'),\n",
    "'theta_jn'            : bilby.prior.analytical.Sine(name='theta_jn'),\n",
    "'psi'                 : bilby.prior.analytical.Uniform(name='psi', minimum=0, maximum=np.pi, boundary='periodic'),\n",
    "'geocent_time'        : bilby.prior.analytical.Uniform(name='geocent_time', minimum=binary['geocent_time'] - 2, maximum=binary['geocent_time'] + 2),\n",
    "'phase'               : bilby.prior.analytical.Uniform(name='phase', minimum=0, maximum=2 * np.pi, boundary='periodic'),\n",
    "'chi_1'               : bilby.gw.prior.AlignedSpin(name='chi_1', a_prior=bilby.prior.analytical.Uniform(minimum=0, maximum=0.99)),\n",
    "'chi_2'               : bilby.gw.prior.AlignedSpin(name='chi_2', a_prior=bilby.prior.analytical.Uniform(minimum=0, maximum=0.99))\n",
    "}"
   ]
  },
  {
   "cell_type": "code",
   "execution_count": 13,
   "metadata": {},
   "outputs": [
    {
     "name": "stderr",
     "output_type": "stream",
     "text": [
      "10:21 bilby INFO    : Waveform generator initiated with\n",
      "  frequency_domain_source_model: bilby.gw.source.lal_binary_black_hole\n",
      "  time_domain_source_model: None\n",
      "  parameter_conversion: bilby.gw.conversion.convert_to_lal_binary_black_hole_parameters\n"
     ]
    }
   ],
   "source": [
    "\"\"\" \n",
    "TODO\n",
    "\"\"\"\n",
    "\n",
    "conversion         = bilby.gw.conversion.convert_to_lal_binary_black_hole_parameters\n",
    "waveform_arguments = {\n",
    "    'waveform_approximant' : binary['waveform'],\n",
    "    'reference_frequency'  : binary['f_ref'],\n",
    "    'minimum_frequency'    : settings['f_min']\n",
    "}\n",
    "\n",
    "waveform_generator = bilby.gw.WaveformGenerator(\n",
    "    duration                      = settings['seglen'],\n",
    "    sampling_frequency            = settings['srate'],\n",
    "    parameter_conversion          = conversion,\n",
    "    frequency_domain_source_model = bilby.gw.source.lal_binary_black_hole,\n",
    "    waveform_arguments            = waveform_arguments\n",
    ")"
   ]
  },
  {
   "cell_type": "code",
   "execution_count": 14,
   "metadata": {},
   "outputs": [],
   "source": [
    "likelihood = bilby.gw.likelihood.GravitationalWaveTransient(\n",
    "    interferometers          = ifos,\n",
    "    waveform_generator       = waveform_generator,\n",
    "    priors                   = prior,\n",
    "    time_marginalization     = False, # Should be safe to use\n",
    "    distance_marginalization = False, # Safe to use\n",
    "    phase_marginalization    = False  # Only use if neglecting HM\n",
    ")"
   ]
  },
  {
   "cell_type": "code",
   "execution_count": 20,
   "metadata": {},
   "outputs": [],
   "source": [
    "from gwfast.gwfastUtils import m1m2_from_Mceta, GPSt_to_LMST\n",
    "\n",
    "seconds_per_day = 86400.\n",
    "\n",
    "def like_wrapper(x):\n",
    "    \"\"\" \n",
    "    Remarks\n",
    "    -------\n",
    "\n",
    "    (1) tcoal is in units of tgps\n",
    "    (2) Bilby accepts dL in megaparsecs (1e6), gwfast accepts dL in gigaparsecs (1e9)\n",
    "    \"\"\"\n",
    "\n",
    "    Mc      = x[0]\n",
    "    eta     = x[1]\n",
    "    dL      = x[2]\n",
    "    theta   = x[3]\n",
    "    phi     = x[4]\n",
    "    iota    = x[5]\n",
    "    psi     = x[6]\n",
    "    tGPS    = x[7]\n",
    "    Phicoal = x[8]\n",
    "    chi1z   = x[9]\n",
    "    chi2z   = x[10]\n",
    "\n",
    "    mass_1, mass_2 = m1m2_from_Mceta(Mc, eta)\n",
    "\n",
    "    params = {'mass_1': mass_1,\n",
    "              'mass_2': mass_2,\n",
    "              'chi_1': chi1z,\n",
    "              'chi_2': chi2z,\n",
    "              'theta_jn': iota,\n",
    "              'psi': psi,\n",
    "              'phase': Phicoal,\n",
    "              'ra': phi,\n",
    "              'dec': np.pi/2 - theta,\n",
    "              'luminosity_distance': dL * 1000, # (2)\n",
    "              'geocent_time': tGPS}\n",
    "    \n",
    "    likelihood.parameters = params \n",
    "    return likelihood.log_likelihood() #+ likelihood.prior.ln_prob()\n",
    "\n",
    "def ln_prior(x):\n",
    "    \"\"\" \n",
    "    Remarks\n",
    "    -------\n",
    "    \n",
    "    (1) Change dL from units of Gpc to Mpc\n",
    "    (2) Change theta to declination\n",
    "    \"\"\"\n",
    "    x[2] = x[2] * 1000     # (1)\n",
    "    x[3] = np.pi/2 - x[3]  # (2)\n",
    "    res = 0\n",
    "    for i, param in enumerate(likelihood.priors):\n",
    "        if likelihood.priors[param].ln_prob(x[i]) == - np.inf:\n",
    "            print(param) \n",
    "        res += likelihood.priors[param].ln_prob(x[i])\n",
    "    return res\n",
    "\n",
    "def ln_posterior(x):\n",
    "    return like_wrapper(x) + ln_prior(x)"
   ]
  },
  {
   "cell_type": "code",
   "execution_count": null,
   "metadata": {},
   "outputs": [],
   "source": [
    "likelihood.parameters = injection_parameters\n",
    "likelihood.parameters"
   ]
  },
  {
   "cell_type": "code",
   "execution_count": 16,
   "metadata": {},
   "outputs": [
    {
     "name": "stderr",
     "output_type": "stream",
     "text": [
      "No GPU/TPU found, falling back to CPU. (Set TF_CPP_MIN_LOG_LEVEL=0 and rerun for more info.)\n"
     ]
    },
    {
     "name": "stdout",
     "output_type": "stream",
     "text": [
      "Using detectors ['L1', 'H1', 'Virgo']\n",
      "Using waveform model: IMRPhenomD\n",
      "nbins_standard=2000\n",
      "nbins_dense=100000\n",
      "Precomputing squared SNR for likelihood\n",
      "SNR: 91.402384\n"
     ]
    }
   ],
   "source": [
    "from models.GWFAST_heterodyne import gwfast_class\n",
    "from jax.config import config\n",
    "config.update(\"jax_enable_x64\", True)\n",
    "model = gwfast_class(chi=1, eps=0.5, mode='IMRPhenomD')"
   ]
  },
  {
   "cell_type": "code",
   "execution_count": 18,
   "metadata": {},
   "outputs": [
    {
     "name": "stdout",
     "output_type": "stream",
     "text": [
      "buffer in prior: 0.396000\n"
     ]
    }
   ],
   "source": [
    "import copy\n",
    "n = 1\n",
    "x_for_gwfast = model._newDrawFromPrior(1)\n",
    "x_for_gwfast[0,7] = model.injParams['tcoal']\n",
    "\n",
    "tGPS_inj = np.array([1.1262594624e+09])[0]\n",
    "x_for_bilby = copy.deepcopy(x_for_gwfast).squeeze()\n",
    "x_for_bilby[7] = tGPS_inj"
   ]
  },
  {
   "cell_type": "code",
   "execution_count": 24,
   "metadata": {},
   "outputs": [
    {
     "data": {
      "text/plain": [
       "array([ 3.46888656e+01,  2.15423970e-01,  1.57264029e+12,  2.21920336e+00,\n",
       "        2.66764763e+00,  1.06590266e+00,  1.16830452e+00,  1.12625946e+09,\n",
       "       -1.75601819e+00,  4.22375163e-01,  2.59446239e-01])"
      ]
     },
     "execution_count": 24,
     "metadata": {},
     "output_type": "execute_result"
    }
   ],
   "source": [
    "# ln_posterior(x_for_bilby)\n",
    "x_for_bilby\n",
    "\n"
   ]
  },
  {
   "cell_type": "code",
   "execution_count": 31,
   "metadata": {},
   "outputs": [
    {
     "name": "stdout",
     "output_type": "stream",
     "text": [
      "-4276.41963349914 [-4224.82973355]\n"
     ]
    }
   ],
   "source": [
    "test1 = like_wrapper(x_for_bilby)\n",
    "test2 = -model.standard_minusLogLikelihood(x_for_gwfast)\n",
    "print(test1, test2)"
   ]
  },
  {
   "cell_type": "code",
   "execution_count": 33,
   "metadata": {},
   "outputs": [],
   "source": [
    "\n",
    "\n",
    "def getCrossSection(self, a, b, func, ngrid):\n",
    "    # a, b are the parameters for which we want the marginals:\n",
    "    x = np.linspace(self.priorDict[a][0], self.priorDict[a][1], ngrid)\n",
    "    y = np.linspace(self.priorDict[b][0], self.priorDict[b][1], ngrid)\n",
    "    X, Y = np.meshgrid(x, y)\n",
    "    particle_grid = np.zeros((ngrid ** 2, self.DoF))\n",
    "    index1 = self.gwfast_param_order.index(a)\n",
    "    index2 = self.gwfast_param_order.index(b)\n",
    "    parameter_mesh = np.vstack((np.ndarray.flatten(X), np.ndarray.flatten(Y))).T\n",
    "    particle_grid[:, index1] = parameter_mesh[:, 0]\n",
    "    particle_grid[:, index2] = parameter_mesh[:, 1]\n",
    "    for i in range(self.DoF): # Fix all other parameters\n",
    "        if i != index1 and i != index2:\n",
    "            if i != 7:\n",
    "                particle_grid[:, i] = np.ones(ngrid ** 2) * self.true_params[i]\n",
    "            else:\n",
    "                particle_grid[:, i] = np.ones(ngrid ** 2) * tGPS_inj\n",
    "    # Z = np.exp(-1 * func(particle_grid).reshape(ngrid,ngrid))\n",
    "    Z = func(particle_grid).reshape(ngrid,ngrid)\n",
    "    # s = self.getGradientMinusLogPosterior_ensemble(particle_grid)\n",
    "    # Z = np.linalg.norm(s,axis=1).reshape(ngrid,ngrid)\n",
    "    fig, ax = plt.subplots(figsize = (5, 5))\n",
    "    cp = ax.contourf(X, Y, Z)\n",
    "    # cbar = fig.colorbar(cp)\n",
    "    plt.colorbar(cp)\n",
    "    ax.set_xlabel(a)\n",
    "    ax.set_ylabel(b)\n",
    "    ax.set_title('Likelihood cross section')\n",
    "    filename = a + b + 'bilby' + '.png'\n",
    "    path = os.path.join('marginals', filename)\n",
    "    fig.savefig(path)"
   ]
  },
  {
   "cell_type": "code",
   "execution_count": 40,
   "metadata": {},
   "outputs": [
    {
     "data": {
      "image/png": "[encoded data removed]",
      "text/plain": [
       "<Figure size 360x360 with 2 Axes>"
      ]
     },
     "metadata": {
      "needs_background": "light"
     },
     "output_type": "display_data"
    }
   ],
   "source": [
    "likes = lambda X: np.apply_along_axis(like_wrapper, axis=1, arr=X)\n",
    "a = 'chi1z'\n",
    "b = 'chi2z'\n",
    "getCrossSection(model, a, b, likes, 100)"
   ]
  },
  {
   "cell_type": "code",
   "execution_count": null,
   "metadata": {},
   "outputs": [],
   "source": []
  },
  {
   "cell_type": "code",
   "execution_count": null,
   "metadata": {},
   "outputs": [],
   "source": [
    "n = 100\n",
    "\n",
    "\n",
    "\n"
   ]
  },
  {
   "cell_type": "code",
   "execution_count": 23,
   "metadata": {},
   "outputs": [
    {
     "data": {
      "text/plain": [
       "Array([-100.], dtype=float64)"
      ]
     },
     "execution_count": 23,
     "metadata": {},
     "output_type": "execute_result"
    }
   ],
   "source": [
    "x = model.true_params[np.newaxis,:]\n",
    "test_1 = model.standard_minusLogLikelihood(x)\n",
    "test_2 = likelihood.log_likelihood()\n",
    "(test_1 - test_2) / test_2 * 100"
   ]
  },
  {
   "cell_type": "code",
   "execution_count": 6,
   "metadata": {},
   "outputs": [
    {
     "data": {
      "image/png": "[encoded data removed]",
      "text/plain": [
       "<Figure size 432x288 with 1 Axes>"
      ]
     },
     "metadata": {
      "needs_background": "light"
     },
     "output_type": "display_data"
    }
   ],
   "source": [
    "import numpy as np\n",
    "import matplotlib.pyplot as plt\n",
    "res_data = np.loadtxt('/mnt/c/sSVN_GW/notebooks/res_data.txt')\n",
    "fig, ax = plt.subplots()\n",
    "ax.plot(res_data)\n",
    "fig.show()"
   ]
  },
  {
   "cell_type": "code",
   "execution_count": null,
   "metadata": {},
   "outputs": [],
   "source": [
    "path = '/home/alex/anaconda3/envs/myenv/lib/python3.10/site-packages/bilby/gw/detector/noise_curves/AdV_psd.txt'\n",
    "data = np.loadtxt(path)\n",
    "data[:,1] = np.sqrt(data[:,1])\n",
    "save_path = '/mnt/c/sSVN_GW/notebooks'\n",
    "filename = 'AdV_ASD.txt'\n",
    "np.savetxt(os.path.join(save_path, filename), data)"
   ]
  },
  {
   "cell_type": "code",
   "execution_count": null,
   "metadata": {},
   "outputs": [],
   "source": [
    "import matplotlib.pyplot as plt\n",
    "fig, ax = plt.subplots()\n",
    "asd_data = np.loadtxt(os.path.join(save_path, filename))\n",
    "ax.loglog(asd_data[:,0], asd_data[:,1], label='Virgo ASD')\n",
    "ax.set_xlabel('Frequency (Hz)')\n",
    "ax.set_ylabel('')\n",
    "ax.set_title('Amplitude spectral density (ASD)')\n",
    "ax.legend()\n",
    "fig.show()"
   ]
  },
  {
   "attachments": {},
   "cell_type": "markdown",
   "metadata": {},
   "source": [
    "## Test with gwfast"
   ]
  },
  {
   "cell_type": "code",
   "execution_count": null,
   "metadata": {},
   "outputs": [],
   "source": [
    "alldetectors = copy.deepcopy(glob.detectors)\n",
    "# select only LIGO and Virgo\n",
    "LVdetectors = {det:alldetectors[det] for det in ['L1', 'H1', 'Virgo']}\n",
    "print('Using detectors '+str(list(LVdetectors.keys())))"
   ]
  },
  {
   "cell_type": "code",
   "execution_count": null,
   "metadata": {},
   "outputs": [],
   "source": [
    "LVdetectors['L1']['psd_path'] = '/Users/francesco.iacovelli/.pyenv/versions/3.9.4/lib/python3.9/site-packages/bilby/gw/detector/noise_curves/aLIGO_O4_high_asd.txt'\n",
    "LVdetectors['H1']['psd_path'] = '/Users/francesco.iacovelli/.pyenv/versions/3.9.4/lib/python3.9/site-packages/bilby/gw/detector/noise_curves/aLIGO_O4_high_asd.txt'\n",
    "LVdetectors['Virgo']['psd_path'] = '/Users/francesco.iacovelli/.pyenv/versions/3.9.4/lib/python3.9/site-packages/bilby/gw/detector/noise_curves/AdV_psd.txt'"
   ]
  },
  {
   "cell_type": "code",
   "execution_count": null,
   "metadata": {},
   "outputs": [],
   "source": [
    "myLVSignals = {}\n",
    "is_asd_use=True\n",
    "mywf = WF.IMRPhenomD()\n",
    "for d in LVdetectors.keys():\n",
    "    if d =='Virgo':\n",
    "        is_asd_use=False\n",
    "    myLVSignals[d] = signal.GWSignal(mywf, \n",
    "                psd_path=LVdetectors[d]['psd_path'],\n",
    "                detector_shape = LVdetectors[d]['shape'],\n",
    "                det_lat= LVdetectors[d]['lat'],\n",
    "                det_long=LVdetectors[d]['long'],\n",
    "                det_xax=LVdetectors[d]['xax'], \n",
    "                verbose=False,\n",
    "                useEarthMotion = False,\n",
    "                fmin=20.,\n",
    "                fmax=2048.,\n",
    "                is_ASD=is_asd_use,\n",
    "                IntTablePath=None) \n",
    "        \n",
    "myLVNet = network.DetNet(myLVSignals)   "
   ]
  },
  {
   "cell_type": "code",
   "execution_count": null,
   "metadata": {},
   "outputs": [],
   "source": [
    "injParams = {}\n",
    "# GW150914\n",
    "tGPS = np.array([1.1262594624e+09])\n",
    "tcoal = float(utils.GPSt_to_LMST(tGPS, lat=0., long=0.)) # [0, 1] \n",
    "injParams['Mc']      = np.array([31.39])          # (1)   # (0)               # [M_solar]\n",
    "injParams['eta']     = np.array([0.2485773])           # (2)   # (1)               # [Unitless]\n",
    "# injParams['dL']      = np.array([2.634])               # (3)   # (2)               # [Gigaparsecs]\n",
    "injParams['dL']      = np.array([0.43929])               # (3)   # (2)               # [Gigaparsecs]\n",
    "injParams['theta']   = np.array([2.78560281])          # (4)   # (3)               # [Rad]\n",
    "injParams['phi']     = np.array([1.67687425])          # (5)   # (4)   RA            # [Rad]\n",
    "injParams['iota']    = np.array([2.67548653])          # (6)   # (5)               # [Rad]\n",
    "injParams['psi']     = np.array([0.78539816])          # (7)   # (6)               # [Rad]\n",
    "injParams['tcoal']   = np.array([tcoal])               # (8)   # (7)               # [sec]\n",
    "injParams['Phicoal'] = np.array([0.1])                 # (9)   # (8)               # [Rad]\n",
    "injParams['chi1z']   = np.array([0.27210419])          # (10)  # (9)               # [Unitless]\n",
    "injParams['chi2z']   = np.array([0.33355909])          # (11)  # (10)              # [Unitless]\n"
   ]
  },
  {
   "cell_type": "code",
   "execution_count": null,
   "metadata": {},
   "outputs": [],
   "source": [
    "myLVNet.SNR(injParams, return_all=True)"
   ]
  },
  {
   "cell_type": "code",
   "execution_count": null,
   "metadata": {},
   "outputs": [],
   "source": []
  }
 ],
 "metadata": {
  "kernelspec": {
   "display_name": "Python 3",
   "language": "python",
   "name": "python3"
  },
  "language_info": {
   "codemirror_mode": {
    "name": "ipython",
    "version": 3
   },
   "file_extension": ".py",
   "mimetype": "text/x-python",
   "name": "python",
   "nbconvert_exporter": "python",
   "pygments_lexer": "ipython3",
   "version": "3.10.4"
  },
  "orig_nbformat": 4
 },
 "nbformat": 4,
 "nbformat_minor": 2
}
