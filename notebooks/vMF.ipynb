{
 "cells": [
  {
   "cell_type": "markdown",
   "metadata": {
    "pycharm": {
     "name": "#%% md\n"
    }
   },
   "source": [
    "## Goal of notebook\n",
    "\n",
    "This notebook aims to quantify the effect of neglecting topological effects in the Stein dynamics. To do this, we investigate the output samples on a one-dimensional von Mises distribution."
   ]
  },
  {
   "cell_type": "markdown",
   "metadata": {
    "pycharm": {
     "name": "#%% md\n"
    }
   },
   "source": [
    "# Import tools"
   ]
  },
  {
   "cell_type": "code",
   "execution_count": 1,
   "metadata": {
    "pycharm": {
     "name": "#%%\n"
    }
   },
   "outputs": [],
   "source": [
    "from models.vonMises import vM\n",
    "from src.samplers import samplers\n",
    "from scripts.plot_helper_functions import collect_samples\n",
    "import numpy as np\n",
    "%matplotlib inline\n",
    "import logging\n",
    "import sys\n",
    "logging.basicConfig(stream=sys.stdout, level=logging.INFO)\n",
    "import corner\n",
    "from chainconsumer import ChainConsumer\n",
    "import matplotlib.pyplot as plt"
   ]
  },
  {
   "cell_type": "markdown",
   "metadata": {
    "pycharm": {
     "name": "#%% md\n"
    }
   },
   "source": [
    "# Setup von Mises distribution"
   ]
  },
  {
   "cell_type": "code",
   "execution_count": 2,
   "metadata": {
    "pycharm": {
     "name": "#%%\n"
    }
   },
   "outputs": [],
   "source": [
    "kappa = 100\n",
    "mu = 0 # Intrinsic angle\n",
    "mu_vmf = np.array([1, 0]) # Direction in R^2\n",
    "model = vM(kappa=kappa, mu=mu)"
   ]
  },
  {
   "cell_type": "markdown",
   "metadata": {
    "pycharm": {
     "name": "#%% md\n"
    }
   },
   "source": [
    "# Visualize von Mises"
   ]
  },
  {
   "cell_type": "code",
   "execution_count": 3,
   "metadata": {
    "pycharm": {
     "name": "#%%\n"
    }
   },
   "outputs": [
    {
     "data": {
      "text/plain": [
       "[<matplotlib.lines.Line2D at 0x1ce25ac78b0>]"
      ]
     },
     "execution_count": 3,
     "metadata": {},
     "output_type": "execute_result"
    },
    {
     "data": {
      "image/png": "[encoded data removed]",
      "text/plain": [
       "<Figure size 432x288 with 1 Axes>"
      ]
     },
     "metadata": {
      "needs_background": "light"
     },
     "output_type": "display_data"
    }
   ],
   "source": [
    "domain = np.arange(0, 2 * np.pi, .1)\n",
    "range = np.exp(-1 * model.getMinusLogPosterior_ensemble(domain[..., np.newaxis]))\n",
    "plt.xlabel(r'$\\theta$')\n",
    "plt.title(r'von Mises distribution over $[0, 2\\pi]$.')\n",
    "plt.plot(domain, range)"
   ]
  },
  {
   "cell_type": "markdown",
   "metadata": {
    "pycharm": {
     "name": "#%% md\n"
    }
   },
   "source": [
    "# Run dynamics"
   ]
  },
  {
   "cell_type": "code",
   "execution_count": 29,
   "metadata": {
    "pycharm": {
     "name": "#%%\n"
    }
   },
   "outputs": [
    {
     "name": "stderr",
     "output_type": "stream",
     "text": [
      "Stepsize 0.010000 | Median bandwidth: 0.089211: 100%|██████████| 100/100 [00:00<00:00, 141.55it/s]\n"
     ]
    },
    {
     "name": "stdout",
     "output_type": "stream",
     "text": [
      "INFO:src.samplers:OUTPUT: Run completed successfully! Data stored in:\n",
      " C:\\sSVN_GW\\outdir\\1656787496\\output_data.h5\n"
     ]
    }
   ],
   "source": [
    "sampler1 = samplers(model=model, nIterations=100, nParticles=50, profile=False)\n",
    "sampler1.apply(method='SVGD', eps=0.01)"
   ]
  },
  {
   "cell_type": "markdown",
   "metadata": {
    "pycharm": {
     "name": "#%% md\n"
    }
   },
   "source": [
    "# Get summary statistics"
   ]
  },
  {
   "cell_type": "code",
   "execution_count": 30,
   "metadata": {
    "pycharm": {
     "name": "#%%\n"
    }
   },
   "outputs": [
    {
     "name": "stdout",
     "output_type": "stream",
     "text": [
      "WARNING:chainconsumer:Parameter $\\theta$ in chain Chain 0 is not constrained\n"
     ]
    },
    {
     "data": {
      "image/png": "[encoded data removed]",
      "text/plain": [
       "<Figure size 144x144 with 1 Axes>"
      ]
     },
     "metadata": {
      "needs_background": "light"
     },
     "output_type": "display_data"
    }
   ],
   "source": [
    "X1 = collect_samples(sampler1.history_path)\n",
    "params = [r\"$\\theta$\"]\n",
    "c = ChainConsumer().add_chain(X1, parameters=params)\n",
    "summary = c.analysis.get_summary()\n",
    "fig = c.plotter.plot_distributions(truth=[0])\n",
    "# fig1 = corner.corner(X1) # X1 is one-dimensional"
   ]
  },
  {
   "cell_type": "markdown",
   "metadata": {
    "pycharm": {
     "name": "#%% md\n"
    }
   },
   "source": [
    "# Visualize samples on $\\mathbb{S}^1 \\hookrightarrow \\mathbb{R}^2$"
   ]
  },
  {
   "cell_type": "code",
   "execution_count": 31,
   "metadata": {
    "pycharm": {
     "name": "#%%\n"
    }
   },
   "outputs": [],
   "source": [
    "n_ground_truth = 500\n",
    "ground_truth_samples = model.sample_vMF(mu=mu_vmf, kappa=kappa, num_samples=n_ground_truth)\n",
    "x = np.cos(X1)\n",
    "y = np.sin(X1)"
   ]
  },
  {
   "cell_type": "code",
   "execution_count": 32,
   "metadata": {
    "pycharm": {
     "name": "#%%\n"
    }
   },
   "outputs": [
    {
     "name": "stderr",
     "output_type": "stream",
     "text": [
      "C:\\Users\\Alex\\AppData\\Local\\Temp\\ipykernel_27256\\2536241254.py:7: UserWarning: Matplotlib is currently using module://matplotlib_inline.backend_inline, which is a non-GUI backend, so cannot show the figure.\n",
      "  fig1.show()\n"
     ]
    },
    {
     "data": {
      "image/png": "[encoded data removed]",
      "text/plain": [
       "<Figure size 432x288 with 1 Axes>"
      ]
     },
     "metadata": {
      "needs_background": "light"
     },
     "output_type": "display_data"
    }
   ],
   "source": [
    "fig1, ax = plt.subplots()\n",
    "circle = plt.Circle((0, 0), 1, color='k', fill=False)\n",
    "ax.add_patch(circle)\n",
    "ax.scatter(ground_truth_samples[:,0], ground_truth_samples[:,1], c='r')\n",
    "ax.scatter(x, y, c='b')\n",
    "ax.set_box_aspect(1)\n",
    "fig1.show()"
   ]
  },
  {
   "cell_type": "markdown",
   "metadata": {
    "pycharm": {
     "name": "#%% md\n"
    }
   },
   "source": [
    "# Remarks\n",
    "(1) Particles (most likely due to mode collapse) do not explore past the modes at the edges. Hence, they remain in bounds.\n",
    "(2) One may impose periodic boundary conditions for particles to jump over if necessary.\n",
    "(3) Upon visual inspection, the particles appear to behave appropriately!\n",
    "\n"
   ]
  },
  {
   "cell_type": "markdown",
   "metadata": {
    "pycharm": {
     "name": "#%% md\n"
    }
   },
   "source": [
    "# Conclusion\n",
    "This suggests that perhaps topological effects of $S^1$ are not prohibitive as a first approximation.\n",
    "Performance will most likely be diminished due to the difficulty SVGD has sampling multi-modal targets."
   ]
  }
 ],
 "metadata": {
  "kernelspec": {
   "display_name": "Python 3 (ipykernel)",
   "language": "python",
   "name": "python3"
  },
  "language_info": {
   "codemirror_mode": {
    "name": "ipython",
    "version": 3
   },
   "file_extension": ".py",
   "mimetype": "text/x-python",
   "name": "python",
   "nbconvert_exporter": "python",
   "pygments_lexer": "ipython3",
   "version": "3.10.4"
  }
 },
 "nbformat": 4,
 "nbformat_minor": 1
}
