{
 "cells": [
  {
   "cell_type": "markdown",
   "metadata": {},
   "source": [
    "In this notebook we run jaxns on the simplified 5D gravitational wave problem"
   ]
  },
  {
   "cell_type": "code",
   "execution_count": 1,
   "metadata": {},
   "outputs": [],
   "source": [
    "import sys\n",
    "sys.path.append(\"..\")\n",
    "\n",
    "from models.taylorf2 import taylorf2\n",
    "import jax.numpy as jnp\n",
    "from jax import grad, config\n",
    "import jax\n",
    "import matplotlib.pyplot as plt\n",
    "import os \n",
    "import numpy as np\n",
    "config.update(\"jax_enable_x64\", True)\n",
    "config.update(\"jax_debug_nans\", True)\n",
    "import corner"
   ]
  },
  {
   "cell_type": "code",
   "execution_count": null,
   "metadata": {},
   "outputs": [],
   "source": [
    "jax.devices()"
   ]
  },
  {
   "cell_type": "markdown",
   "metadata": {},
   "source": [
    "# Instantiate model class"
   ]
  },
  {
   "cell_type": "code",
   "execution_count": null,
   "metadata": {},
   "outputs": [],
   "source": [
    "injection = jnp.array([0, 0, 30.0, 0.24, 0.05]) \n",
    "\n",
    "# Define prior ranges\n",
    "priorDict = {}\n",
    "priorDict[0] = injection[0] + jnp.array([-0.001, 0.001])\n",
    "priorDict[1] = jnp.array([-jnp.pi, jnp.pi])\n",
    "priorDict[2] = jnp.array([27.5, 32.5])\n",
    "priorDict[3] = jnp.array([0.2, 0.249])\n",
    "priorDict[4] = jnp.array([0.02, 0.07])\n",
    "\n",
    "# Instantiate model\n",
    "model = taylorf2(injection, priorDict)"
   ]
  },
  {
   "cell_type": "markdown",
   "metadata": {},
   "source": [
    "# What does the strain look like?"
   ]
  },
  {
   "cell_type": "code",
   "execution_count": null,
   "metadata": {},
   "outputs": [],
   "source": [
    "plt.plot(model.frequency, model.strain(injection, model.frequency).imag, label='Imaginary')\n",
    "plt.plot(model.frequency, model.strain(injection, model.frequency).real, label='Real')\n",
    "plt.xlabel('Frequency (Hz)')\n",
    "plt.ylabel('Strain')\n",
    "plt.legend()\n",
    "plt.title('Gravitational wave strain data')"
   ]
  },
  {
   "cell_type": "markdown",
   "metadata": {},
   "source": [
    "# Run some quick checks on the derivatives"
   ]
  },
  {
   "cell_type": "code",
   "execution_count": null,
   "metadata": {},
   "outputs": [],
   "source": [
    "x = model.injection + np.random.uniform(low=0, high=0.0001, size=5)\n",
    "\n",
    "print('Make sure autodiff and analytically calculated gradient of strain agree')\n",
    "print(jax.jacfwd(model.strain)(x,10))\n",
    "print(model.gradient_strain(x, 10))\n",
    "\n",
    "# -------------------------------------------------------------------------------\n",
    "\n",
    "print('Make sure derivative of potentials agree')\n",
    "print(jax.jacfwd(model.potential_single)(x))\n",
    "print(model.gradient_potential_single(x))\n",
    "\n",
    "# -------------------------------------------------------------------------------\n",
    "\n",
    "print('Make sure Jacobian calculation is stable')\n",
    "print(jax.jacrev(model.potential_single)(x))\n",
    "print(jax.jacfwd(model.potential_single)(x))"
   ]
  },
  {
   "cell_type": "code",
   "execution_count": null,
   "metadata": {},
   "outputs": [],
   "source": [
    "# Calculate cross sections of PDF\n",
    "\n",
    "def getCrossSection(index1, index2, func, injection, lower_bound, upper_bound, index_label, ngrid=200):\n",
    "    DoF = len(injection)\n",
    "    x = np.linspace(lower_bound[index1], upper_bound[index1], ngrid)\n",
    "    y = np.linspace(lower_bound[index2], upper_bound[index2], ngrid)\n",
    "    X, Y = np.meshgrid(x, y)\n",
    "    particle_grid = np.zeros((ngrid ** 2, DoF))\n",
    "    parameter_mesh = np.vstack((np.ndarray.flatten(X), np.ndarray.flatten(Y))).T\n",
    "\n",
    "    particle_grid[:, index1] = parameter_mesh[:, 0]\n",
    "    particle_grid[:, index2] = parameter_mesh[:, 1]\n",
    "    for i in range(DoF): # Fix all other parameters\n",
    "        if i != index1 and i != index2:\n",
    "            particle_grid[:, i] = np.ones(ngrid ** 2) * injection[i]\n",
    "\n",
    "    Z = func(particle_grid).reshape(ngrid,ngrid)\n",
    "\n",
    "    fig, ax = plt.subplots(figsize = (5, 5))\n",
    "    cp = ax.contourf(X, Y, Z)\n",
    "    plt.colorbar(cp)\n",
    "    ax.set_xlabel(index_label[index1])\n",
    "    ax.set_ylabel(index_label[index2])\n",
    "    ax.set_title('Cross section of PDF')\n",
    "    filename = str(index1) + str(index2) + '.png'\n",
    "    path = os.path.join('marginals', filename)\n",
    "    # fig.savefig(path)\n",
    "\n",
    "posterior = lambda X: np.exp(-1 * model.getMinusLogPosterior_ensemble(X))\n",
    "\n",
    "neg_potential = lambda X: -1 * model.getMinusLogPosterior_ensemble(X)\n",
    "\n",
    "for i in range(5):\n",
    "    for j in range(i+1, 5):\n",
    "        # print('Getting cross section for %s' % pair)\n",
    "        getCrossSection(i, j, neg_potential, injection, model.lower_bound, model.upper_bound, model.index_label)"
   ]
  },
  {
   "cell_type": "markdown",
   "metadata": {},
   "source": [
    "# Try sampling from model with `jaxns`"
   ]
  },
  {
   "cell_type": "code",
   "execution_count": null,
   "metadata": {},
   "outputs": [],
   "source": [
    "# from jax.config import config\n",
    "\n",
    "# config.update(\"jax_enable_x64\", True)\n",
    "\n",
    "# import pylab as plt\n",
    "import tensorflow_probability.substrates.jax as tfp\n",
    "# from jax import random, numpy as jnp\n",
    "from jax import random\n",
    "# from jax import vmap\n",
    "\n",
    "# import jaxns\n",
    "from jaxns import ExactNestedSampler\n",
    "from jaxns import Model\n",
    "from jaxns import PriorModelGen, Prior\n",
    "from jaxns import TerminationCondition\n",
    "\n",
    "tfpd = tfp.distributions"
   ]
  },
  {
   "cell_type": "code",
   "execution_count": null,
   "metadata": {},
   "outputs": [],
   "source": [
    "def prior_model() -> PriorModelGen:\n",
    "    x = yield Prior(tfpd.Uniform(low=model.lower_bound, high=model.upper_bound), name='x')\n",
    "    return x\n",
    "\n",
    "jaxns_model = Model(prior_model=prior_model, log_likelihood=lambda x: -1 * model.potential_single(x))\n",
    "\n",
    "exact_ns = ExactNestedSampler(model=jaxns_model, num_live_points=1000, num_parallel_samplers=1, max_samples=1e5)\n",
    "\n",
    "termination_reason, state = exact_ns(random.PRNGKey(42), term_cond=TerminationCondition(live_evidence_frac=1e-5))\n",
    "\n",
    "# termination_reason, state = exact_ns(random.PRNGKey(42), term_cond=TerminationCondition(max_samples=1e5))\n",
    "# termination_reason, state = exact_ns(random.PRNGKey(42), term_cond=TerminationCondition(live_evidence_frac=1e-4))\n",
    "\n",
    "results = exact_ns.to_results(state, termination_reason)"
   ]
  },
  {
   "cell_type": "code",
   "execution_count": null,
   "metadata": {},
   "outputs": [],
   "source": [
    "exact_ns.summary(results)\n",
    "exact_ns.plot_diagnostics(results)\n",
    "exact_ns.plot_cornerplot(results)"
   ]
  },
  {
   "cell_type": "code",
   "execution_count": null,
   "metadata": {},
   "outputs": [],
   "source": [
    "import jax.lax as lax\n",
    "from jax.experimental import host_callback\n",
    "\n",
    "def progress_bar_scan(num_samples, message=None):\n",
    "    \"Progress bar for a JAX scan\"\n",
    "    if message is None:\n",
    "            message = f\"Running for {num_samples:,} iterations\"\n",
    "    tqdm_bars = {}\n",
    "\n",
    "    if num_samples > 20:\n",
    "        print_rate = int(num_samples / 20)\n",
    "    else:\n",
    "        print_rate = 1 # if you run the sampler for less than 20 iterations\n",
    "    remainder = num_samples % print_rate\n",
    "\n",
    "    def _define_tqdm(arg, transform):\n",
    "        tqdm_bars[0] = tqdm(range(num_samples))\n",
    "        tqdm_bars[0].set_description(message, refresh=False)\n",
    "\n",
    "    def _update_tqdm(arg, transform):\n",
    "        tqdm_bars[0].update(arg)\n",
    "\n",
    "    def _update_progress_bar(iter_num):\n",
    "        \"Updates tqdm progress bar of a JAX scan or loop\"\n",
    "        _ = lax.cond(\n",
    "            iter_num == 0,\n",
    "            lambda _: host_callback.id_tap(_define_tqdm, None, result=iter_num),\n",
    "            lambda _: iter_num,\n",
    "            operand=None,\n",
    "        )\n",
    "\n",
    "        _ = lax.cond(\n",
    "            # update tqdm every multiple of `print_rate` except at the end\n",
    "            (iter_num % print_rate == 0) & (iter_num != num_samples-remainder),\n",
    "            lambda _: host_callback.id_tap(_update_tqdm, print_rate, result=iter_num),\n",
    "            lambda _: iter_num,\n",
    "            operand=None,\n",
    "        )\n",
    "\n",
    "        _ = lax.cond(\n",
    "            # update tqdm by `remainder`\n",
    "            iter_num == num_samples-remainder,\n",
    "            lambda _: host_callback.id_tap(_update_tqdm, remainder, result=iter_num),\n",
    "            lambda _: iter_num,\n",
    "            operand=None,\n",
    "        )\n",
    "\n",
    "    def _close_tqdm(arg, transform):\n",
    "        tqdm_bars[0].close()\n",
    "\n",
    "    def close_tqdm(result, iter_num):\n",
    "        return lax.cond(\n",
    "            iter_num == num_samples-1,\n",
    "            lambda _: host_callback.id_tap(_close_tqdm, None, result=result),\n",
    "            lambda _: result,\n",
    "            operand=None,\n",
    "        )\n",
    "\n",
    "\n",
    "    def _progress_bar_scan(func):\n",
    "        \"\"\"Decorator that adds a progress bar to `body_fun` used in `lax.scan`.\n",
    "        Note that `body_fun` must either be looping over `np.arange(num_samples)`,\n",
    "        or be looping over a tuple who's first element is `np.arange(num_samples)`\n",
    "        This means that `iter_num` is the current iteration number\n",
    "        \"\"\"\n",
    "\n",
    "        def wrapper_progress_bar(carry, x):\n",
    "            if type(x) is tuple:\n",
    "                iter_num, *_ = x\n",
    "            else:\n",
    "                iter_num = x   \n",
    "            _update_progress_bar(iter_num)\n",
    "            result = func(carry, x)\n",
    "            return close_tqdm(result, iter_num)\n",
    "\n",
    "        return wrapper_progress_bar\n",
    "\n",
    "    return _progress_bar_scan"
   ]
  },
  {
   "cell_type": "code",
   "execution_count": 2,
   "metadata": {},
   "outputs": [
    {
     "name": "stdout",
     "output_type": "stream",
     "text": [
      "6780811 samples obtained from rejection sampling\n"
     ]
    }
   ],
   "source": [
    "from models.JAXHRD import hybrid_rosenbrock\n",
    "\n",
    "n2 = 3\n",
    "n1 = 4\n",
    "DoF = n2 * (n1 - 1) + 1\n",
    "B = np.zeros(DoF)\n",
    "B[0] = 30\n",
    "B[1:] = 20\n",
    "mu=1\n",
    "model = hybrid_rosenbrock(n2, n1, mu, B, seed=35)\n",
    "# bounded_iid_samples = np.load('rosenbrock_iid_bounded_samples.npy')\n",
    "# Load iid samples\n",
    "# try:\n",
    "#     bounded_iid_samples = np.load('rosenbrock_iid_bounded_samples.npy')\n",
    "# except:\n",
    "#     np.random.seed(2)\n",
    "iid_samples = model.newDrawFromPosterior(50000000)\n",
    "truth_table = ((iid_samples > model.lower_bound) & (iid_samples < model.upper_bound))\n",
    "idx = np.where(np.all(truth_table, axis=1))[0]\n",
    "print('%i samples obtained from rejection sampling' % idx.shape[0])\n",
    "bounded_iid_samples = iid_samples[idx]"
   ]
  },
  {
   "cell_type": "markdown",
   "metadata": {},
   "source": [
    "# Try getting it working with full jax langevin"
   ]
  },
  {
   "cell_type": "code",
   "execution_count": 3,
   "metadata": {},
   "outputs": [],
   "source": [
    "from functools import partial\n",
    "# import jax\n",
    "# config.update(\"jax_enable_x64\", True)\n",
    "# config.update(\"jax_debug_nans\", True)\n",
    "# Use potential!\n",
    "from src.reparameterization import reparameterization, sigma, logistic_CDF\n",
    "\n",
    "def ula_kernel(key, param, log_post, grad_log_post, dt):\n",
    "    key, subkey = jax.random.split(key)\n",
    "    paramGrad = grad_log_post(param)\n",
    "\n",
    "    V_X = log_post(param)\n",
    "\n",
    "    # Transform to unbounded domain\n",
    "    eta, V_Y, gmlpt_Y = reparameterization(param, V_X, paramGrad, model.lower_bound, model.upper_bound)\n",
    "\n",
    "    # Perform update in unbounded domain\n",
    "    eta += -gmlpt_Y * dt + jnp.sqrt(2 * dt) * jnp.random.normal(key=subkey, size=(param.shape))\n",
    "\n",
    "    # Convert samples back to bounded domain \n",
    "    param = sigma(logistic_CDF(eta), model.lower_bound, model.upper_bound)\n",
    "\n",
    "    # param = param - dt*paramGrad + jnp.sqrt(2*dt)*jax.random.normal(key=subkey, shape=(param.shape))\n",
    "    \n",
    "    return key, param\n",
    "\n",
    "@partial(jax.jit, static_argnums=(1,2,3))\n",
    "def ula_sampler_full_jax_jit(key, log_post, grad_log_post, n_iter, dt, x_0):\n",
    "\n",
    "    # @progress_bar_scan(n_iter)\n",
    "    def ula_step(carry, x):\n",
    "        key, param = carry\n",
    "        key, param = ula_kernel(key, param, log_post, grad_log_post, dt)\n",
    "        return (key, param), param\n",
    "\n",
    "    carry = (key, x_0)\n",
    "    _, samples = jax.lax.scan(ula_step, carry, None, n_iter)\n",
    "    return samples\n",
    "\n",
    "key = jax.random.PRNGKey(0)\n",
    "\n",
    "\n"
   ]
  },
  {
   "cell_type": "code",
   "execution_count": 4,
   "metadata": {},
   "outputs": [
    {
     "ename": "TypeError",
     "evalue": "ula_kernel() missing 1 required positional argument: 'dt'",
     "output_type": "error",
     "traceback": [
      "\u001b[0;31m---------------------------------------------------------------------------\u001b[0m",
      "\u001b[0;31mTypeError\u001b[0m                                 Traceback (most recent call last)",
      "\u001b[1;32m/mnt/c/Users/alex/Documents/sSVN_GW/notebooks/model_exploration.ipynb Cell 19\u001b[0m line \u001b[0;36m5\n\u001b[1;32m      <a href='vscode-notebook-cell://ssh-remote%2B7b22686f73744e616d65223a22616c69656e776172652d6c696e7578222c2275736572223a22616c6578227d/mnt/c/Users/alex/Documents/sSVN_GW/notebooks/model_exploration.ipynb#X24sdnNjb2RlLXJlbW90ZQ%3D%3D?line=2'>3</a>\u001b[0m eps \u001b[39m=\u001b[39m \u001b[39m1e-4\u001b[39m\n\u001b[1;32m      <a href='vscode-notebook-cell://ssh-remote%2B7b22686f73744e616d65223a22616c69656e776172652d6c696e7578222c2275736572223a22616c6578227d/mnt/c/Users/alex/Documents/sSVN_GW/notebooks/model_exploration.ipynb#X24sdnNjb2RlLXJlbW90ZQ%3D%3D?line=3'>4</a>\u001b[0m X0 \u001b[39m=\u001b[39m model\u001b[39m.\u001b[39m_newDrawFromPrior(n_particles)\n\u001b[0;32m----> <a href='vscode-notebook-cell://ssh-remote%2B7b22686f73744e616d65223a22616c69656e776172652d6c696e7578222c2275736572223a22616c6578227d/mnt/c/Users/alex/Documents/sSVN_GW/notebooks/model_exploration.ipynb#X24sdnNjb2RlLXJlbW90ZQ%3D%3D?line=4'>5</a>\u001b[0m sam \u001b[39m=\u001b[39m ula_sampler_full_jax_jit(key, jax\u001b[39m.\u001b[39mvmap(model\u001b[39m.\u001b[39mgetGradientMinusLogPosterior), n_iter, eps, X0)\n",
      "    \u001b[0;31m[... skipping hidden 12 frame]\u001b[0m\n",
      "\u001b[1;32m/mnt/c/Users/alex/Documents/sSVN_GW/notebooks/model_exploration.ipynb Cell 19\u001b[0m line \u001b[0;36m3\n\u001b[1;32m     <a href='vscode-notebook-cell://ssh-remote%2B7b22686f73744e616d65223a22616c69656e776172652d6c696e7578222c2275736572223a22616c6578227d/mnt/c/Users/alex/Documents/sSVN_GW/notebooks/model_exploration.ipynb#X24sdnNjb2RlLXJlbW90ZQ%3D%3D?line=33'>34</a>\u001b[0m     \u001b[39mreturn\u001b[39;00m (key, param), param\n\u001b[1;32m     <a href='vscode-notebook-cell://ssh-remote%2B7b22686f73744e616d65223a22616c69656e776172652d6c696e7578222c2275736572223a22616c6578227d/mnt/c/Users/alex/Documents/sSVN_GW/notebooks/model_exploration.ipynb#X24sdnNjb2RlLXJlbW90ZQ%3D%3D?line=35'>36</a>\u001b[0m carry \u001b[39m=\u001b[39m (key, x_0)\n\u001b[0;32m---> <a href='vscode-notebook-cell://ssh-remote%2B7b22686f73744e616d65223a22616c69656e776172652d6c696e7578222c2275736572223a22616c6578227d/mnt/c/Users/alex/Documents/sSVN_GW/notebooks/model_exploration.ipynb#X24sdnNjb2RlLXJlbW90ZQ%3D%3D?line=36'>37</a>\u001b[0m _, samples \u001b[39m=\u001b[39m jax\u001b[39m.\u001b[39mlax\u001b[39m.\u001b[39mscan(ula_step, carry, \u001b[39mNone\u001b[39;00m, n_iter)\n\u001b[1;32m     <a href='vscode-notebook-cell://ssh-remote%2B7b22686f73744e616d65223a22616c69656e776172652d6c696e7578222c2275736572223a22616c6578227d/mnt/c/Users/alex/Documents/sSVN_GW/notebooks/model_exploration.ipynb#X24sdnNjb2RlLXJlbW90ZQ%3D%3D?line=37'>38</a>\u001b[0m \u001b[39mreturn\u001b[39;00m samples\n",
      "    \u001b[0;31m[... skipping hidden 9 frame]\u001b[0m\n",
      "\u001b[1;32m/mnt/c/Users/alex/Documents/sSVN_GW/notebooks/model_exploration.ipynb Cell 19\u001b[0m line \u001b[0;36m3\n\u001b[1;32m     <a href='vscode-notebook-cell://ssh-remote%2B7b22686f73744e616d65223a22616c69656e776172652d6c696e7578222c2275736572223a22616c6578227d/mnt/c/Users/alex/Documents/sSVN_GW/notebooks/model_exploration.ipynb#X24sdnNjb2RlLXJlbW90ZQ%3D%3D?line=30'>31</a>\u001b[0m \u001b[39mdef\u001b[39;00m \u001b[39mula_step\u001b[39m(carry, x):\n\u001b[1;32m     <a href='vscode-notebook-cell://ssh-remote%2B7b22686f73744e616d65223a22616c69656e776172652d6c696e7578222c2275736572223a22616c6578227d/mnt/c/Users/alex/Documents/sSVN_GW/notebooks/model_exploration.ipynb#X24sdnNjb2RlLXJlbW90ZQ%3D%3D?line=31'>32</a>\u001b[0m     key, param \u001b[39m=\u001b[39m carry\n\u001b[0;32m---> <a href='vscode-notebook-cell://ssh-remote%2B7b22686f73744e616d65223a22616c69656e776172652d6c696e7578222c2275736572223a22616c6578227d/mnt/c/Users/alex/Documents/sSVN_GW/notebooks/model_exploration.ipynb#X24sdnNjb2RlLXJlbW90ZQ%3D%3D?line=32'>33</a>\u001b[0m     key, param \u001b[39m=\u001b[39m ula_kernel(key, param, grad_log_post, dt)\n\u001b[1;32m     <a href='vscode-notebook-cell://ssh-remote%2B7b22686f73744e616d65223a22616c69656e776172652d6c696e7578222c2275736572223a22616c6578227d/mnt/c/Users/alex/Documents/sSVN_GW/notebooks/model_exploration.ipynb#X24sdnNjb2RlLXJlbW90ZQ%3D%3D?line=33'>34</a>\u001b[0m     \u001b[39mreturn\u001b[39;00m (key, param), param\n",
      "\u001b[0;31mTypeError\u001b[0m: ula_kernel() missing 1 required positional argument: 'dt'"
     ]
    }
   ],
   "source": [
    "n_iter = 10000\n",
    "n_particles = 100\n",
    "eps = 1e-4\n",
    "X0 = model._newDrawFromPrior(n_particles)\n",
    "sam = ula_sampler_full_jax_jit(key, jax.vmap(model.getMinusLogPosterior), jax.vmap(model.getGradientMinusLogPosterior), n_iter, eps, X0)"
   ]
  },
  {
   "cell_type": "code",
   "execution_count": null,
   "metadata": {},
   "outputs": [],
   "source": [
    "reshaped_matrix = sam.reshape((n_iter * n_particles, model.DoF))\n",
    "corner.corner(reshaped_matrix[-1000:])"
   ]
  },
  {
   "cell_type": "code",
   "execution_count": null,
   "metadata": {},
   "outputs": [],
   "source": []
  },
  {
   "cell_type": "code",
   "execution_count": null,
   "metadata": {},
   "outputs": [],
   "source": [
    "sam[3]"
   ]
  },
  {
   "cell_type": "code",
   "execution_count": null,
   "metadata": {},
   "outputs": [],
   "source": []
  }
 ],
 "metadata": {
  "kernelspec": {
   "display_name": "ssvn",
   "language": "python",
   "name": "python3"
  },
  "language_info": {
   "codemirror_mode": {
    "name": "ipython",
    "version": 3
   },
   "file_extension": ".py",
   "mimetype": "text/x-python",
   "name": "python",
   "nbconvert_exporter": "python",
   "pygments_lexer": "ipython3",
   "version": "3.11.4"
  },
  "orig_nbformat": 4
 },
 "nbformat": 4,
 "nbformat_minor": 2
}
