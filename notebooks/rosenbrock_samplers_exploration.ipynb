{
 "cells": [
  {
   "cell_type": "code",
   "execution_count": 2,
   "metadata": {},
   "outputs": [
    {
     "name": "stderr",
     "output_type": "stream",
     "text": [
      "/tmp/ipykernel_885276/551052051.py:2: DeprecationWarning: Accessing jax.config via the jax.config submodule is deprecated.\n",
      "  from jax.config import config\n",
      "WARNING: All log messages before absl::InitializeLog() is called are written to STDERR\n",
      "I0000 00:00:1702922796.562022  885276 tfrt_cpu_pjrt_client.cc:349] TfrtCpuClient created.\n",
      "An NVIDIA GPU may be present on this machine, but a CUDA-enabled jaxlib is not installed. Falling back to cpu.\n"
     ]
    },
    {
     "name": "stdout",
     "output_type": "stream",
     "text": [
      "[CpuDevice(id=0)]\n",
      "cpu\n"
     ]
    }
   ],
   "source": [
    "# Import JAX\n",
    "from jax.config import config\n",
    "config.update(\"jax_enable_x64\", True)\n",
    "from jax import random, devices\n",
    "from jax.lib import xla_bridge\n",
    "import numpy as np\n",
    "import jax\n",
    "\n",
    "# Import Hybrid Rosenbrock\n",
    "import sys\n",
    "sys.path.append(\"..\")\n",
    "from models.JAXHRD import hybrid_rosenbrock\n",
    "\n",
    "import corner\n",
    "\n",
    "# Ensure that GPU is found\n",
    "print(devices())\n",
    "print(xla_bridge.get_backend().platform)"
   ]
  },
  {
   "cell_type": "code",
   "execution_count": 3,
   "metadata": {},
   "outputs": [
    {
     "name": "stdout",
     "output_type": "stream",
     "text": [
      "6780811 samples obtained from rejection sampling\n"
     ]
    }
   ],
   "source": [
    "# Define Hybrid Rosenbrock model\n",
    "n2 = 3\n",
    "n1 = 4\n",
    "DoF = n2 * (n1 - 1) + 1\n",
    "B = np.zeros(DoF)\n",
    "B[0] = 30\n",
    "B[1:] = 20\n",
    "mu=1\n",
    "model = hybrid_rosenbrock(n2, n1, mu, B, seed=35)\n",
    "\n",
    "# Draw i.i.d samples\n",
    "iid_samples = model.newDrawFromPosterior(50000000)\n",
    "truth_table = ((iid_samples > model.lower_bound) & (iid_samples < model.upper_bound))\n",
    "idx = np.where(np.all(truth_table, axis=1))[0]\n",
    "print('%i samples obtained from rejection sampling' % idx.shape[0])\n",
    "bounded_iid_samples = iid_samples[idx]"
   ]
  },
  {
   "cell_type": "markdown",
   "metadata": {},
   "source": [
    "# Get samples with jaxns"
   ]
  },
  {
   "cell_type": "code",
   "execution_count": 6,
   "metadata": {},
   "outputs": [
    {
     "name": "stderr",
     "output_type": "stream",
     "text": [
      "/home/al44828/miniconda3/envs/cpu_samplers/lib/python3.11/site-packages/jax/_src/ops/scatter.py:94: FutureWarning: scatter inputs have incompatible types: cannot safely cast value from dtype=float64 to dtype=int64 with jax_numpy_dtype_promotion='standard'. In future JAX releases this will result in an error.\n",
      "  warnings.warn(\n"
     ]
    },
    {
     "ename": "AttributeError",
     "evalue": "'ArrayImpl' object has no attribute 'next_sample_idx'",
     "output_type": "error",
     "traceback": [
      "\u001b[0;31m---------------------------------------------------------------------------\u001b[0m",
      "\u001b[0;31mAttributeError\u001b[0m                            Traceback (most recent call last)",
      "\u001b[1;32m/home/al44828/projects/sSVN_GW/notebooks/rosenbrock_samplers_exploration.ipynb Cell 4\u001b[0m line \u001b[0;36m3\n\u001b[1;32m     <a href='vscode-notebook-cell://ssh-remote%2B7b22686f73744e616d65223a2231302e3134392e3230302e3134222c2275736572223a22616c3434383238227d/home/al44828/projects/sSVN_GW/notebooks/rosenbrock_samplers_exploration.ipynb#W3sdnNjb2RlLXJlbW90ZQ%3D%3D?line=27'>28</a>\u001b[0m termination_reason, state \u001b[39m=\u001b[39m exact_ns(random\u001b[39m.\u001b[39mPRNGKey(\u001b[39m42\u001b[39m), term_cond\u001b[39m=\u001b[39mTerminationCondition(ess\u001b[39m=\u001b[39m\u001b[39m1e4\u001b[39m))\n\u001b[1;32m     <a href='vscode-notebook-cell://ssh-remote%2B7b22686f73744e616d65223a2231302e3134392e3230302e3134222c2275736572223a22616c3434383238227d/home/al44828/projects/sSVN_GW/notebooks/rosenbrock_samplers_exploration.ipynb#W3sdnNjb2RlLXJlbW90ZQ%3D%3D?line=29'>30</a>\u001b[0m \u001b[39m# Termination condition on total number of samples\u001b[39;00m\n\u001b[1;32m     <a href='vscode-notebook-cell://ssh-remote%2B7b22686f73744e616d65223a2231302e3134392e3230302e3134222c2275736572223a22616c3434383238227d/home/al44828/projects/sSVN_GW/notebooks/rosenbrock_samplers_exploration.ipynb#W3sdnNjb2RlLXJlbW90ZQ%3D%3D?line=30'>31</a>\u001b[0m \u001b[39m# termination_reason, state = exact_ns(random.PRNGKey(42), term_cond=TerminationCondition(max_samples=1e5))\u001b[39;00m\n\u001b[0;32m---> <a href='vscode-notebook-cell://ssh-remote%2B7b22686f73744e616d65223a2231302e3134392e3230302e3134222c2275736572223a22616c3434383238227d/home/al44828/projects/sSVN_GW/notebooks/rosenbrock_samplers_exploration.ipynb#W3sdnNjb2RlLXJlbW90ZQ%3D%3D?line=32'>33</a>\u001b[0m results \u001b[39m=\u001b[39m exact_ns\u001b[39m.\u001b[39;49mto_results(state, termination_reason)\n",
      "File \u001b[0;32m~/miniconda3/envs/cpu_samplers/lib/python3.11/site-packages/jaxns/public.py:165\u001b[0m, in \u001b[0;36mDefaultNestedSampler.to_results\u001b[0;34m(self, termination_reason, state, trim)\u001b[0m\n\u001b[1;32m    150\u001b[0m \u001b[39mdef\u001b[39;00m \u001b[39mto_results\u001b[39m(\u001b[39mself\u001b[39m, termination_reason: IntArray, state: StaticStandardNestedSamplerState,\n\u001b[1;32m    151\u001b[0m                trim: \u001b[39mbool\u001b[39m \u001b[39m=\u001b[39m \u001b[39mTrue\u001b[39;00m) \u001b[39m-\u001b[39m\u001b[39m>\u001b[39m NestedSamplerResults:\n\u001b[1;32m    152\u001b[0m \u001b[39m    \u001b[39m\u001b[39m\"\"\"\u001b[39;00m\n\u001b[1;32m    153\u001b[0m \u001b[39m    Convert the state to results.\u001b[39;00m\n\u001b[1;32m    154\u001b[0m \n\u001b[0;32m   (...)\u001b[0m\n\u001b[1;32m    163\u001b[0m \u001b[39m        results\u001b[39;00m\n\u001b[1;32m    164\u001b[0m \u001b[39m    \"\"\"\u001b[39;00m\n\u001b[0;32m--> 165\u001b[0m     \u001b[39mreturn\u001b[39;00m \u001b[39mself\u001b[39;49m\u001b[39m.\u001b[39;49m_nested_sampler\u001b[39m.\u001b[39;49m_to_results(\n\u001b[1;32m    166\u001b[0m         termination_reason\u001b[39m=\u001b[39;49mtermination_reason,\n\u001b[1;32m    167\u001b[0m         state\u001b[39m=\u001b[39;49mstate,\n\u001b[1;32m    168\u001b[0m         trim\u001b[39m=\u001b[39;49mtrim\n\u001b[1;32m    169\u001b[0m     )\n",
      "File \u001b[0;32m~/miniconda3/envs/cpu_samplers/lib/python3.11/site-packages/jaxns/nested_sampler/standard_static.py:522\u001b[0m, in \u001b[0;36mStandardStaticNestedSampler._to_results\u001b[0;34m(self, termination_reason, state, trim)\u001b[0m\n\u001b[1;32m    519\u001b[0m \u001b[39mdef\u001b[39;00m \u001b[39m_to_results\u001b[39m(\u001b[39mself\u001b[39m, termination_reason: IntArray, state: StaticStandardNestedSamplerState,\n\u001b[1;32m    520\u001b[0m                 trim: \u001b[39mbool\u001b[39m) \u001b[39m-\u001b[39m\u001b[39m>\u001b[39m NestedSamplerResults:\n\u001b[0;32m--> 522\u001b[0m     num_samples \u001b[39m=\u001b[39m jnp\u001b[39m.\u001b[39mminimum(state\u001b[39m.\u001b[39;49mnext_sample_idx, state\u001b[39m.\u001b[39msample_collection\u001b[39m.\u001b[39mlog_L\u001b[39m.\u001b[39msize)\n\u001b[1;32m    524\u001b[0m     sample_collection \u001b[39m=\u001b[39m state\u001b[39m.\u001b[39msample_collection\n\u001b[1;32m    526\u001b[0m     \u001b[39mif\u001b[39;00m trim:\n",
      "\u001b[0;31mAttributeError\u001b[0m: 'ArrayImpl' object has no attribute 'next_sample_idx'"
     ]
    }
   ],
   "source": [
    "# Import jaxns\n",
    "import tensorflow_probability.substrates.jax as tfp\n",
    "from jaxns import DefaultNestedSampler\n",
    "from jaxns import Model\n",
    "from jaxns import PriorModelGen, Prior\n",
    "from jaxns import TerminationCondition\n",
    "from jaxns import save_results, load_results\n",
    "from jaxns.utils import resample\n",
    "\n",
    "tfpd = tfp.distributions\n",
    "\n",
    "def prior_model() -> PriorModelGen:\n",
    "    x = yield Prior(tfpd.Uniform(low=model.lower_bound, high=model.upper_bound), name='x')\n",
    "    return x\n",
    "\n",
    "jaxns_model = Model(prior_model=prior_model, log_likelihood=jax.jit(lambda x: -1 * model.getMinusLogPosterior(x)))\n",
    "\n",
    "# exact_ns = ExactNestedSampler(model=jaxns_model, num_live_points=1000, num_parallel_samplers=1, max_samples=1e5)\n",
    "exact_ns = DefaultNestedSampler(model=jaxns_model, num_live_points=1000, max_samples=1e5)\n",
    "\n",
    "# Try JIT?\n",
    "# exact_ns = jax.jit(ExactNestedSampler)(model=jaxns_model, num_live_points=1000, num_parallel_samplers=1, max_samples=1e5)\n",
    "\n",
    "# Termination condition on Z\n",
    "# termination_reason, state = exact_ns(random.PRNGKey(42), term_cond=TerminationCondition(live_evidence_frac=1e-4))\n",
    "\n",
    "# Termination condition on ESS\n",
    "termination_reason, state = exact_ns(random.PRNGKey(42), term_cond=TerminationCondition(ess=1e4))\n",
    "\n",
    "# Termination condition on total number of samples\n",
    "# termination_reason, state = exact_ns(random.PRNGKey(42), term_cond=TerminationCondition(max_samples=1e5))\n",
    "\n",
    "results = exact_ns.to_results(state, termination_reason)"
   ]
  },
  {
   "cell_type": "code",
   "execution_count": null,
   "metadata": {},
   "outputs": [],
   "source": [
    "# Save results?\n",
    "# save_results(results, 'rosenbrock_jaxns_results')\n",
    "print(results.ESS)\n",
    "exact_ns.summary(results)\n",
    "# exact_ns.plot_diagnostics(results)\n",
    "# exact_ns.plot_cornerplot(results)"
   ]
  },
  {
   "cell_type": "code",
   "execution_count": null,
   "metadata": {},
   "outputs": [],
   "source": [
    "# from jaxns import load_results \n",
    "# results = load_results('rosenbrock_jaxns_results.npz')\n",
    "\n",
    "samples = resample(random.PRNGKey(42), results.samples, results.log_dp_mean, S=int(results.ESS))['x']\n",
    "fig1 = corner.corner(bounded_iid_samples[0:30000], hist_kwargs={'density':True})\n",
    "corner.corner(samples, color='r', fig=fig1, hist_kwargs={'density':True})\n"
   ]
  },
  {
   "cell_type": "markdown",
   "metadata": {},
   "source": [
    "# Get samples with BlackJAX"
   ]
  },
  {
   "cell_type": "code",
   "execution_count": null,
   "metadata": {},
   "outputs": [],
   "source": [
    "# BlackJAX Hello World!\n",
    "\n",
    "import jax\n",
    "import jax.numpy as jnp\n",
    "import jax.scipy.stats as stats\n",
    "import numpy as np\n",
    "\n",
    "import blackjax\n",
    "\n",
    "observed = np.random.normal(10, 20, size=1_000)\n",
    "def logdensity_fn(x):\n",
    "      logpdf = stats.norm.logpdf(observed, x[\"loc\"], x[\"scale\"])\n",
    "      return jnp.sum(logpdf)\n",
    "\n",
    "# Build the kernel\n",
    "step_size = 1e-3\n",
    "inverse_mass_matrix = jnp.array([1., 1.])\n",
    "nuts = blackjax.nuts(logdensity_fn, step_size, inverse_mass_matrix)\n",
    "\n",
    "# Initialize the state\n",
    "initial_position = {\"loc\": 1., \"scale\": 2.}\n",
    "state = nuts.init(initial_position)\n",
    "\n",
    "samples = []\n",
    "\n",
    "# Iterate\n",
    "rng_key = jax.random.key(0)\n",
    "step = jax.jit(nuts.step)\n",
    "for _ in range(1_000):\n",
    "      rng_key, nuts_key = jax.random.split(rng_key)\n",
    "      state, _ = step(nuts_key, state)\n",
    "      samples.append(state.position['loc'])"
   ]
  },
  {
   "cell_type": "code",
   "execution_count": 32,
   "metadata": {},
   "outputs": [
    {
     "data": {
      "text/plain": [
       "(1000,)"
      ]
     },
     "execution_count": 32,
     "metadata": {},
     "output_type": "execute_result"
    }
   ],
   "source": [
    "\n",
    "observed.shape"
   ]
  },
  {
   "cell_type": "code",
   "execution_count": 29,
   "metadata": {},
   "outputs": [
    {
     "data": {
      "image/png": "[encoded data removed]",
      "text/plain": [
       "<Figure size 340x340 with 1 Axes>"
      ]
     },
     "execution_count": 29,
     "metadata": {},
     "output_type": "execute_result"
    },
    {
     "data": {
      "image/png": "[encoded data removed]",
      "text/plain": [
       "<Figure size 340x340 with 1 Axes>"
      ]
     },
     "metadata": {},
     "output_type": "display_data"
    }
   ],
   "source": [
    "import corner\n",
    "corner.corner(np.array(samples)[-100:])"
   ]
  },
  {
   "cell_type": "code",
   "execution_count": 28,
   "metadata": {},
   "outputs": [
    {
     "data": {
      "text/plain": [
       "(204,)"
      ]
     },
     "execution_count": 28,
     "metadata": {},
     "output_type": "execute_result"
    }
   ],
   "source": [
    "np.array(samples).shape"
   ]
  },
  {
   "cell_type": "code",
   "execution_count": null,
   "metadata": {},
   "outputs": [],
   "source": []
  },
  {
   "cell_type": "code",
   "execution_count": 6,
   "metadata": {},
   "outputs": [
    {
     "ename": "TypeError",
     "evalue": "'<=' not supported between instances of 'dict' and 'dict'",
     "output_type": "error",
     "traceback": [
      "\u001b[0;31m---------------------------------------------------------------------------\u001b[0m",
      "\u001b[0;31mTypeError\u001b[0m                                 Traceback (most recent call last)",
      "\u001b[1;32m/mnt/c/Users/alex/Documents/sSVN_GW/notebooks/rosenbrock_samplers_exploration.ipynb Cell 9\u001b[0m line \u001b[0;36m3\n\u001b[1;32m      <a href='vscode-notebook-cell://tunnel%2Btest/mnt/c/Users/alex/Documents/sSVN_GW/notebooks/rosenbrock_samplers_exploration.ipynb#X21sdnNjb2RlLXJlbW90ZQ%3D%3D?line=0'>1</a>\u001b[0m \u001b[39mimport\u001b[39;00m \u001b[39mcorner\u001b[39;00m\n\u001b[0;32m----> <a href='vscode-notebook-cell://tunnel%2Btest/mnt/c/Users/alex/Documents/sSVN_GW/notebooks/rosenbrock_samplers_exploration.ipynb#X21sdnNjb2RlLXJlbW90ZQ%3D%3D?line=2'>3</a>\u001b[0m corner\u001b[39m.\u001b[39mcorner(samples)\n",
      "File \u001b[0;32m~/miniconda3/envs/ssvn_clone/lib/python3.11/site-packages/corner/corner.py:214\u001b[0m, in \u001b[0;36mcorner\u001b[0;34m(xs, bins, range, weights, color, hist_bin_factor, smooth, smooth1d, labels, label_kwargs, titles, show_titles, title_fmt, title_kwargs, truths, truth_color, scale_hist, quantiles, verbose, fig, max_n_ticks, top_ticks, use_math_text, reverse, labelpad, hist_kwargs, **hist2d_kwargs)\u001b[0m\n\u001b[1;32m    212\u001b[0m     \u001b[39mrange\u001b[39m \u001b[39m=\u001b[39m hist2d_kwargs\u001b[39m.\u001b[39mpop(\u001b[39m\"\u001b[39m\u001b[39mextents\u001b[39m\u001b[39m\"\u001b[39m)\n\u001b[1;32m    213\u001b[0m \u001b[39melse\u001b[39;00m:\n\u001b[0;32m--> 214\u001b[0m     \u001b[39mrange\u001b[39m \u001b[39m=\u001b[39m [[x\u001b[39m.\u001b[39mmin(), x\u001b[39m.\u001b[39mmax()] \u001b[39mfor\u001b[39;00m x \u001b[39min\u001b[39;00m xs]\n\u001b[1;32m    215\u001b[0m     \u001b[39m# Check for parameters that never change.\u001b[39;00m\n\u001b[1;32m    216\u001b[0m     m \u001b[39m=\u001b[39m np\u001b[39m.\u001b[39marray([e[\u001b[39m0\u001b[39m] \u001b[39m==\u001b[39m e[\u001b[39m1\u001b[39m] \u001b[39mfor\u001b[39;00m e \u001b[39min\u001b[39;00m \u001b[39mrange\u001b[39m], dtype\u001b[39m=\u001b[39m\u001b[39mbool\u001b[39m)\n",
      "File \u001b[0;32m~/miniconda3/envs/ssvn_clone/lib/python3.11/site-packages/corner/corner.py:214\u001b[0m, in \u001b[0;36m<listcomp>\u001b[0;34m(.0)\u001b[0m\n\u001b[1;32m    212\u001b[0m     \u001b[39mrange\u001b[39m \u001b[39m=\u001b[39m hist2d_kwargs\u001b[39m.\u001b[39mpop(\u001b[39m\"\u001b[39m\u001b[39mextents\u001b[39m\u001b[39m\"\u001b[39m)\n\u001b[1;32m    213\u001b[0m \u001b[39melse\u001b[39;00m:\n\u001b[0;32m--> 214\u001b[0m     \u001b[39mrange\u001b[39m \u001b[39m=\u001b[39m [[x\u001b[39m.\u001b[39mmin(), x\u001b[39m.\u001b[39mmax()] \u001b[39mfor\u001b[39;00m x \u001b[39min\u001b[39;00m xs]\n\u001b[1;32m    215\u001b[0m     \u001b[39m# Check for parameters that never change.\u001b[39;00m\n\u001b[1;32m    216\u001b[0m     m \u001b[39m=\u001b[39m np\u001b[39m.\u001b[39marray([e[\u001b[39m0\u001b[39m] \u001b[39m==\u001b[39m e[\u001b[39m1\u001b[39m] \u001b[39mfor\u001b[39;00m e \u001b[39min\u001b[39;00m \u001b[39mrange\u001b[39m], dtype\u001b[39m=\u001b[39m\u001b[39mbool\u001b[39m)\n",
      "File \u001b[0;32m~/miniconda3/envs/ssvn_clone/lib/python3.11/site-packages/numpy/core/_methods.py:45\u001b[0m, in \u001b[0;36m_amin\u001b[0;34m(a, axis, out, keepdims, initial, where)\u001b[0m\n\u001b[1;32m     43\u001b[0m \u001b[39mdef\u001b[39;00m \u001b[39m_amin\u001b[39m(a, axis\u001b[39m=\u001b[39m\u001b[39mNone\u001b[39;00m, out\u001b[39m=\u001b[39m\u001b[39mNone\u001b[39;00m, keepdims\u001b[39m=\u001b[39m\u001b[39mFalse\u001b[39;00m,\n\u001b[1;32m     44\u001b[0m           initial\u001b[39m=\u001b[39m_NoValue, where\u001b[39m=\u001b[39m\u001b[39mTrue\u001b[39;00m):\n\u001b[0;32m---> 45\u001b[0m     \u001b[39mreturn\u001b[39;00m umr_minimum(a, axis, \u001b[39mNone\u001b[39;00m, out, keepdims, initial, where)\n",
      "\u001b[0;31mTypeError\u001b[0m: '<=' not supported between instances of 'dict' and 'dict'"
     ]
    }
   ],
   "source": [
    "import corner\n",
    "\n",
    "corner.corner(samples)"
   ]
  },
  {
   "cell_type": "code",
   "execution_count": null,
   "metadata": {},
   "outputs": [],
   "source": [
    "from fastprogress import progress_bar\n",
    "\n",
    "\n",
    "# 50k iterations\n",
    "num_training_steps = 50000\n",
    "schedule_fn = lambda k: 0.05 * k ** (-0.55)\n",
    "schedule = [schedule_fn(i) for i in range(1, num_training_steps+1)]\n",
    "\n",
    "grad_fn = lambda x, _: jax.grad(logprob_fn)(x)\n",
    "sgld = blackjax.sgld(grad_fn)\n",
    "\n",
    "rng_key = jax.random.PRNGKey(3)\n",
    "init_position = -10 + 20 * jax.random.uniform(rng_key, shape=(2,))\n",
    "\n",
    "position = sgld.init(init_position)\n",
    "sgld_samples = []\n",
    "for i in progress_bar(range(num_training_steps)):\n",
    "    _, rng_key = jax.random.split(rng_key)\n",
    "    position = jax.jit(sgld.step)(rng_key, position, 0, schedule[i])\n",
    "    sgld_samples.append(position)"
   ]
  },
  {
   "cell_type": "markdown",
   "metadata": {},
   "source": [
    "# TODO\n",
    "___\n",
    "\n",
    "(1) Draw samples using pymc's implementation of NUTS\n"
   ]
  },
  {
   "cell_type": "markdown",
   "metadata": {},
   "source": [
    "1. Define numpyro likelihood\n",
    "\n",
    "2. NUTS kernel?\n",
    "\n",
    "3. run and get samples?\n",
    "\n",
    "4. confirm jax + jit + gpu is properly used"
   ]
  },
  {
   "cell_type": "code",
   "execution_count": null,
   "metadata": {},
   "outputs": [],
   "source": [
    "# This seems like the simplest case\n",
    "\n",
    "# How do we input the prior ranges for each variable now????\n",
    "\n",
    "# How to install numpyro without fucking up my jax distribution????\n",
    "\n",
    "\"\"\" \n",
    "References\n",
    "----------\n",
    "\n",
    "https://forum.pyro.ai/t/user-distribution-sampling/3191\n",
    "\n",
    "\"\"\"\n",
    "\n",
    "kernel = NUTS(potential_fn=lambda x: -mixture_gaussian_model.logpdf(x))\n",
    "mcmc = MCMC(kernel, num_warmup, num_samples)\n",
    "mcmc.run(PRNGKey(0), init_params=jnp.zeros(2))"
   ]
  },
  {
   "cell_type": "code",
   "execution_count": null,
   "metadata": {},
   "outputs": [],
   "source": [
    "import numpyro\n",
    "import numpyro.distributions as dist\n",
    "from numpyro.infer import MCMC, NUTS, init_to_value\n",
    "\n",
    "prior_sigma_Mc = 5.0\n",
    "prior_sigma_eta = 0.1\n",
    "prior_sigma_chi = 5.0\n",
    "prior_sigma_D = 10.0\n",
    "\n",
    "prior_sigma_tc = 0.1\n",
    "prior_sigma_phic = np.pi\n",
    "\n",
    "\n",
    "def numpyro_likelihood(f, sigma, y=None):\n",
    "    # Parameters of the model\n",
    "    log_Mc = numpyro.sample(\"log_Mc\", dist.Normal(np.log(Mc), prior_sigma_Mc))\n",
    "    eta_ = numpyro.sample(\"eta\", dist.Uniform(0.0, 0.25))\n",
    "    \n",
    "    chi1_ = numpyro.sample(\"chi1\", dist.Uniform(-1., 1.))\n",
    "    chi2_ = numpyro.sample(\"chi2\", dist.Uniform(-1., 1.))\n",
    "    \n",
    "    log_D = numpyro.sample(\"log_D\", dist.Normal(np.log(D), prior_sigma_D))\n",
    "    \n",
    "    tc_ = numpyro.sample(\"tc\", dist.Uniform(tc-prior_sigma_tc, tc+prior_sigma_tc))\n",
    "    \n",
    "    phi_param = numpyro.sample(\"phi_param\", dist.Normal(0., 1.0), sample_shape=(2,))\n",
    "    phic_ = numpyro.deterministic(\"phic\", 0.5 * jnp.arctan2(phi_param[1], phi_param[0]))\n",
    "#     phic_ = numpyro.sample(\"phic\", dist.Normal(phic, prior_sigma_phic))\n",
    "    \n",
    "    # This is the part I'm not sure I understand...\n",
    "    # I'm not sure which part should be data and which part is \n",
    "    params = jnp.array([jnp.exp(log_Mc), eta_, chi1_, chi2_, jnp.exp(log_D), tc_, phic_])\n",
    "    waveform = gen_IMRPhenomD(f, params)\n",
    "    \n",
    "    # Likelihood definition\n",
    "    numpyro.sample(\n",
    "        \"real_obs\", dist.Normal(waveform.real, sigma), obs=None if y is None else y.real\n",
    "    )\n",
    "    numpyro.sample(\n",
    "        \"imag_obs\", dist.Normal(waveform.imag, sigma), obs=None if y is None else y.imag\n",
    "    )\n",
    "\n",
    "\n",
    "\n",
    "init = {\n",
    "\"log_Mc\": np.log(Mc),\n",
    "\"eta\": eta,\n",
    "\"chi1\": chi1,\n",
    "\"chi2\": chi2,\n",
    "\"log_D\": np.log(D),\n",
    "\"tc\": tc,\n",
    "\"phi_param\": np.array([np.cos(phic), np.sin(phic)]),\n",
    "}\n",
    "nuts_kernel = NUTS(\n",
    "    numpyro_likelihood, dense_mass=True, target_accept_prob=0.9,\n",
    "    init_strategy=init_to_value(values=init)\n",
    ")\n",
    "mcmc = MCMC(\n",
    "    nuts_kernel,\n",
    "    num_warmup=1000,\n",
    "    num_samples=1000,\n",
    "    num_chains=2,\n",
    "    progress_bar=True,\n",
    ")\n",
    "rng_key = jax.random.PRNGKey(34923)\n",
    "\n",
    "mcmc.run(rng_key, f_list[:1500], sigma_list[:1500], y=data[:1500])\n",
    "samples = mcmc.get_samples()"
   ]
  },
  {
   "cell_type": "code",
   "execution_count": null,
   "metadata": {},
   "outputs": [],
   "source": [
    "def model():\n",
    "    # replace Uniform by ImproperUniform for other kinds of supports\n",
    "    x = numpyro.sample(\"x\", dist.Uniform(...))\n",
    "    numpyro.factor(\"log_prob\", your_custom_log_prob(x))\n",
    "\n",
    "nuts_kernel = NUTS(numpyro_likelihood,\n",
    "                   dense_mass=True,\n",
    "                   target_accept_prob=0.9,\n",
    "                   init_strategy=init_to_value(values=init))\n",
    "\n",
    "mcmc = MCMC(\n",
    "    nuts_kernel,\n",
    "    num_warmup=1000,\n",
    "    num_samples=1000,\n",
    "    num_chains=2,\n",
    "    progress_bar=True,\n",
    ")\n",
    "\n",
    "rng_key = jax.random.PRNGKey(34923)\n",
    "\n",
    "mcmc.run(rng_key, f_list[:1500], sigma_list[:1500], y=data[:1500])\n",
    "samples = mcmc.get_samples()"
   ]
  },
  {
   "cell_type": "code",
   "execution_count": null,
   "metadata": {},
   "outputs": [],
   "source": [
    "import jax.numpy as jnp\n",
    "import jax.random as random\n",
    "import numpyro\n",
    "import numpyro.distributions as dist\n",
    "from numpyro.infer import MCMC, NUTS\n",
    "\n",
    "###\n",
    "# How do we feed in our likelihood to this? Also, how do we make sure JAX is being utilized???\n",
    "###\n",
    "\n",
    "\n",
    "def model(x, y=None, y_err=0.1):\n",
    "\n",
    "    # define parameters (incl. prior ranges)\n",
    "    l = numpyro.sample('l', dist.Uniform(-2, 2))\n",
    "    m = numpyro.sample('m', dist.Uniform(-2, 2))\n",
    "    s = numpyro.sample('s', dist.Uniform(0, 2))\n",
    "    a = numpyro.sample('a', dist.Uniform(-2, 2))\n",
    "    b = numpyro.sample('b', dist.Uniform(-2, 2))\n",
    "\n",
    "    # implement the model\n",
    "    # needs jax numpy for differentiability here\n",
    "    peak = l * jnp.exp(-(m-x)**2 / (2*s**2))\n",
    "    background  = a + b*x\n",
    "    y_model = peak + background\n",
    "\n",
    "    # notice that we clamp the outcome of this sampling to the observation y\n",
    "    numpyro.sample('obs', dist.Normal(y_model, y_err), obs=y)\n",
    "\n",
    "# need to split the key for jax's random implementation\n",
    "rng_key = random.PRNGKey(0)\n",
    "rng_key, rng_key_ = random.split(rng_key)\n",
    "\n",
    "# run HMC with NUTS\n",
    "kernel = NUTS(model, target_accept_prob=0.9)\n",
    "mcmc = MCMC(kernel, num_warmup=1000, num_samples=3000)\n",
    "mcmc.run(rng_key_, x=x, y=y, y_err=y_err)\n",
    "mcmc.print_summary()"
   ]
  }
 ],
 "metadata": {
  "kernelspec": {
   "display_name": "ssvn",
   "language": "python",
   "name": "python3"
  },
  "language_info": {
   "codemirror_mode": {
    "name": "ipython",
    "version": 3
   },
   "file_extension": ".py",
   "mimetype": "text/x-python",
   "name": "python",
   "nbconvert_exporter": "python",
   "pygments_lexer": "ipython3",
   "version": "3.11.5"
  },
  "orig_nbformat": 4
 },
 "nbformat": 4,
 "nbformat_minor": 2
}
