{
 "cells": [
  {
   "cell_type": "code",
   "execution_count": null,
   "metadata": {},
   "outputs": [],
   "source": [
    "import numpy as np\n",
    "import jax.numpy as jnp\n",
    "import jax\n",
    "from jax import config\n",
    "\n",
    "# Set 64-bit precision explicitly\n",
    "config.update(\"jax_enable_x64\", True)\n",
    "\n",
    "print('Using:', jax.devices())\n",
    "\n",
    "# Function we're benchmarking (works in both NumPy & JAX)\n",
    "def f(x):  \n",
    "  return x.T @ (x - x.mean(axis=0))\n",
    "\n",
    "x_np = np.ones((1000, 1000)) \n",
    "%timeit f(x_np)  # measure NumPy runtime\n",
    "\n",
    "%time x_jax = jax.device_put(x_np)  # measure JAX device transfer time\n",
    "f_jit = jax.jit(f)\n",
    "%time f_jit(x_jax).block_until_ready()  # measure JAX compilation time\n",
    "%timeit f_jit(x_jax).block_until_ready()  # measure JAX runtime"
   ]
  }
 ],
 "metadata": {
  "language_info": {
   "name": "python"
  },
  "orig_nbformat": 4
 },
 "nbformat": 4,
 "nbformat_minor": 2
}
